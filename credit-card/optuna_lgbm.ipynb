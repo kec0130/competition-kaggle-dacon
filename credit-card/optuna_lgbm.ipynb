{
 "cells": [
  {
   "cell_type": "markdown",
   "metadata": {
    "toc": true
   },
   "source": [
    "<h1>Contents<span class=\"tocSkip\"></span></h1>\n",
    "<div class=\"toc\"><ul class=\"toc-item\"></ul></div>"
   ]
  },
  {
   "cell_type": "code",
   "execution_count": 1,
   "metadata": {},
   "outputs": [],
   "source": [
    "import os\n",
    "import warnings\n",
    "warnings.filterwarnings('ignore')\n",
    "import pandas as pd\n",
    "import numpy as np\n",
    "import matplotlib.pyplot as plt\n",
    "import seaborn as sns\n",
    "from IPython.display import display\n",
    "from sklearn.preprocessing import LabelEncoder\n",
    "import lightgbm as lgb\n",
    "import sklearn.metrics\n",
    "from sklearn.model_selection import train_test_split\n",
    "import optuna"
   ]
  },
  {
   "cell_type": "code",
   "execution_count": 2,
   "metadata": {},
   "outputs": [
    {
     "data": {
      "text/plain": [
       "['test.csv', 'train.csv', 'sample_submission.csv']"
      ]
     },
     "execution_count": 2,
     "metadata": {},
     "output_type": "execute_result"
    }
   ],
   "source": [
    "os.listdir('data')"
   ]
  },
  {
   "cell_type": "code",
   "execution_count": 3,
   "metadata": {},
   "outputs": [],
   "source": [
    "train_path = os.path.join('data', 'train.csv')\n",
    "test_path = os.path.join('data', 'test.csv')"
   ]
  },
  {
   "cell_type": "code",
   "execution_count": 4,
   "metadata": {},
   "outputs": [],
   "source": [
    "train = pd.read_csv(train_path)\n",
    "test = pd.read_csv(test_path)"
   ]
  },
  {
   "cell_type": "code",
   "execution_count": 5,
   "metadata": {},
   "outputs": [],
   "source": [
    "def data_look(df):\n",
    "    display(df.info())\n",
    "    print()\n",
    "    display(df.isna().sum())\n",
    "    print()\n",
    "    display(df.describe())\n",
    "    print()\n",
    "    display(df.head())"
   ]
  },
  {
   "cell_type": "code",
   "execution_count": 6,
   "metadata": {},
   "outputs": [
    {
     "name": "stdout",
     "output_type": "stream",
     "text": [
      "<class 'pandas.core.frame.DataFrame'>\n",
      "RangeIndex: 26457 entries, 0 to 26456\n",
      "Data columns (total 20 columns):\n",
      " #   Column         Non-Null Count  Dtype  \n",
      "---  ------         --------------  -----  \n",
      " 0   index          26457 non-null  int64  \n",
      " 1   gender         26457 non-null  object \n",
      " 2   car            26457 non-null  object \n",
      " 3   reality        26457 non-null  object \n",
      " 4   child_num      26457 non-null  int64  \n",
      " 5   income_total   26457 non-null  float64\n",
      " 6   income_type    26457 non-null  object \n",
      " 7   edu_type       26457 non-null  object \n",
      " 8   family_type    26457 non-null  object \n",
      " 9   house_type     26457 non-null  object \n",
      " 10  DAYS_BIRTH     26457 non-null  int64  \n",
      " 11  DAYS_EMPLOYED  26457 non-null  int64  \n",
      " 12  FLAG_MOBIL     26457 non-null  int64  \n",
      " 13  work_phone     26457 non-null  int64  \n",
      " 14  phone          26457 non-null  int64  \n",
      " 15  email          26457 non-null  int64  \n",
      " 16  occyp_type     18286 non-null  object \n",
      " 17  family_size    26457 non-null  float64\n",
      " 18  begin_month    26457 non-null  float64\n",
      " 19  credit         26457 non-null  float64\n",
      "dtypes: float64(4), int64(8), object(8)\n",
      "memory usage: 4.0+ MB\n"
     ]
    },
    {
     "data": {
      "text/plain": [
       "None"
      ]
     },
     "metadata": {},
     "output_type": "display_data"
    },
    {
     "name": "stdout",
     "output_type": "stream",
     "text": [
      "\n"
     ]
    },
    {
     "data": {
      "text/plain": [
       "index               0\n",
       "gender              0\n",
       "car                 0\n",
       "reality             0\n",
       "child_num           0\n",
       "income_total        0\n",
       "income_type         0\n",
       "edu_type            0\n",
       "family_type         0\n",
       "house_type          0\n",
       "DAYS_BIRTH          0\n",
       "DAYS_EMPLOYED       0\n",
       "FLAG_MOBIL          0\n",
       "work_phone          0\n",
       "phone               0\n",
       "email               0\n",
       "occyp_type       8171\n",
       "family_size         0\n",
       "begin_month         0\n",
       "credit              0\n",
       "dtype: int64"
      ]
     },
     "metadata": {},
     "output_type": "display_data"
    },
    {
     "name": "stdout",
     "output_type": "stream",
     "text": [
      "\n"
     ]
    },
    {
     "data": {
      "text/html": [
       "<div>\n",
       "<style scoped>\n",
       "    .dataframe tbody tr th:only-of-type {\n",
       "        vertical-align: middle;\n",
       "    }\n",
       "\n",
       "    .dataframe tbody tr th {\n",
       "        vertical-align: top;\n",
       "    }\n",
       "\n",
       "    .dataframe thead th {\n",
       "        text-align: right;\n",
       "    }\n",
       "</style>\n",
       "<table border=\"1\" class=\"dataframe\">\n",
       "  <thead>\n",
       "    <tr style=\"text-align: right;\">\n",
       "      <th></th>\n",
       "      <th>index</th>\n",
       "      <th>child_num</th>\n",
       "      <th>income_total</th>\n",
       "      <th>DAYS_BIRTH</th>\n",
       "      <th>DAYS_EMPLOYED</th>\n",
       "      <th>FLAG_MOBIL</th>\n",
       "      <th>work_phone</th>\n",
       "      <th>phone</th>\n",
       "      <th>email</th>\n",
       "      <th>family_size</th>\n",
       "      <th>begin_month</th>\n",
       "      <th>credit</th>\n",
       "    </tr>\n",
       "  </thead>\n",
       "  <tbody>\n",
       "    <tr>\n",
       "      <th>count</th>\n",
       "      <td>26457.000000</td>\n",
       "      <td>26457.000000</td>\n",
       "      <td>2.645700e+04</td>\n",
       "      <td>26457.000000</td>\n",
       "      <td>26457.000000</td>\n",
       "      <td>26457.0</td>\n",
       "      <td>26457.000000</td>\n",
       "      <td>26457.000000</td>\n",
       "      <td>26457.000000</td>\n",
       "      <td>26457.000000</td>\n",
       "      <td>26457.000000</td>\n",
       "      <td>26457.000000</td>\n",
       "    </tr>\n",
       "    <tr>\n",
       "      <th>mean</th>\n",
       "      <td>13228.000000</td>\n",
       "      <td>0.428658</td>\n",
       "      <td>1.873065e+05</td>\n",
       "      <td>-15958.053899</td>\n",
       "      <td>59068.750728</td>\n",
       "      <td>1.0</td>\n",
       "      <td>0.224742</td>\n",
       "      <td>0.294251</td>\n",
       "      <td>0.091280</td>\n",
       "      <td>2.196848</td>\n",
       "      <td>-26.123294</td>\n",
       "      <td>1.519560</td>\n",
       "    </tr>\n",
       "    <tr>\n",
       "      <th>std</th>\n",
       "      <td>7637.622372</td>\n",
       "      <td>0.747326</td>\n",
       "      <td>1.018784e+05</td>\n",
       "      <td>4201.589022</td>\n",
       "      <td>137475.427503</td>\n",
       "      <td>0.0</td>\n",
       "      <td>0.417420</td>\n",
       "      <td>0.455714</td>\n",
       "      <td>0.288013</td>\n",
       "      <td>0.916717</td>\n",
       "      <td>16.559550</td>\n",
       "      <td>0.702283</td>\n",
       "    </tr>\n",
       "    <tr>\n",
       "      <th>min</th>\n",
       "      <td>0.000000</td>\n",
       "      <td>0.000000</td>\n",
       "      <td>2.700000e+04</td>\n",
       "      <td>-25152.000000</td>\n",
       "      <td>-15713.000000</td>\n",
       "      <td>1.0</td>\n",
       "      <td>0.000000</td>\n",
       "      <td>0.000000</td>\n",
       "      <td>0.000000</td>\n",
       "      <td>1.000000</td>\n",
       "      <td>-60.000000</td>\n",
       "      <td>0.000000</td>\n",
       "    </tr>\n",
       "    <tr>\n",
       "      <th>25%</th>\n",
       "      <td>6614.000000</td>\n",
       "      <td>0.000000</td>\n",
       "      <td>1.215000e+05</td>\n",
       "      <td>-19431.000000</td>\n",
       "      <td>-3153.000000</td>\n",
       "      <td>1.0</td>\n",
       "      <td>0.000000</td>\n",
       "      <td>0.000000</td>\n",
       "      <td>0.000000</td>\n",
       "      <td>2.000000</td>\n",
       "      <td>-39.000000</td>\n",
       "      <td>1.000000</td>\n",
       "    </tr>\n",
       "    <tr>\n",
       "      <th>50%</th>\n",
       "      <td>13228.000000</td>\n",
       "      <td>0.000000</td>\n",
       "      <td>1.575000e+05</td>\n",
       "      <td>-15547.000000</td>\n",
       "      <td>-1539.000000</td>\n",
       "      <td>1.0</td>\n",
       "      <td>0.000000</td>\n",
       "      <td>0.000000</td>\n",
       "      <td>0.000000</td>\n",
       "      <td>2.000000</td>\n",
       "      <td>-24.000000</td>\n",
       "      <td>2.000000</td>\n",
       "    </tr>\n",
       "    <tr>\n",
       "      <th>75%</th>\n",
       "      <td>19842.000000</td>\n",
       "      <td>1.000000</td>\n",
       "      <td>2.250000e+05</td>\n",
       "      <td>-12446.000000</td>\n",
       "      <td>-407.000000</td>\n",
       "      <td>1.0</td>\n",
       "      <td>0.000000</td>\n",
       "      <td>1.000000</td>\n",
       "      <td>0.000000</td>\n",
       "      <td>3.000000</td>\n",
       "      <td>-12.000000</td>\n",
       "      <td>2.000000</td>\n",
       "    </tr>\n",
       "    <tr>\n",
       "      <th>max</th>\n",
       "      <td>26456.000000</td>\n",
       "      <td>19.000000</td>\n",
       "      <td>1.575000e+06</td>\n",
       "      <td>-7705.000000</td>\n",
       "      <td>365243.000000</td>\n",
       "      <td>1.0</td>\n",
       "      <td>1.000000</td>\n",
       "      <td>1.000000</td>\n",
       "      <td>1.000000</td>\n",
       "      <td>20.000000</td>\n",
       "      <td>0.000000</td>\n",
       "      <td>2.000000</td>\n",
       "    </tr>\n",
       "  </tbody>\n",
       "</table>\n",
       "</div>"
      ],
      "text/plain": [
       "              index     child_num  income_total    DAYS_BIRTH  DAYS_EMPLOYED  \\\n",
       "count  26457.000000  26457.000000  2.645700e+04  26457.000000   26457.000000   \n",
       "mean   13228.000000      0.428658  1.873065e+05 -15958.053899   59068.750728   \n",
       "std     7637.622372      0.747326  1.018784e+05   4201.589022  137475.427503   \n",
       "min        0.000000      0.000000  2.700000e+04 -25152.000000  -15713.000000   \n",
       "25%     6614.000000      0.000000  1.215000e+05 -19431.000000   -3153.000000   \n",
       "50%    13228.000000      0.000000  1.575000e+05 -15547.000000   -1539.000000   \n",
       "75%    19842.000000      1.000000  2.250000e+05 -12446.000000    -407.000000   \n",
       "max    26456.000000     19.000000  1.575000e+06  -7705.000000  365243.000000   \n",
       "\n",
       "       FLAG_MOBIL    work_phone         phone         email   family_size  \\\n",
       "count     26457.0  26457.000000  26457.000000  26457.000000  26457.000000   \n",
       "mean          1.0      0.224742      0.294251      0.091280      2.196848   \n",
       "std           0.0      0.417420      0.455714      0.288013      0.916717   \n",
       "min           1.0      0.000000      0.000000      0.000000      1.000000   \n",
       "25%           1.0      0.000000      0.000000      0.000000      2.000000   \n",
       "50%           1.0      0.000000      0.000000      0.000000      2.000000   \n",
       "75%           1.0      0.000000      1.000000      0.000000      3.000000   \n",
       "max           1.0      1.000000      1.000000      1.000000     20.000000   \n",
       "\n",
       "        begin_month        credit  \n",
       "count  26457.000000  26457.000000  \n",
       "mean     -26.123294      1.519560  \n",
       "std       16.559550      0.702283  \n",
       "min      -60.000000      0.000000  \n",
       "25%      -39.000000      1.000000  \n",
       "50%      -24.000000      2.000000  \n",
       "75%      -12.000000      2.000000  \n",
       "max        0.000000      2.000000  "
      ]
     },
     "metadata": {},
     "output_type": "display_data"
    },
    {
     "name": "stdout",
     "output_type": "stream",
     "text": [
      "\n"
     ]
    },
    {
     "data": {
      "text/html": [
       "<div>\n",
       "<style scoped>\n",
       "    .dataframe tbody tr th:only-of-type {\n",
       "        vertical-align: middle;\n",
       "    }\n",
       "\n",
       "    .dataframe tbody tr th {\n",
       "        vertical-align: top;\n",
       "    }\n",
       "\n",
       "    .dataframe thead th {\n",
       "        text-align: right;\n",
       "    }\n",
       "</style>\n",
       "<table border=\"1\" class=\"dataframe\">\n",
       "  <thead>\n",
       "    <tr style=\"text-align: right;\">\n",
       "      <th></th>\n",
       "      <th>index</th>\n",
       "      <th>gender</th>\n",
       "      <th>car</th>\n",
       "      <th>reality</th>\n",
       "      <th>child_num</th>\n",
       "      <th>income_total</th>\n",
       "      <th>income_type</th>\n",
       "      <th>edu_type</th>\n",
       "      <th>family_type</th>\n",
       "      <th>house_type</th>\n",
       "      <th>DAYS_BIRTH</th>\n",
       "      <th>DAYS_EMPLOYED</th>\n",
       "      <th>FLAG_MOBIL</th>\n",
       "      <th>work_phone</th>\n",
       "      <th>phone</th>\n",
       "      <th>email</th>\n",
       "      <th>occyp_type</th>\n",
       "      <th>family_size</th>\n",
       "      <th>begin_month</th>\n",
       "      <th>credit</th>\n",
       "    </tr>\n",
       "  </thead>\n",
       "  <tbody>\n",
       "    <tr>\n",
       "      <th>0</th>\n",
       "      <td>0</td>\n",
       "      <td>F</td>\n",
       "      <td>N</td>\n",
       "      <td>N</td>\n",
       "      <td>0</td>\n",
       "      <td>202500.0</td>\n",
       "      <td>Commercial associate</td>\n",
       "      <td>Higher education</td>\n",
       "      <td>Married</td>\n",
       "      <td>Municipal apartment</td>\n",
       "      <td>-13899</td>\n",
       "      <td>-4709</td>\n",
       "      <td>1</td>\n",
       "      <td>0</td>\n",
       "      <td>0</td>\n",
       "      <td>0</td>\n",
       "      <td>NaN</td>\n",
       "      <td>2.0</td>\n",
       "      <td>-6.0</td>\n",
       "      <td>1.0</td>\n",
       "    </tr>\n",
       "    <tr>\n",
       "      <th>1</th>\n",
       "      <td>1</td>\n",
       "      <td>F</td>\n",
       "      <td>N</td>\n",
       "      <td>Y</td>\n",
       "      <td>1</td>\n",
       "      <td>247500.0</td>\n",
       "      <td>Commercial associate</td>\n",
       "      <td>Secondary / secondary special</td>\n",
       "      <td>Civil marriage</td>\n",
       "      <td>House / apartment</td>\n",
       "      <td>-11380</td>\n",
       "      <td>-1540</td>\n",
       "      <td>1</td>\n",
       "      <td>0</td>\n",
       "      <td>0</td>\n",
       "      <td>1</td>\n",
       "      <td>Laborers</td>\n",
       "      <td>3.0</td>\n",
       "      <td>-5.0</td>\n",
       "      <td>1.0</td>\n",
       "    </tr>\n",
       "    <tr>\n",
       "      <th>2</th>\n",
       "      <td>2</td>\n",
       "      <td>M</td>\n",
       "      <td>Y</td>\n",
       "      <td>Y</td>\n",
       "      <td>0</td>\n",
       "      <td>450000.0</td>\n",
       "      <td>Working</td>\n",
       "      <td>Higher education</td>\n",
       "      <td>Married</td>\n",
       "      <td>House / apartment</td>\n",
       "      <td>-19087</td>\n",
       "      <td>-4434</td>\n",
       "      <td>1</td>\n",
       "      <td>0</td>\n",
       "      <td>1</td>\n",
       "      <td>0</td>\n",
       "      <td>Managers</td>\n",
       "      <td>2.0</td>\n",
       "      <td>-22.0</td>\n",
       "      <td>2.0</td>\n",
       "    </tr>\n",
       "    <tr>\n",
       "      <th>3</th>\n",
       "      <td>3</td>\n",
       "      <td>F</td>\n",
       "      <td>N</td>\n",
       "      <td>Y</td>\n",
       "      <td>0</td>\n",
       "      <td>202500.0</td>\n",
       "      <td>Commercial associate</td>\n",
       "      <td>Secondary / secondary special</td>\n",
       "      <td>Married</td>\n",
       "      <td>House / apartment</td>\n",
       "      <td>-15088</td>\n",
       "      <td>-2092</td>\n",
       "      <td>1</td>\n",
       "      <td>0</td>\n",
       "      <td>1</td>\n",
       "      <td>0</td>\n",
       "      <td>Sales staff</td>\n",
       "      <td>2.0</td>\n",
       "      <td>-37.0</td>\n",
       "      <td>0.0</td>\n",
       "    </tr>\n",
       "    <tr>\n",
       "      <th>4</th>\n",
       "      <td>4</td>\n",
       "      <td>F</td>\n",
       "      <td>Y</td>\n",
       "      <td>Y</td>\n",
       "      <td>0</td>\n",
       "      <td>157500.0</td>\n",
       "      <td>State servant</td>\n",
       "      <td>Higher education</td>\n",
       "      <td>Married</td>\n",
       "      <td>House / apartment</td>\n",
       "      <td>-15037</td>\n",
       "      <td>-2105</td>\n",
       "      <td>1</td>\n",
       "      <td>0</td>\n",
       "      <td>0</td>\n",
       "      <td>0</td>\n",
       "      <td>Managers</td>\n",
       "      <td>2.0</td>\n",
       "      <td>-26.0</td>\n",
       "      <td>2.0</td>\n",
       "    </tr>\n",
       "  </tbody>\n",
       "</table>\n",
       "</div>"
      ],
      "text/plain": [
       "   index gender car reality  child_num  income_total           income_type  \\\n",
       "0      0      F   N       N          0      202500.0  Commercial associate   \n",
       "1      1      F   N       Y          1      247500.0  Commercial associate   \n",
       "2      2      M   Y       Y          0      450000.0               Working   \n",
       "3      3      F   N       Y          0      202500.0  Commercial associate   \n",
       "4      4      F   Y       Y          0      157500.0         State servant   \n",
       "\n",
       "                        edu_type     family_type           house_type  \\\n",
       "0               Higher education         Married  Municipal apartment   \n",
       "1  Secondary / secondary special  Civil marriage    House / apartment   \n",
       "2               Higher education         Married    House / apartment   \n",
       "3  Secondary / secondary special         Married    House / apartment   \n",
       "4               Higher education         Married    House / apartment   \n",
       "\n",
       "   DAYS_BIRTH  DAYS_EMPLOYED  FLAG_MOBIL  work_phone  phone  email  \\\n",
       "0      -13899          -4709           1           0      0      0   \n",
       "1      -11380          -1540           1           0      0      1   \n",
       "2      -19087          -4434           1           0      1      0   \n",
       "3      -15088          -2092           1           0      1      0   \n",
       "4      -15037          -2105           1           0      0      0   \n",
       "\n",
       "    occyp_type  family_size  begin_month  credit  \n",
       "0          NaN          2.0         -6.0     1.0  \n",
       "1     Laborers          3.0         -5.0     1.0  \n",
       "2     Managers          2.0        -22.0     2.0  \n",
       "3  Sales staff          2.0        -37.0     0.0  \n",
       "4     Managers          2.0        -26.0     2.0  "
      ]
     },
     "metadata": {},
     "output_type": "display_data"
    }
   ],
   "source": [
    "data_look(train)"
   ]
  },
  {
   "cell_type": "code",
   "execution_count": 7,
   "metadata": {},
   "outputs": [
    {
     "data": {
      "text/plain": [
       "(26457, 20)"
      ]
     },
     "execution_count": 7,
     "metadata": {},
     "output_type": "execute_result"
    }
   ],
   "source": [
    "train.shape"
   ]
  },
  {
   "cell_type": "code",
   "execution_count": 8,
   "metadata": {},
   "outputs": [
    {
     "data": {
      "text/plain": [
       "(10000, 19)"
      ]
     },
     "execution_count": 8,
     "metadata": {},
     "output_type": "execute_result"
    }
   ],
   "source": [
    "test.shape"
   ]
  },
  {
   "cell_type": "code",
   "execution_count": 9,
   "metadata": {},
   "outputs": [
    {
     "name": "stdout",
     "output_type": "stream",
     "text": [
      "column: index\n",
      "unique 수: 26457\n",
      "\n",
      "column: gender\n",
      "unique 수: 2\n",
      "\n",
      "column: car\n",
      "unique 수: 2\n",
      "\n",
      "column: reality\n",
      "unique 수: 2\n",
      "\n",
      "column: child_num\n",
      "unique 수: 9\n",
      "\n",
      "column: income_total\n",
      "unique 수: 249\n",
      "\n",
      "column: income_type\n",
      "unique 수: 5\n",
      "\n",
      "column: edu_type\n",
      "unique 수: 5\n",
      "\n",
      "column: family_type\n",
      "unique 수: 5\n",
      "\n",
      "column: house_type\n",
      "unique 수: 6\n",
      "\n",
      "column: DAYS_BIRTH\n",
      "unique 수: 6621\n",
      "\n",
      "column: DAYS_EMPLOYED\n",
      "unique 수: 3470\n",
      "\n",
      "column: FLAG_MOBIL\n",
      "unique 수: 1\n",
      "\n",
      "column: work_phone\n",
      "unique 수: 2\n",
      "\n",
      "column: phone\n",
      "unique 수: 2\n",
      "\n",
      "column: email\n",
      "unique 수: 2\n",
      "\n",
      "column: occyp_type\n",
      "unique 수: 18\n",
      "\n",
      "column: family_size\n",
      "unique 수: 10\n",
      "\n",
      "column: begin_month\n",
      "unique 수: 61\n",
      "\n",
      "column: credit\n",
      "unique 수: 3\n",
      "\n"
     ]
    }
   ],
   "source": [
    "for col in train.columns:\n",
    "    print(f'column: {col}')\n",
    "    print(f'unique 수: {train[col].nunique()}')\n",
    "    print()"
   ]
  },
  {
   "cell_type": "code",
   "execution_count": 10,
   "metadata": {},
   "outputs": [
    {
     "name": "stdout",
     "output_type": "stream",
     "text": [
      "column: index\n",
      "unique 수: 10000\n",
      "\n",
      "column: gender\n",
      "unique 수: 2\n",
      "\n",
      "column: car\n",
      "unique 수: 2\n",
      "\n",
      "column: reality\n",
      "unique 수: 2\n",
      "\n",
      "column: child_num\n",
      "unique 수: 6\n",
      "\n",
      "column: income_total\n",
      "unique 수: 208\n",
      "\n",
      "column: income_type\n",
      "unique 수: 5\n",
      "\n",
      "column: edu_type\n",
      "unique 수: 5\n",
      "\n",
      "column: family_type\n",
      "unique 수: 5\n",
      "\n",
      "column: house_type\n",
      "unique 수: 6\n",
      "\n",
      "column: DAYS_BIRTH\n",
      "unique 수: 4675\n",
      "\n",
      "column: DAYS_EMPLOYED\n",
      "unique 수: 2665\n",
      "\n",
      "column: FLAG_MOBIL\n",
      "unique 수: 1\n",
      "\n",
      "column: work_phone\n",
      "unique 수: 2\n",
      "\n",
      "column: phone\n",
      "unique 수: 2\n",
      "\n",
      "column: email\n",
      "unique 수: 2\n",
      "\n",
      "column: occyp_type\n",
      "unique 수: 18\n",
      "\n",
      "column: family_size\n",
      "unique 수: 7\n",
      "\n",
      "column: begin_month\n",
      "unique 수: 61\n",
      "\n"
     ]
    }
   ],
   "source": [
    "for col in test.columns:\n",
    "    print(f'column: {col}')\n",
    "    print(f'unique 수: {test[col].nunique()}')\n",
    "    print()"
   ]
  },
  {
   "cell_type": "code",
   "execution_count": 11,
   "metadata": {},
   "outputs": [],
   "source": [
    "bin_cols = ['gender', 'car', 'reality', 'work_phone', 'phone', 'email']\n",
    "cat_cols = ['child_num', 'family_size', 'income_type', 'edu_type', 'family_type', 'house_type', 'occyp_type', 'credit']\n",
    "con_cols = ['income_total', 'DAYS_BIRTH', 'DAYS_EMPLOYED', 'begin_month']"
   ]
  },
  {
   "cell_type": "code",
   "execution_count": 12,
   "metadata": {},
   "outputs": [
    {
     "name": "stdout",
     "output_type": "stream",
     "text": [
      "F    17697\n",
      "M     8760\n",
      "Name: gender, dtype: int64\n",
      "\n",
      "N    16410\n",
      "Y    10047\n",
      "Name: car, dtype: int64\n",
      "\n",
      "Y    17830\n",
      "N     8627\n",
      "Name: reality, dtype: int64\n",
      "\n",
      "0    20511\n",
      "1     5946\n",
      "Name: work_phone, dtype: int64\n",
      "\n",
      "0    18672\n",
      "1     7785\n",
      "Name: phone, dtype: int64\n",
      "\n",
      "0    24042\n",
      "1     2415\n",
      "Name: email, dtype: int64\n",
      "\n"
     ]
    }
   ],
   "source": [
    "for col in bin_cols:\n",
    "    print(train[col].value_counts())\n",
    "    print()"
   ]
  },
  {
   "cell_type": "code",
   "execution_count": 13,
   "metadata": {},
   "outputs": [
    {
     "data": {
      "image/png": "[encoded data removed]",
      "text/plain": [
       "<Figure size 432x288 with 1 Axes>"
      ]
     },
     "metadata": {
      "needs_background": "light"
     },
     "output_type": "display_data"
    },
    {
     "data": {
      "image/png": "[encoded data removed]",
      "text/plain": [
       "<Figure size 432x288 with 1 Axes>"
      ]
     },
     "metadata": {
      "needs_background": "light"
     },
     "output_type": "display_data"
    },
    {
     "data": {
      "image/png": "[encoded data removed]",
      "text/plain": [
       "<Figure size 432x288 with 1 Axes>"
      ]
     },
     "metadata": {
      "needs_background": "light"
     },
     "output_type": "display_data"
    },
    {
     "data": {
      "image/png": "[encoded data removed]",
      "text/plain": [
       "<Figure size 432x288 with 1 Axes>"
      ]
     },
     "metadata": {
      "needs_background": "light"
     },
     "output_type": "display_data"
    },
    {
     "data": {
      "image/png": "[encoded data removed]",
      "text/plain": [
       "<Figure size 432x288 with 1 Axes>"
      ]
     },
     "metadata": {
      "needs_background": "light"
     },
     "output_type": "display_data"
    },
    {
     "data": {
      "image/png": "[encoded data removed]",
      "text/plain": [
       "<Figure size 432x288 with 1 Axes>"
      ]
     },
     "metadata": {
      "needs_background": "light"
     },
     "output_type": "display_data"
    },
    {
     "data": {
      "image/png": "[encoded data removed]",
      "text/plain": [
       "<Figure size 432x288 with 1 Axes>"
      ]
     },
     "metadata": {
      "needs_background": "light"
     },
     "output_type": "display_data"
    },
    {
     "data": {
      "image/png": "[encoded data removed]",
      "text/plain": [
       "<Figure size 432x288 with 1 Axes>"
      ]
     },
     "metadata": {
      "needs_background": "light"
     },
     "output_type": "display_data"
    }
   ],
   "source": [
    "for col in cat_cols:\n",
    "    sns.countplot(train[col])\n",
    "    plt.xticks(rotation=30)\n",
    "    plt.show()"
   ]
  },
  {
   "cell_type": "code",
   "execution_count": 14,
   "metadata": {},
   "outputs": [
    {
     "data": {
      "image/png": "[encoded data removed]",
      "text/plain": [
       "<Figure size 432x288 with 1 Axes>"
      ]
     },
     "metadata": {
      "needs_background": "light"
     },
     "output_type": "display_data"
    },
    {
     "data": {
      "image/png": "[encoded data removed]",
      "text/plain": [
       "<Figure size 432x288 with 1 Axes>"
      ]
     },
     "metadata": {
      "needs_background": "light"
     },
     "output_type": "display_data"
    },
    {
     "data": {
      "image/png": "[encoded data removed]",
      "text/plain": [
       "<Figure size 432x288 with 1 Axes>"
      ]
     },
     "metadata": {
      "needs_background": "light"
     },
     "output_type": "display_data"
    },
    {
     "data": {
      "image/png": "[encoded data removed]",
      "text/plain": [
       "<Figure size 432x288 with 1 Axes>"
      ]
     },
     "metadata": {
      "needs_background": "light"
     },
     "output_type": "display_data"
    }
   ],
   "source": [
    "for col in con_cols:\n",
    "    sns.distplot(train[col])\n",
    "    plt.show()"
   ]
  },
  {
   "cell_type": "code",
   "execution_count": 15,
   "metadata": {},
   "outputs": [],
   "source": [
    "data = pd.concat([train.drop('credit', axis=1), test]).reset_index(drop=True)"
   ]
  },
  {
   "cell_type": "code",
   "execution_count": 16,
   "metadata": {},
   "outputs": [],
   "source": [
    "data['gender'] = data['gender'].replace(['F','M'],[0,1])\n",
    "data['car'] = data['car'].replace(['N','Y'],[0,1])\n",
    "data['reality'] = data['reality'].replace(['N','Y'],[0,1])"
   ]
  },
  {
   "cell_type": "code",
   "execution_count": 17,
   "metadata": {},
   "outputs": [],
   "source": [
    "le = LabelEncoder()\n",
    "data['income_type'] = le.fit_transform(data['income_type'])\n",
    "data['edu_type'] = le.fit_transform(data['edu_type'])\n",
    "data['family_type'] = le.fit_transform(data['family_type'])\n",
    "data['house_type'] = le.fit_transform(data['house_type'])"
   ]
  },
  {
   "cell_type": "code",
   "execution_count": 18,
   "metadata": {},
   "outputs": [
    {
     "data": {
      "text/plain": [
       "<matplotlib.axes._subplots.AxesSubplot at 0x7fd92427acd0>"
      ]
     },
     "execution_count": 18,
     "metadata": {},
     "output_type": "execute_result"
    },
    {
     "data": {
      "image/png": "[encoded data removed]",
      "text/plain": [
       "<Figure size 432x288 with 1 Axes>"
      ]
     },
     "metadata": {
      "needs_background": "light"
     },
     "output_type": "display_data"
    }
   ],
   "source": [
    "data['income_total'] = np.log1p(data['income_total'])\n",
    "sns.distplot(data['income_total'])"
   ]
  },
  {
   "cell_type": "code",
   "execution_count": 19,
   "metadata": {},
   "outputs": [],
   "source": [
    "# 나이\n",
    "data['age'] = -1 * (data['DAYS_BIRTH'] // 365)\n",
    "# 근속 연수\n",
    "data['work_period'] = round(-1 * (data['DAYS_EMPLOYED'] / 365), 2)\n",
    "# 신용카드 사용 기간\n",
    "data['card_period'] = round(-1 * (data['begin_month'] / 12), 2)"
   ]
  },
  {
   "cell_type": "code",
   "execution_count": 20,
   "metadata": {},
   "outputs": [
    {
     "data": {
      "text/plain": [
       "Index(['index', 'gender', 'car', 'reality', 'child_num', 'income_total',\n",
       "       'income_type', 'edu_type', 'family_type', 'house_type', 'DAYS_BIRTH',\n",
       "       'DAYS_EMPLOYED', 'FLAG_MOBIL', 'work_phone', 'phone', 'email',\n",
       "       'occyp_type', 'family_size', 'begin_month', 'age', 'work_period',\n",
       "       'card_period'],\n",
       "      dtype='object')"
      ]
     },
     "execution_count": 20,
     "metadata": {},
     "output_type": "execute_result"
    }
   ],
   "source": [
    "data.columns"
   ]
  },
  {
   "cell_type": "code",
   "execution_count": 21,
   "metadata": {},
   "outputs": [],
   "source": [
    "data.drop(['index', 'DAYS_BIRTH', 'DAYS_EMPLOYED', 'FLAG_MOBIL', 'occyp_type', 'begin_month'], axis=1, inplace=True)"
   ]
  },
  {
   "cell_type": "code",
   "execution_count": 22,
   "metadata": {},
   "outputs": [],
   "source": [
    "x_train = data[:len(train)]\n",
    "y_train = train['credit']\n",
    "x_test = data[len(train):].reset_index(drop=True)"
   ]
  },
  {
   "cell_type": "code",
   "execution_count": 23,
   "metadata": {},
   "outputs": [
    {
     "name": "stdout",
     "output_type": "stream",
     "text": [
      "(26457, 16)\n",
      "(26457,)\n",
      "(10000, 16)\n"
     ]
    }
   ],
   "source": [
    "print(x_train.shape)\n",
    "print(y_train.shape)\n",
    "print(x_test.shape)"
   ]
  },
  {
   "cell_type": "code",
   "execution_count": 24,
   "metadata": {},
   "outputs": [
    {
     "data": {
      "text/html": [
       "<div>\n",
       "<style scoped>\n",
       "    .dataframe tbody tr th:only-of-type {\n",
       "        vertical-align: middle;\n",
       "    }\n",
       "\n",
       "    .dataframe tbody tr th {\n",
       "        vertical-align: top;\n",
       "    }\n",
       "\n",
       "    .dataframe thead th {\n",
       "        text-align: right;\n",
       "    }\n",
       "</style>\n",
       "<table border=\"1\" class=\"dataframe\">\n",
       "  <thead>\n",
       "    <tr style=\"text-align: right;\">\n",
       "      <th></th>\n",
       "      <th>gender</th>\n",
       "      <th>car</th>\n",
       "      <th>reality</th>\n",
       "      <th>child_num</th>\n",
       "      <th>income_total</th>\n",
       "      <th>income_type</th>\n",
       "      <th>edu_type</th>\n",
       "      <th>family_type</th>\n",
       "      <th>house_type</th>\n",
       "      <th>work_phone</th>\n",
       "      <th>phone</th>\n",
       "      <th>email</th>\n",
       "      <th>family_size</th>\n",
       "      <th>age</th>\n",
       "      <th>work_period</th>\n",
       "      <th>card_period</th>\n",
       "    </tr>\n",
       "  </thead>\n",
       "  <tbody>\n",
       "    <tr>\n",
       "      <th>0</th>\n",
       "      <td>0</td>\n",
       "      <td>0</td>\n",
       "      <td>0</td>\n",
       "      <td>0</td>\n",
       "      <td>12.218500</td>\n",
       "      <td>0</td>\n",
       "      <td>1</td>\n",
       "      <td>1</td>\n",
       "      <td>2</td>\n",
       "      <td>0</td>\n",
       "      <td>0</td>\n",
       "      <td>0</td>\n",
       "      <td>2.0</td>\n",
       "      <td>39</td>\n",
       "      <td>12.90</td>\n",
       "      <td>0.50</td>\n",
       "    </tr>\n",
       "    <tr>\n",
       "      <th>1</th>\n",
       "      <td>0</td>\n",
       "      <td>0</td>\n",
       "      <td>1</td>\n",
       "      <td>1</td>\n",
       "      <td>12.419170</td>\n",
       "      <td>0</td>\n",
       "      <td>4</td>\n",
       "      <td>0</td>\n",
       "      <td>1</td>\n",
       "      <td>0</td>\n",
       "      <td>0</td>\n",
       "      <td>1</td>\n",
       "      <td>3.0</td>\n",
       "      <td>32</td>\n",
       "      <td>4.22</td>\n",
       "      <td>0.42</td>\n",
       "    </tr>\n",
       "    <tr>\n",
       "      <th>2</th>\n",
       "      <td>1</td>\n",
       "      <td>1</td>\n",
       "      <td>1</td>\n",
       "      <td>0</td>\n",
       "      <td>13.017005</td>\n",
       "      <td>4</td>\n",
       "      <td>1</td>\n",
       "      <td>1</td>\n",
       "      <td>1</td>\n",
       "      <td>0</td>\n",
       "      <td>1</td>\n",
       "      <td>0</td>\n",
       "      <td>2.0</td>\n",
       "      <td>53</td>\n",
       "      <td>12.15</td>\n",
       "      <td>1.83</td>\n",
       "    </tr>\n",
       "    <tr>\n",
       "      <th>3</th>\n",
       "      <td>0</td>\n",
       "      <td>0</td>\n",
       "      <td>1</td>\n",
       "      <td>0</td>\n",
       "      <td>12.218500</td>\n",
       "      <td>0</td>\n",
       "      <td>4</td>\n",
       "      <td>1</td>\n",
       "      <td>1</td>\n",
       "      <td>0</td>\n",
       "      <td>1</td>\n",
       "      <td>0</td>\n",
       "      <td>2.0</td>\n",
       "      <td>42</td>\n",
       "      <td>5.73</td>\n",
       "      <td>3.08</td>\n",
       "    </tr>\n",
       "    <tr>\n",
       "      <th>4</th>\n",
       "      <td>0</td>\n",
       "      <td>1</td>\n",
       "      <td>1</td>\n",
       "      <td>0</td>\n",
       "      <td>11.967187</td>\n",
       "      <td>2</td>\n",
       "      <td>1</td>\n",
       "      <td>1</td>\n",
       "      <td>1</td>\n",
       "      <td>0</td>\n",
       "      <td>0</td>\n",
       "      <td>0</td>\n",
       "      <td>2.0</td>\n",
       "      <td>42</td>\n",
       "      <td>5.77</td>\n",
       "      <td>2.17</td>\n",
       "    </tr>\n",
       "  </tbody>\n",
       "</table>\n",
       "</div>"
      ],
      "text/plain": [
       "   gender  car  reality  child_num  income_total  income_type  edu_type  \\\n",
       "0       0    0        0          0     12.218500            0         1   \n",
       "1       0    0        1          1     12.419170            0         4   \n",
       "2       1    1        1          0     13.017005            4         1   \n",
       "3       0    0        1          0     12.218500            0         4   \n",
       "4       0    1        1          0     11.967187            2         1   \n",
       "\n",
       "   family_type  house_type  work_phone  phone  email  family_size  age  \\\n",
       "0            1           2           0      0      0          2.0   39   \n",
       "1            0           1           0      0      1          3.0   32   \n",
       "2            1           1           0      1      0          2.0   53   \n",
       "3            1           1           0      1      0          2.0   42   \n",
       "4            1           1           0      0      0          2.0   42   \n",
       "\n",
       "   work_period  card_period  \n",
       "0        12.90         0.50  \n",
       "1         4.22         0.42  \n",
       "2        12.15         1.83  \n",
       "3         5.73         3.08  \n",
       "4         5.77         2.17  "
      ]
     },
     "execution_count": 24,
     "metadata": {},
     "output_type": "execute_result"
    }
   ],
   "source": [
    "x_train.head()"
   ]
  },
  {
   "cell_type": "code",
   "execution_count": 31,
   "metadata": {},
   "outputs": [],
   "source": [
    "def objective(trial):\n",
    "    train_x, valid_x, train_y, valid_y = train_test_split(x_train, y_train, test_size=0.25)\n",
    "    dtrain = lgb.Dataset(train_x, label=train_y)\n",
    "\n",
    "    param = {\n",
    "        \"metric\": \"logloss\",\n",
    "        \"verbosity\": -1,\n",
    "        'force_row_wise': True,\n",
    "        'random_state': 130,\n",
    "        'verbose': -1,\n",
    "        'tree_learner': 'voting',\n",
    "        'boosting': 'gbdt',\n",
    "        'learning_rate': trial.suggest_uniform('learning_rate', 0.01, 0.1),\n",
    "        'lambda_l1': trial.suggest_loguniform('lambda_l1', 1e-8, 1.0),\n",
    "        'lambda_l2': trial.suggest_loguniform('lambda_l2', 1e-8, 1.0),\n",
    "        'num_leaves': trial.suggest_int('num_leaves', 31, 511),\n",
    "        'feature_fraction': trial.suggest_uniform('feature_fraction', 0.3, 0.7),\n",
    "        'bagging_fraction': trial.suggest_uniform('bagging_fraction', 0.7, 1.0),\n",
    "        'bagging_freq': trial.suggest_int('bagging_freq', 1, 11),\n",
    "        'min_child_samples': trial.suggest_int('min_child_samples', 2, 64),\n",
    "    }\n",
    "\n",
    "    gbm = lgb.train(param, dtrain)\n",
    "    preds = gbm.predict(valid_x)\n",
    "    pred_labels = np.rint(preds)\n",
    "    accuracy = sklearn.metrics.accuracy_score(valid_y, pred_labels)\n",
    "    return accuracy"
   ]
  },
  {
   "cell_type": "code",
   "execution_count": 32,
   "metadata": {},
   "outputs": [
    {
     "name": "stderr",
     "output_type": "stream",
     "text": [
      "\u001b[32m[I 2021-05-10 13:08:19,394]\u001b[0m A new study created in memory with name: no-name-0e8a2ad2-59b0-453a-9810-9ff8b95fc384\u001b[0m\n",
      "\u001b[32m[I 2021-05-10 13:08:20,576]\u001b[0m Trial 0 finished with value: 0.6447467876039304 and parameters: {'learning_rate': 0.05422982271848717, 'lambda_l1': 6.634764805661425e-07, 'lambda_l2': 6.436556659261455e-07, 'num_leaves': 433, 'feature_fraction': 0.4547614542425343, 'bagging_fraction': 0.9318606970097014, 'bagging_freq': 3, 'min_child_samples': 2}. Best is trial 0 with value: 0.6447467876039304.\u001b[0m\n"
     ]
    },
    {
     "name": "stdout",
     "output_type": "stream",
     "text": [
      "[LightGBM] [Warning] verbosity is set=-1, verbose=-1 will be ignored. Current value: verbosity=-1\n"
     ]
    },
    {
     "name": "stderr",
     "output_type": "stream",
     "text": [
      "\u001b[32m[I 2021-05-10 13:08:21,399]\u001b[0m Trial 1 finished with value: 0.6120937263794407 and parameters: {'learning_rate': 0.06596250669214736, 'lambda_l1': 0.0011410539602068669, 'lambda_l2': 0.002775749850523715, 'num_leaves': 468, 'feature_fraction': 0.4711809288297142, 'bagging_fraction': 0.8877512921571148, 'bagging_freq': 9, 'min_child_samples': 31}. Best is trial 0 with value: 0.6447467876039304.\u001b[0m\n"
     ]
    },
    {
     "name": "stdout",
     "output_type": "stream",
     "text": [
      "[LightGBM] [Warning] verbosity is set=-1, verbose=-1 will be ignored. Current value: verbosity=-1\n"
     ]
    },
    {
     "name": "stderr",
     "output_type": "stream",
     "text": [
      "\u001b[32m[I 2021-05-10 13:08:22,027]\u001b[0m Trial 2 finished with value: 0.6078609221466365 and parameters: {'learning_rate': 0.07159917203305602, 'lambda_l1': 0.0028127563383800705, 'lambda_l2': 3.673254346520624e-05, 'num_leaves': 287, 'feature_fraction': 0.36770427868631866, 'bagging_fraction': 0.8355712810289884, 'bagging_freq': 3, 'min_child_samples': 37}. Best is trial 0 with value: 0.6447467876039304.\u001b[0m\n"
     ]
    },
    {
     "name": "stdout",
     "output_type": "stream",
     "text": [
      "[LightGBM] [Warning] verbosity is set=-1, verbose=-1 will be ignored. Current value: verbosity=-1\n"
     ]
    },
    {
     "name": "stderr",
     "output_type": "stream",
     "text": [
      "\u001b[32m[I 2021-05-10 13:08:22,823]\u001b[0m Trial 3 finished with value: 0.6232804232804233 and parameters: {'learning_rate': 0.03179591112798519, 'lambda_l1': 6.208010600939882e-08, 'lambda_l2': 0.052002717605146624, 'num_leaves': 399, 'feature_fraction': 0.4117566962076686, 'bagging_fraction': 0.9875439927357654, 'bagging_freq': 4, 'min_child_samples': 32}. Best is trial 0 with value: 0.6447467876039304.\u001b[0m\n"
     ]
    },
    {
     "name": "stdout",
     "output_type": "stream",
     "text": [
      "[LightGBM] [Warning] verbosity is set=-1, verbose=-1 will be ignored. Current value: verbosity=-1\n"
     ]
    },
    {
     "name": "stderr",
     "output_type": "stream",
     "text": [
      "\u001b[32m[I 2021-05-10 13:08:23,269]\u001b[0m Trial 4 finished with value: 0.6436885865457294 and parameters: {'learning_rate': 0.014867107299275996, 'lambda_l1': 1.4269664562676447e-07, 'lambda_l2': 0.00021035544323055167, 'num_leaves': 156, 'feature_fraction': 0.4718186609589628, 'bagging_fraction': 0.946221060575016, 'bagging_freq': 10, 'min_child_samples': 54}. Best is trial 0 with value: 0.6447467876039304.\u001b[0m\n"
     ]
    },
    {
     "name": "stdout",
     "output_type": "stream",
     "text": [
      "[LightGBM] [Warning] verbosity is set=-1, verbose=-1 will be ignored. Current value: verbosity=-1\n"
     ]
    },
    {
     "name": "stderr",
     "output_type": "stream",
     "text": [
      "\u001b[32m[I 2021-05-10 13:08:23,757]\u001b[0m Trial 5 finished with value: 0.6143613000755858 and parameters: {'learning_rate': 0.06929545895785483, 'lambda_l1': 5.470361023486142e-06, 'lambda_l2': 3.8053757952286633e-06, 'num_leaves': 234, 'feature_fraction': 0.3188523873132173, 'bagging_fraction': 0.8182320094247721, 'bagging_freq': 7, 'min_child_samples': 23}. Best is trial 0 with value: 0.6447467876039304.\u001b[0m\n"
     ]
    },
    {
     "name": "stdout",
     "output_type": "stream",
     "text": [
      "[LightGBM] [Warning] verbosity is set=-1, verbose=-1 will be ignored. Current value: verbosity=-1\n"
     ]
    },
    {
     "name": "stderr",
     "output_type": "stream",
     "text": [
      "\u001b[32m[I 2021-05-10 13:08:24,514]\u001b[0m Trial 6 finished with value: 0.6220710506424793 and parameters: {'learning_rate': 0.03869808122092074, 'lambda_l1': 0.0033949327750948024, 'lambda_l2': 6.7336393180314e-05, 'num_leaves': 459, 'feature_fraction': 0.42363983069113653, 'bagging_fraction': 0.7379264566558437, 'bagging_freq': 4, 'min_child_samples': 38}. Best is trial 0 with value: 0.6447467876039304.\u001b[0m\n"
     ]
    },
    {
     "name": "stdout",
     "output_type": "stream",
     "text": [
      "[LightGBM] [Warning] verbosity is set=-1, verbose=-1 will be ignored. Current value: verbosity=-1\n"
     ]
    },
    {
     "name": "stderr",
     "output_type": "stream",
     "text": [
      "\u001b[32m[I 2021-05-10 13:08:25,100]\u001b[0m Trial 7 finished with value: 0.6093726379440665 and parameters: {'learning_rate': 0.07950572689991997, 'lambda_l1': 0.00044245161803221607, 'lambda_l2': 0.0002898771484655777, 'num_leaves': 197, 'feature_fraction': 0.68175083590602, 'bagging_fraction': 0.8311900933951794, 'bagging_freq': 1, 'min_child_samples': 25}. Best is trial 0 with value: 0.6447467876039304.\u001b[0m\n"
     ]
    },
    {
     "name": "stdout",
     "output_type": "stream",
     "text": [
      "[LightGBM] [Warning] verbosity is set=-1, verbose=-1 will be ignored. Current value: verbosity=-1\n"
     ]
    },
    {
     "name": "stderr",
     "output_type": "stream",
     "text": [
      "\u001b[32m[I 2021-05-10 13:08:25,688]\u001b[0m Trial 8 finished with value: 0.6086167800453515 and parameters: {'learning_rate': 0.06873073406929815, 'lambda_l1': 2.1558034580674455e-08, 'lambda_l2': 4.542755246854405e-08, 'num_leaves': 324, 'feature_fraction': 0.4956438448858166, 'bagging_fraction': 0.927716218279409, 'bagging_freq': 6, 'min_child_samples': 50}. Best is trial 0 with value: 0.6447467876039304.\u001b[0m\n"
     ]
    },
    {
     "name": "stdout",
     "output_type": "stream",
     "text": [
      "[LightGBM] [Warning] verbosity is set=-1, verbose=-1 will be ignored. Current value: verbosity=-1\n"
     ]
    },
    {
     "name": "stderr",
     "output_type": "stream",
     "text": [
      "\u001b[32m[I 2021-05-10 13:08:26,308]\u001b[0m Trial 9 finished with value: 0.636583522297808 and parameters: {'learning_rate': 0.028693826184827555, 'lambda_l1': 1.3707376886756732e-05, 'lambda_l2': 0.734478761106723, 'num_leaves': 217, 'feature_fraction': 0.5930167566927029, 'bagging_fraction': 0.9579956015594698, 'bagging_freq': 8, 'min_child_samples': 21}. Best is trial 0 with value: 0.6447467876039304.\u001b[0m\n"
     ]
    },
    {
     "name": "stdout",
     "output_type": "stream",
     "text": [
      "[LightGBM] [Warning] verbosity is set=-1, verbose=-1 will be ignored. Current value: verbosity=-1\n"
     ]
    },
    {
     "name": "stderr",
     "output_type": "stream",
     "text": [
      "\u001b[32m[I 2021-05-10 13:08:26,791]\u001b[0m Trial 10 finished with value: 0.6326530612244898 and parameters: {'learning_rate': 0.09681674734968214, 'lambda_l1': 0.13988640895960405, 'lambda_l2': 1.1593279779001312e-08, 'num_leaves': 43, 'feature_fraction': 0.6127731261631353, 'bagging_fraction': 0.7657717995853643, 'bagging_freq': 1, 'min_child_samples': 6}. Best is trial 0 with value: 0.6447467876039304.\u001b[0m\n"
     ]
    },
    {
     "name": "stdout",
     "output_type": "stream",
     "text": [
      "[LightGBM] [Warning] verbosity is set=-1, verbose=-1 will be ignored. Current value: verbosity=-1\n"
     ]
    },
    {
     "name": "stderr",
     "output_type": "stream",
     "text": [
      "\u001b[32m[I 2021-05-10 13:08:27,275]\u001b[0m Trial 11 finished with value: 0.6562358276643991 and parameters: {'learning_rate': 0.010702962992649962, 'lambda_l1': 4.929982239493498e-07, 'lambda_l2': 7.853377993113897e-07, 'num_leaves': 105, 'feature_fraction': 0.5459423833878064, 'bagging_fraction': 0.9148149201286859, 'bagging_freq': 11, 'min_child_samples': 61}. Best is trial 11 with value: 0.6562358276643991.\u001b[0m\n",
      "\u001b[32m[I 2021-05-10 13:08:27,466]\u001b[0m Trial 12 finished with value: 0.635827664399093 and parameters: {'learning_rate': 0.04797753926295646, 'lambda_l1': 8.198232662777835e-07, 'lambda_l2': 5.608725327636532e-07, 'num_leaves': 53, 'feature_fraction': 0.5707110004368006, 'bagging_fraction': 0.8858866746984613, 'bagging_freq': 11, 'min_child_samples': 64}. Best is trial 11 with value: 0.6562358276643991.\u001b[0m\n"
     ]
    },
    {
     "name": "stdout",
     "output_type": "stream",
     "text": [
      "[LightGBM] [Warning] verbosity is set=-1, verbose=-1 will be ignored. Current value: verbosity=-1\n",
      "[LightGBM] [Warning] verbosity is set=-1, verbose=-1 will be ignored. Current value: verbosity=-1\n"
     ]
    },
    {
     "name": "stderr",
     "output_type": "stream",
     "text": [
      "\u001b[32m[I 2021-05-10 13:08:27,880]\u001b[0m Trial 13 finished with value: 0.6696900982615268 and parameters: {'learning_rate': 0.010459509180589042, 'lambda_l1': 3.900318933592115e-06, 'lambda_l2': 6.538053962047043e-07, 'num_leaves': 113, 'feature_fraction': 0.5545349388344342, 'bagging_fraction': 0.9005803953602178, 'bagging_freq': 3, 'min_child_samples': 2}. Best is trial 13 with value: 0.6696900982615268.\u001b[0m\n"
     ]
    },
    {
     "name": "stdout",
     "output_type": "stream",
     "text": [
      "[LightGBM] [Warning] verbosity is set=-1, verbose=-1 will be ignored. Current value: verbosity=-1\n"
     ]
    },
    {
     "name": "stderr",
     "output_type": "stream",
     "text": [
      "\u001b[32m[I 2021-05-10 13:08:28,532]\u001b[0m Trial 14 finished with value: 0.6498866213151927 and parameters: {'learning_rate': 0.013190736483988993, 'lambda_l1': 2.6005347070377194e-05, 'lambda_l2': 1.3416944568635097e-07, 'num_leaves': 111, 'feature_fraction': 0.5419047141239453, 'bagging_fraction': 0.8800295129847704, 'bagging_freq': 5, 'min_child_samples': 11}. Best is trial 13 with value: 0.6696900982615268.\u001b[0m\n"
     ]
    },
    {
     "name": "stdout",
     "output_type": "stream",
     "text": [
      "[LightGBM] [Warning] verbosity is set=-1, verbose=-1 will be ignored. Current value: verbosity=-1\n"
     ]
    },
    {
     "name": "stderr",
     "output_type": "stream",
     "text": [
      "\u001b[32m[I 2021-05-10 13:08:28,985]\u001b[0m Trial 15 finished with value: 0.6412698412698413 and parameters: {'learning_rate': 0.010632148256718151, 'lambda_l1': 2.8961263549747856e-06, 'lambda_l2': 3.853077556782233e-06, 'num_leaves': 105, 'feature_fraction': 0.6613508323560517, 'bagging_fraction': 0.9927477342383677, 'bagging_freq': 2, 'min_child_samples': 61}. Best is trial 13 with value: 0.6696900982615268.\u001b[0m\n"
     ]
    },
    {
     "name": "stdout",
     "output_type": "stream",
     "text": [
      "[LightGBM] [Warning] verbosity is set=-1, verbose=-1 will be ignored. Current value: verbosity=-1\n"
     ]
    },
    {
     "name": "stderr",
     "output_type": "stream",
     "text": [
      "\u001b[32m[I 2021-05-10 13:08:29,379]\u001b[0m Trial 16 finished with value: 0.6396069538926682 and parameters: {'learning_rate': 0.0227650330653443, 'lambda_l1': 4.943982995531026e-05, 'lambda_l2': 1.4939417998875977e-08, 'num_leaves': 108, 'feature_fraction': 0.5355033310929189, 'bagging_fraction': 0.9054974579680402, 'bagging_freq': 11, 'min_child_samples': 44}. Best is trial 13 with value: 0.6696900982615268.\u001b[0m\n",
      "\u001b[32m[I 2021-05-10 13:08:29,527]\u001b[0m Trial 17 finished with value: 0.6625850340136055 and parameters: {'learning_rate': 0.020221543246606306, 'lambda_l1': 1.2086175775537867e-08, 'lambda_l2': 5.961923443866066e-06, 'num_leaves': 34, 'feature_fraction': 0.6413632746015149, 'bagging_fraction': 0.8036089260921051, 'bagging_freq': 6, 'min_child_samples': 14}. Best is trial 13 with value: 0.6696900982615268.\u001b[0m\n"
     ]
    },
    {
     "name": "stdout",
     "output_type": "stream",
     "text": [
      "[LightGBM] [Warning] verbosity is set=-1, verbose=-1 will be ignored. Current value: verbosity=-1\n",
      "[LightGBM] [Warning] verbosity is set=-1, verbose=-1 will be ignored. Current value: verbosity=-1\n"
     ]
    },
    {
     "name": "stderr",
     "output_type": "stream",
     "text": [
      "\u001b[32m[I 2021-05-10 13:08:29,755]\u001b[0m Trial 18 finished with value: 0.653968253968254 and parameters: {'learning_rate': 0.021741796858567523, 'lambda_l1': 1.099273049345566e-08, 'lambda_l2': 1.105810530436054e-05, 'num_leaves': 55, 'feature_fraction': 0.6439593441558804, 'bagging_fraction': 0.7972450125521945, 'bagging_freq': 6, 'min_child_samples': 14}. Best is trial 13 with value: 0.6696900982615268.\u001b[0m\n"
     ]
    },
    {
     "name": "stdout",
     "output_type": "stream",
     "text": [
      "[LightGBM] [Warning] verbosity is set=-1, verbose=-1 will be ignored. Current value: verbosity=-1\n"
     ]
    },
    {
     "name": "stderr",
     "output_type": "stream",
     "text": [
      "\u001b[32m[I 2021-05-10 13:08:30,261]\u001b[0m Trial 19 finished with value: 0.6426303854875284 and parameters: {'learning_rate': 0.04169576661050782, 'lambda_l1': 0.08129764997831831, 'lambda_l2': 0.002023504887342821, 'num_leaves': 161, 'feature_fraction': 0.6243365756029302, 'bagging_fraction': 0.7853127403670279, 'bagging_freq': 7, 'min_child_samples': 2}. Best is trial 13 with value: 0.6696900982615268.\u001b[0m\n",
      "\u001b[32m[I 2021-05-10 13:08:30,441]\u001b[0m Trial 20 finished with value: 0.6559334845049131 and parameters: {'learning_rate': 0.021572888060607424, 'lambda_l1': 0.00028594385762479175, 'lambda_l2': 6.323739323780668e-08, 'num_leaves': 34, 'feature_fraction': 0.5825820432707954, 'bagging_fraction': 0.8659511820384556, 'bagging_freq': 5, 'min_child_samples': 15}. Best is trial 13 with value: 0.6696900982615268.\u001b[0m\n"
     ]
    },
    {
     "name": "stdout",
     "output_type": "stream",
     "text": [
      "[LightGBM] [Warning] verbosity is set=-1, verbose=-1 will be ignored. Current value: verbosity=-1\n",
      "[LightGBM] [Warning] verbosity is set=-1, verbose=-1 will be ignored. Current value: verbosity=-1\n"
     ]
    },
    {
     "name": "stderr",
     "output_type": "stream",
     "text": [
      "\u001b[32m[I 2021-05-10 13:08:30,955]\u001b[0m Trial 21 finished with value: 0.671201814058957 and parameters: {'learning_rate': 0.011346992397809338, 'lambda_l1': 2.2744997692056727e-07, 'lambda_l2': 4.408130470473168e-07, 'num_leaves': 97, 'feature_fraction': 0.544741683715109, 'bagging_fraction': 0.7083829304833746, 'bagging_freq': 9, 'min_child_samples': 5}. Best is trial 21 with value: 0.671201814058957.\u001b[0m\n"
     ]
    },
    {
     "name": "stdout",
     "output_type": "stream",
     "text": [
      "[LightGBM] [Warning] verbosity is set=-1, verbose=-1 will be ignored. Current value: verbosity=-1\n"
     ]
    },
    {
     "name": "stderr",
     "output_type": "stream",
     "text": [
      "\u001b[32m[I 2021-05-10 13:08:31,433]\u001b[0m Trial 22 finished with value: 0.6542705971277399 and parameters: {'learning_rate': 0.018097424992518624, 'lambda_l1': 9.347605502182371e-08, 'lambda_l2': 2.635007664185348e-06, 'num_leaves': 146, 'feature_fraction': 0.6944433900702798, 'bagging_fraction': 0.713401309979973, 'bagging_freq': 9, 'min_child_samples': 8}. Best is trial 21 with value: 0.671201814058957.\u001b[0m\n"
     ]
    },
    {
     "name": "stdout",
     "output_type": "stream",
     "text": [
      "[LightGBM] [Warning] verbosity is set=-1, verbose=-1 will be ignored. Current value: verbosity=-1\n"
     ]
    },
    {
     "name": "stderr",
     "output_type": "stream",
     "text": [
      "\u001b[32m[I 2021-05-10 13:08:31,753]\u001b[0m Trial 23 finished with value: 0.6494331065759638 and parameters: {'learning_rate': 0.029801777740552628, 'lambda_l1': 1.1447232892575733e-08, 'lambda_l2': 1.5983892990932088e-05, 'num_leaves': 78, 'feature_fraction': 0.5092061254978575, 'bagging_fraction': 0.7073756397201569, 'bagging_freq': 8, 'min_child_samples': 2}. Best is trial 21 with value: 0.671201814058957.\u001b[0m\n"
     ]
    },
    {
     "name": "stdout",
     "output_type": "stream",
     "text": [
      "[LightGBM] [Warning] verbosity is set=-1, verbose=-1 will be ignored. Current value: verbosity=-1\n"
     ]
    },
    {
     "name": "stderr",
     "output_type": "stream",
     "text": [
      "\u001b[32m[I 2021-05-10 13:08:32,001]\u001b[0m Trial 24 finished with value: 0.6781557067271353 and parameters: {'learning_rate': 0.01047101889904306, 'lambda_l1': 2.825709624714035e-06, 'lambda_l2': 1.6022514152728585e-07, 'num_leaves': 32, 'feature_fraction': 0.5641738737927232, 'bagging_fraction': 0.7445090906474511, 'bagging_freq': 5, 'min_child_samples': 16}. Best is trial 24 with value: 0.6781557067271353.\u001b[0m\n"
     ]
    },
    {
     "name": "stdout",
     "output_type": "stream",
     "text": [
      "[LightGBM] [Warning] verbosity is set=-1, verbose=-1 will be ignored. Current value: verbosity=-1\n"
     ]
    },
    {
     "name": "stderr",
     "output_type": "stream",
     "text": [
      "\u001b[32m[I 2021-05-10 13:08:32,691]\u001b[0m Trial 25 finished with value: 0.6477702191987906 and parameters: {'learning_rate': 0.011729003503481869, 'lambda_l1': 4.18715861927858e-06, 'lambda_l2': 2.08479498883321e-07, 'num_leaves': 180, 'feature_fraction': 0.5150967516393449, 'bagging_fraction': 0.732419241696756, 'bagging_freq': 4, 'min_child_samples': 19}. Best is trial 24 with value: 0.6781557067271353.\u001b[0m\n"
     ]
    },
    {
     "name": "stdout",
     "output_type": "stream",
     "text": [
      "[LightGBM] [Warning] verbosity is set=-1, verbose=-1 will be ignored. Current value: verbosity=-1\n"
     ]
    },
    {
     "name": "stderr",
     "output_type": "stream",
     "text": [
      "\u001b[32m[I 2021-05-10 13:08:33,105]\u001b[0m Trial 26 finished with value: 0.6240362811791383 and parameters: {'learning_rate': 0.09865720436933663, 'lambda_l1': 1.3555353695120455e-06, 'lambda_l2': 1.498687671573088e-08, 'num_leaves': 82, 'feature_fraction': 0.5589000407200896, 'bagging_fraction': 0.7619142517257249, 'bagging_freq': 2, 'min_child_samples': 7}. Best is trial 24 with value: 0.6781557067271353.\u001b[0m\n"
     ]
    },
    {
     "name": "stdout",
     "output_type": "stream",
     "text": [
      "[LightGBM] [Warning] verbosity is set=-1, verbose=-1 will be ignored. Current value: verbosity=-1\n"
     ]
    },
    {
     "name": "stderr",
     "output_type": "stream",
     "text": [
      "\u001b[32m[I 2021-05-10 13:08:33,837]\u001b[0m Trial 27 finished with value: 0.6479213907785336 and parameters: {'learning_rate': 0.036688787395456925, 'lambda_l1': 2.467863232892742e-07, 'lambda_l2': 2.7110113134987057e-07, 'num_leaves': 257, 'feature_fraction': 0.595121579579816, 'bagging_fraction': 0.7338115091097586, 'bagging_freq': 5, 'min_child_samples': 2}. Best is trial 24 with value: 0.6781557067271353.\u001b[0m\n"
     ]
    },
    {
     "name": "stdout",
     "output_type": "stream",
     "text": [
      "[LightGBM] [Warning] verbosity is set=-1, verbose=-1 will be ignored. Current value: verbosity=-1\n"
     ]
    },
    {
     "name": "stderr",
     "output_type": "stream",
     "text": [
      "\u001b[32m[I 2021-05-10 13:08:34,742]\u001b[0m Trial 28 finished with value: 0.636281179138322 and parameters: {'learning_rate': 0.027859499996523925, 'lambda_l1': 1.46919620969134e-05, 'lambda_l2': 4.696731446476017e-08, 'num_leaves': 138, 'feature_fraction': 0.5246773066911999, 'bagging_fraction': 0.7620532163544587, 'bagging_freq': 3, 'min_child_samples': 9}. Best is trial 24 with value: 0.6781557067271353.\u001b[0m\n"
     ]
    },
    {
     "name": "stdout",
     "output_type": "stream",
     "text": [
      "[LightGBM] [Warning] verbosity is set=-1, verbose=-1 will be ignored. Current value: verbosity=-1\n"
     ]
    },
    {
     "name": "stderr",
     "output_type": "stream",
     "text": [
      "\u001b[32m[I 2021-05-10 13:08:35,547]\u001b[0m Trial 29 finished with value: 0.6169312169312169 and parameters: {'learning_rate': 0.04687074967433071, 'lambda_l1': 9.701459618334591e-05, 'lambda_l2': 9.82380290537214e-07, 'num_leaves': 348, 'feature_fraction': 0.4452288368352372, 'bagging_fraction': 0.8503814041065085, 'bagging_freq': 2, 'min_child_samples': 26}. Best is trial 24 with value: 0.6781557067271353.\u001b[0m\n"
     ]
    },
    {
     "name": "stdout",
     "output_type": "stream",
     "text": [
      "[LightGBM] [Warning] verbosity is set=-1, verbose=-1 will be ignored. Current value: verbosity=-1\n"
     ]
    },
    {
     "name": "stderr",
     "output_type": "stream",
     "text": [
      "\u001b[32m[I 2021-05-10 13:08:35,774]\u001b[0m Trial 30 finished with value: 0.6272108843537415 and parameters: {'learning_rate': 0.05926442381178855, 'lambda_l1': 1.926788906942061e-06, 'lambda_l2': 1.1116939416071687e-06, 'num_leaves': 75, 'feature_fraction': 0.48310061744844435, 'bagging_fraction': 0.7103529878270297, 'bagging_freq': 3, 'min_child_samples': 17}. Best is trial 24 with value: 0.6781557067271353.\u001b[0m\n",
      "\u001b[32m[I 2021-05-10 13:08:35,916]\u001b[0m Trial 31 finished with value: 0.6790627362055933 and parameters: {'learning_rate': 0.010082723246623976, 'lambda_l1': 4.2521429162174644e-08, 'lambda_l2': 1.4666971817104982e-05, 'num_leaves': 31, 'feature_fraction': 0.6208305206572056, 'bagging_fraction': 0.8010646949918658, 'bagging_freq': 5, 'min_child_samples': 4}. Best is trial 31 with value: 0.6790627362055933.\u001b[0m\n"
     ]
    },
    {
     "name": "stdout",
     "output_type": "stream",
     "text": [
      "[LightGBM] [Warning] verbosity is set=-1, verbose=-1 will be ignored. Current value: verbosity=-1\n",
      "[LightGBM] [Warning] verbosity is set=-1, verbose=-1 will be ignored. Current value: verbosity=-1\n"
     ]
    },
    {
     "name": "stderr",
     "output_type": "stream",
     "text": [
      "\u001b[32m[I 2021-05-10 13:08:36,142]\u001b[0m Trial 32 finished with value: 0.6739229024943311 and parameters: {'learning_rate': 0.010012881811544402, 'lambda_l1': 4.455037740167047e-08, 'lambda_l2': 2.704550966192929e-07, 'num_leaves': 74, 'feature_fraction': 0.5662833189827582, 'bagging_fraction': 0.7819933159189892, 'bagging_freq': 5, 'min_child_samples': 4}. Best is trial 31 with value: 0.6790627362055933.\u001b[0m\n",
      "\u001b[32m[I 2021-05-10 13:08:36,288]\u001b[0m Trial 33 finished with value: 0.6701436130007559 and parameters: {'learning_rate': 0.016722869063532566, 'lambda_l1': 3.7273255099764835e-08, 'lambda_l2': 2.629586017198273e-05, 'num_leaves': 36, 'feature_fraction': 0.6128379949153503, 'bagging_fraction': 0.782413147686225, 'bagging_freq': 7, 'min_child_samples': 5}. Best is trial 31 with value: 0.6790627362055933.\u001b[0m\n"
     ]
    },
    {
     "name": "stdout",
     "output_type": "stream",
     "text": [
      "[LightGBM] [Warning] verbosity is set=-1, verbose=-1 will be ignored. Current value: verbosity=-1\n",
      "[LightGBM] [Warning] verbosity is set=-1, verbose=-1 will be ignored. Current value: verbosity=-1\n"
     ]
    },
    {
     "name": "stderr",
     "output_type": "stream",
     "text": [
      "\u001b[32m[I 2021-05-10 13:08:36,504]\u001b[0m Trial 34 finished with value: 0.6524565381708238 and parameters: {'learning_rate': 0.02502308572403636, 'lambda_l1': 3.8033345117325264e-07, 'lambda_l2': 1.0338630123627664e-07, 'num_leaves': 69, 'feature_fraction': 0.5771206143745892, 'bagging_fraction': 0.7461401931523445, 'bagging_freq': 5, 'min_child_samples': 11}. Best is trial 31 with value: 0.6790627362055933.\u001b[0m\n",
      "\u001b[32m[I 2021-05-10 13:08:36,655]\u001b[0m Trial 35 finished with value: 0.6671201814058957 and parameters: {'learning_rate': 0.015739893876569166, 'lambda_l1': 5.5581653637251096e-08, 'lambda_l2': 0.0016325724628471286, 'num_leaves': 31, 'feature_fraction': 0.6676470820364226, 'bagging_fraction': 0.8131076088828505, 'bagging_freq': 4, 'min_child_samples': 29}. Best is trial 31 with value: 0.6790627362055933.\u001b[0m\n"
     ]
    },
    {
     "name": "stdout",
     "output_type": "stream",
     "text": [
      "[LightGBM] [Warning] verbosity is set=-1, verbose=-1 will be ignored. Current value: verbosity=-1\n",
      "[LightGBM] [Warning] verbosity is set=-1, verbose=-1 will be ignored. Current value: verbosity=-1\n"
     ]
    },
    {
     "name": "stderr",
     "output_type": "stream",
     "text": [
      "\u001b[32m[I 2021-05-10 13:08:36,871]\u001b[0m Trial 36 finished with value: 0.6517006802721088 and parameters: {'learning_rate': 0.03374757738653833, 'lambda_l1': 1.3673529460270843e-07, 'lambda_l2': 2.4516687065519495e-06, 'num_leaves': 78, 'feature_fraction': 0.6044066222289677, 'bagging_fraction': 0.7761856405068993, 'bagging_freq': 5, 'min_child_samples': 5}. Best is trial 31 with value: 0.6790627362055933.\u001b[0m\n"
     ]
    },
    {
     "name": "stdout",
     "output_type": "stream",
     "text": [
      "[LightGBM] [Warning] verbosity is set=-1, verbose=-1 will be ignored. Current value: verbosity=-1\n"
     ]
    },
    {
     "name": "stderr",
     "output_type": "stream",
     "text": [
      "\u001b[32m[I 2021-05-10 13:08:38,221]\u001b[0m Trial 37 finished with value: 0.6249433106575963 and parameters: {'learning_rate': 0.08244256926867893, 'lambda_l1': 2.2660235943877563e-07, 'lambda_l2': 0.00016929651006272235, 'num_leaves': 500, 'feature_fraction': 0.6326603030448148, 'bagging_fraction': 0.7183291960990137, 'bagging_freq': 7, 'min_child_samples': 2}. Best is trial 31 with value: 0.6790627362055933.\u001b[0m\n"
     ]
    },
    {
     "name": "stdout",
     "output_type": "stream",
     "text": [
      "[LightGBM] [Warning] verbosity is set=-1, verbose=-1 will be ignored. Current value: verbosity=-1\n"
     ]
    },
    {
     "name": "stderr",
     "output_type": "stream",
     "text": [
      "\u001b[32m[I 2021-05-10 13:08:38,572]\u001b[0m Trial 38 finished with value: 0.6533635676492819 and parameters: {'learning_rate': 0.01075332650220675, 'lambda_l1': 2.7200246652264945e-08, 'lambda_l2': 3.07047478417469e-07, 'num_leaves': 140, 'feature_fraction': 0.5657144247092004, 'bagging_fraction': 0.7508948848120556, 'bagging_freq': 8, 'min_child_samples': 11}. Best is trial 31 with value: 0.6790627362055933.\u001b[0m\n"
     ]
    },
    {
     "name": "stdout",
     "output_type": "stream",
     "text": [
      "[LightGBM] [Warning] verbosity is set=-1, verbose=-1 will be ignored. Current value: verbosity=-1\n"
     ]
    },
    {
     "name": "stderr",
     "output_type": "stream",
     "text": [
      "\u001b[32m[I 2021-05-10 13:08:39,000]\u001b[0m Trial 39 finished with value: 0.6492819349962207 and parameters: {'learning_rate': 0.016771745119427382, 'lambda_l1': 8.031159303011981e-07, 'lambda_l2': 7.74032315735184e-05, 'num_leaves': 186, 'feature_fraction': 0.4508951728756065, 'bagging_fraction': 0.8325022228283842, 'bagging_freq': 4, 'min_child_samples': 17}. Best is trial 31 with value: 0.6790627362055933.\u001b[0m\n"
     ]
    },
    {
     "name": "stdout",
     "output_type": "stream",
     "text": [
      "[LightGBM] [Warning] verbosity is set=-1, verbose=-1 will be ignored. Current value: verbosity=-1\n"
     ]
    },
    {
     "name": "stderr",
     "output_type": "stream",
     "text": [
      "\u001b[32m[I 2021-05-10 13:08:39,333]\u001b[0m Trial 40 finished with value: 0.636734693877551 and parameters: {'learning_rate': 0.025005829827746663, 'lambda_l1': 9.134846950397813e-08, 'lambda_l2': 3.2063551425351466e-08, 'num_leaves': 131, 'feature_fraction': 0.38136511055261935, 'bagging_fraction': 0.7249572746974636, 'bagging_freq': 6, 'min_child_samples': 5}. Best is trial 31 with value: 0.6790627362055933.\u001b[0m\n",
      "\u001b[32m[I 2021-05-10 13:08:39,468]\u001b[0m Trial 41 finished with value: 0.655479969765684 and parameters: {'learning_rate': 0.015638196330555493, 'lambda_l1': 3.7319879509964124e-08, 'lambda_l2': 0.0006483714547980372, 'num_leaves': 32, 'feature_fraction': 0.6133213552933879, 'bagging_fraction': 0.792508783622109, 'bagging_freq': 10, 'min_child_samples': 5}. Best is trial 31 with value: 0.6790627362055933.\u001b[0m\n"
     ]
    },
    {
     "name": "stdout",
     "output_type": "stream",
     "text": [
      "[LightGBM] [Warning] verbosity is set=-1, verbose=-1 will be ignored. Current value: verbosity=-1\n",
      "[LightGBM] [Warning] verbosity is set=-1, verbose=-1 will be ignored. Current value: verbosity=-1\n"
     ]
    },
    {
     "name": "stderr",
     "output_type": "stream",
     "text": [
      "\u001b[32m[I 2021-05-10 13:08:39,669]\u001b[0m Trial 42 finished with value: 0.6523053665910808 and parameters: {'learning_rate': 0.01817206098286326, 'lambda_l1': 3.808222118769273e-08, 'lambda_l2': 2.2469963779806123e-05, 'num_leaves': 57, 'feature_fraction': 0.5886051213716847, 'bagging_fraction': 0.7778978396398553, 'bagging_freq': 7, 'min_child_samples': 36}. Best is trial 31 with value: 0.6790627362055933.\u001b[0m\n"
     ]
    },
    {
     "name": "stdout",
     "output_type": "stream",
     "text": [
      "[LightGBM] [Warning] verbosity is set=-1, verbose=-1 will be ignored. Current value: verbosity=-1\n"
     ]
    },
    {
     "name": "stderr",
     "output_type": "stream",
     "text": [
      "\u001b[32m[I 2021-05-10 13:08:39,911]\u001b[0m Trial 43 finished with value: 0.6633408919123205 and parameters: {'learning_rate': 0.013443922725742935, 'lambda_l1': 2.090236677105218e-07, 'lambda_l2': 0.00863263614575762, 'num_leaves': 88, 'feature_fraction': 0.654397544808332, 'bagging_fraction': 0.8145180521068038, 'bagging_freq': 9, 'min_child_samples': 10}. Best is trial 31 with value: 0.6790627362055933.\u001b[0m\n",
      "\u001b[32m[I 2021-05-10 13:08:40,108]\u001b[0m Trial 44 finished with value: 0.6743764172335601 and parameters: {'learning_rate': 0.010536159883784752, 'lambda_l1': 1.6779790562481696e-08, 'lambda_l2': 5.6708865525279906e-05, 'num_leaves': 48, 'feature_fraction': 0.4928758413132742, 'bagging_fraction': 0.7551304092487398, 'bagging_freq': 5, 'min_child_samples': 5}. Best is trial 31 with value: 0.6790627362055933.\u001b[0m\n"
     ]
    },
    {
     "name": "stdout",
     "output_type": "stream",
     "text": [
      "[LightGBM] [Warning] verbosity is set=-1, verbose=-1 will be ignored. Current value: verbosity=-1\n",
      "[LightGBM] [Warning] verbosity is set=-1, verbose=-1 will be ignored. Current value: verbosity=-1\n"
     ]
    },
    {
     "name": "stderr",
     "output_type": "stream",
     "text": [
      "\u001b[32m[I 2021-05-10 13:08:40,298]\u001b[0m Trial 45 finished with value: 0.6598639455782312 and parameters: {'learning_rate': 0.010960248298124014, 'lambda_l1': 1.059724937028973e-08, 'lambda_l2': 0.0004935527600599405, 'num_leaves': 57, 'feature_fraction': 0.4911053677498237, 'bagging_fraction': 0.7408067175108247, 'bagging_freq': 4, 'min_child_samples': 13}. Best is trial 31 with value: 0.6790627362055933.\u001b[0m\n"
     ]
    },
    {
     "name": "stdout",
     "output_type": "stream",
     "text": [
      "[LightGBM] [Warning] verbosity is set=-1, verbose=-1 will be ignored. Current value: verbosity=-1\n"
     ]
    },
    {
     "name": "stderr",
     "output_type": "stream",
     "text": [
      "\u001b[32m[I 2021-05-10 13:08:40,574]\u001b[0m Trial 46 finished with value: 0.6338624338624339 and parameters: {'learning_rate': 0.025124650212499374, 'lambda_l1': 5.835601888556934e-07, 'lambda_l2': 1.5206469869385943e-06, 'num_leaves': 94, 'feature_fraction': 0.5272213453344584, 'bagging_fraction': 0.7566406385140442, 'bagging_freq': 5, 'min_child_samples': 22}. Best is trial 31 with value: 0.6790627362055933.\u001b[0m\n"
     ]
    },
    {
     "name": "stdout",
     "output_type": "stream",
     "text": [
      "[LightGBM] [Warning] verbosity is set=-1, verbose=-1 will be ignored. Current value: verbosity=-1\n"
     ]
    },
    {
     "name": "stderr",
     "output_type": "stream",
     "text": [
      "\u001b[32m[I 2021-05-10 13:08:41,490]\u001b[0m Trial 47 finished with value: 0.6459561602418745 and parameters: {'learning_rate': 0.014072472497524642, 'lambda_l1': 8.029751888135233e-08, 'lambda_l2': 5.0738990499464276e-05, 'num_leaves': 401, 'feature_fraction': 0.4765857207491905, 'bagging_fraction': 0.7743614454660512, 'bagging_freq': 6, 'min_child_samples': 8}. Best is trial 31 with value: 0.6790627362055933.\u001b[0m\n"
     ]
    },
    {
     "name": "stdout",
     "output_type": "stream",
     "text": [
      "[LightGBM] [Warning] verbosity is set=-1, verbose=-1 will be ignored. Current value: verbosity=-1\n"
     ]
    },
    {
     "name": "stderr",
     "output_type": "stream",
     "text": [
      "\u001b[32m[I 2021-05-10 13:08:42,263]\u001b[0m Trial 48 finished with value: 0.6270597127739985 and parameters: {'learning_rate': 0.08850494200023123, 'lambda_l1': 1.196028832765828e-06, 'lambda_l2': 4.116179096976248e-07, 'num_leaves': 224, 'feature_fraction': 0.5038114294202657, 'bagging_fraction': 0.8476389068351007, 'bagging_freq': 4, 'min_child_samples': 4}. Best is trial 31 with value: 0.6790627362055933.\u001b[0m\n"
     ]
    },
    {
     "name": "stdout",
     "output_type": "stream",
     "text": [
      "[LightGBM] [Warning] verbosity is set=-1, verbose=-1 will be ignored. Current value: verbosity=-1\n"
     ]
    },
    {
     "name": "stderr",
     "output_type": "stream",
     "text": [
      "\u001b[32m[I 2021-05-10 13:08:42,707]\u001b[0m Trial 49 finished with value: 0.6210128495842782 and parameters: {'learning_rate': 0.05852700483456563, 'lambda_l1': 1.8093373860211852e-08, 'lambda_l2': 6.5724862337776615e-06, 'num_leaves': 121, 'feature_fraction': 0.5483056700093136, 'bagging_fraction': 0.7255770225202942, 'bagging_freq': 5, 'min_child_samples': 19}. Best is trial 31 with value: 0.6790627362055933.\u001b[0m\n"
     ]
    },
    {
     "name": "stdout",
     "output_type": "stream",
     "text": [
      "[LightGBM] [Warning] verbosity is set=-1, verbose=-1 will be ignored. Current value: verbosity=-1\n"
     ]
    },
    {
     "name": "stderr",
     "output_type": "stream",
     "text": [
      "\u001b[32m[I 2021-05-10 13:08:43,957]\u001b[0m Trial 50 finished with value: 0.653968253968254 and parameters: {'learning_rate': 0.01014956836768336, 'lambda_l1': 9.6690791105061e-06, 'lambda_l2': 9.094790996039264e-06, 'num_leaves': 286, 'feature_fraction': 0.46872313755584416, 'bagging_fraction': 0.7027602658250377, 'bagging_freq': 6, 'min_child_samples': 12}. Best is trial 31 with value: 0.6790627362055933.\u001b[0m\n",
      "\u001b[32m[I 2021-05-10 13:08:44,151]\u001b[0m Trial 51 finished with value: 0.6619803476946334 and parameters: {'learning_rate': 0.018079632428895896, 'lambda_l1': 2.789296384441696e-08, 'lambda_l2': 2.8186533853917352e-05, 'num_leaves': 45, 'feature_fraction': 0.6202584129927435, 'bagging_fraction': 0.7892150480395129, 'bagging_freq': 7, 'min_child_samples': 7}. Best is trial 31 with value: 0.6790627362055933.\u001b[0m\n"
     ]
    },
    {
     "name": "stdout",
     "output_type": "stream",
     "text": [
      "[LightGBM] [Warning] verbosity is set=-1, verbose=-1 will be ignored. Current value: verbosity=-1\n",
      "[LightGBM] [Warning] verbosity is set=-1, verbose=-1 will be ignored. Current value: verbosity=-1\n"
     ]
    },
    {
     "name": "stderr",
     "output_type": "stream",
     "text": [
      "\u001b[32m[I 2021-05-10 13:08:44,382]\u001b[0m Trial 52 finished with value: 0.6609221466364323 and parameters: {'learning_rate': 0.014264763694686242, 'lambda_l1': 5.4265461116500476e-08, 'lambda_l2': 0.00018226431691672302, 'num_leaves': 54, 'feature_fraction': 0.567803230354958, 'bagging_fraction': 0.8073832038773016, 'bagging_freq': 8, 'min_child_samples': 5}. Best is trial 31 with value: 0.6790627362055933.\u001b[0m\n",
      "\u001b[32m[I 2021-05-10 13:08:44,526]\u001b[0m Trial 53 finished with value: 0.671806500377929 and parameters: {'learning_rate': 0.020305862440723597, 'lambda_l1': 1.4357273840665974e-07, 'lambda_l2': 7.025731508536432e-05, 'num_leaves': 33, 'feature_fraction': 0.5992613498606638, 'bagging_fraction': 0.7739372181558809, 'bagging_freq': 10, 'min_child_samples': 2}. Best is trial 31 with value: 0.6790627362055933.\u001b[0m\n"
     ]
    },
    {
     "name": "stdout",
     "output_type": "stream",
     "text": [
      "[LightGBM] [Warning] verbosity is set=-1, verbose=-1 will be ignored. Current value: verbosity=-1\n",
      "[LightGBM] [Warning] verbosity is set=-1, verbose=-1 will be ignored. Current value: verbosity=-1\n"
     ]
    },
    {
     "name": "stderr",
     "output_type": "stream",
     "text": [
      "\u001b[32m[I 2021-05-10 13:08:44,867]\u001b[0m Trial 54 finished with value: 0.6559334845049131 and parameters: {'learning_rate': 0.019859265308229325, 'lambda_l1': 4.499324642470397e-07, 'lambda_l2': 4.6924378620134905e-05, 'num_leaves': 99, 'feature_fraction': 0.5441694359434859, 'bagging_fraction': 0.7471930325587117, 'bagging_freq': 10, 'min_child_samples': 2}. Best is trial 31 with value: 0.6790627362055933.\u001b[0m\n"
     ]
    },
    {
     "name": "stdout",
     "output_type": "stream",
     "text": [
      "[LightGBM] [Warning] verbosity is set=-1, verbose=-1 will be ignored. Current value: verbosity=-1\n"
     ]
    },
    {
     "name": "stderr",
     "output_type": "stream",
     "text": [
      "\u001b[32m[I 2021-05-10 13:08:45,107]\u001b[0m Trial 55 finished with value: 0.6568405139833712 and parameters: {'learning_rate': 0.010168787661189867, 'lambda_l1': 1.562927124180661e-07, 'lambda_l2': 0.00010114393766900298, 'num_leaves': 68, 'feature_fraction': 0.5975626400115096, 'bagging_fraction': 0.7651071602582424, 'bagging_freq': 10, 'min_child_samples': 9}. Best is trial 31 with value: 0.6790627362055933.\u001b[0m\n",
      "\u001b[32m[I 2021-05-10 13:08:45,260]\u001b[0m Trial 56 finished with value: 0.6523053665910808 and parameters: {'learning_rate': 0.0232822031027992, 'lambda_l1': 0.0028085643857314, 'lambda_l2': 2.422297697346236e-08, 'num_leaves': 31, 'feature_fraction': 0.5220099972192893, 'bagging_fraction': 0.8233955756598162, 'bagging_freq': 5, 'min_child_samples': 43}. Best is trial 31 with value: 0.6790627362055933.\u001b[0m\n"
     ]
    },
    {
     "name": "stdout",
     "output_type": "stream",
     "text": [
      "[LightGBM] [Warning] verbosity is set=-1, verbose=-1 will be ignored. Current value: verbosity=-1\n",
      "[LightGBM] [Warning] verbosity is set=-1, verbose=-1 will be ignored. Current value: verbosity=-1\n"
     ]
    },
    {
     "name": "stderr",
     "output_type": "stream",
     "text": [
      "\u001b[32m[I 2021-05-10 13:08:45,432]\u001b[0m Trial 57 finished with value: 0.6592592592592592 and parameters: {'learning_rate': 0.0320403266765268, 'lambda_l1': 1.521985132801769e-08, 'lambda_l2': 1.0023527192165102e-07, 'num_leaves': 49, 'feature_fraction': 0.5356854384543788, 'bagging_fraction': 0.8002997524038827, 'bagging_freq': 9, 'min_child_samples': 2}. Best is trial 31 with value: 0.6790627362055933.\u001b[0m\n"
     ]
    },
    {
     "name": "stdout",
     "output_type": "stream",
     "text": [
      "[LightGBM] [Warning] verbosity is set=-1, verbose=-1 will be ignored. Current value: verbosity=-1\n"
     ]
    },
    {
     "name": "stderr",
     "output_type": "stream",
     "text": [
      "\u001b[32m[I 2021-05-10 13:08:45,890]\u001b[0m Trial 58 finished with value: 0.6637944066515495 and parameters: {'learning_rate': 0.010028110452606188, 'lambda_l1': 3.1995009573364136e-07, 'lambda_l2': 0.009666811453448583, 'num_leaves': 94, 'feature_fraction': 0.3026235560895817, 'bagging_fraction': 0.7741664869723407, 'bagging_freq': 11, 'min_child_samples': 15}. Best is trial 31 with value: 0.6790627362055933.\u001b[0m\n"
     ]
    },
    {
     "name": "stdout",
     "output_type": "stream",
     "text": [
      "[LightGBM] [Warning] verbosity is set=-1, verbose=-1 will be ignored. Current value: verbosity=-1\n"
     ]
    },
    {
     "name": "stderr",
     "output_type": "stream",
     "text": [
      "\u001b[32m[I 2021-05-10 13:08:46,591]\u001b[0m Trial 59 finished with value: 0.6445956160241875 and parameters: {'learning_rate': 0.02011733338659094, 'lambda_l1': 1.2351414125536057e-07, 'lambda_l2': 0.00039144225130023007, 'num_leaves': 169, 'feature_fraction': 0.5749645742678857, 'bagging_fraction': 0.7369931524204112, 'bagging_freq': 4, 'min_child_samples': 7}. Best is trial 31 with value: 0.6790627362055933.\u001b[0m\n"
     ]
    },
    {
     "name": "stdout",
     "output_type": "stream",
     "text": [
      "[LightGBM] [Warning] verbosity is set=-1, verbose=-1 will be ignored. Current value: verbosity=-1\n"
     ]
    },
    {
     "name": "stderr",
     "output_type": "stream",
     "text": [
      "\u001b[32m[I 2021-05-10 13:08:46,945]\u001b[0m Trial 60 finished with value: 0.6529100529100529 and parameters: {'learning_rate': 0.01411702289984475, 'lambda_l1': 6.27194651649148e-08, 'lambda_l2': 3.2262996536893737e-06, 'num_leaves': 67, 'feature_fraction': 0.6782626789433829, 'bagging_fraction': 0.7553021124107218, 'bagging_freq': 5, 'min_child_samples': 25}. Best is trial 31 with value: 0.6790627362055933.\u001b[0m\n",
      "\u001b[32m[I 2021-05-10 13:08:47,136]\u001b[0m Trial 61 finished with value: 0.6702947845804988 and parameters: {'learning_rate': 0.01654918854505206, 'lambda_l1': 2.1688513599976598e-08, 'lambda_l2': 1.3045628708463032e-05, 'num_leaves': 31, 'feature_fraction': 0.6024708777755086, 'bagging_fraction': 0.7793275068301269, 'bagging_freq': 6, 'min_child_samples': 4}. Best is trial 31 with value: 0.6790627362055933.\u001b[0m\n"
     ]
    },
    {
     "name": "stdout",
     "output_type": "stream",
     "text": [
      "[LightGBM] [Warning] verbosity is set=-1, verbose=-1 will be ignored. Current value: verbosity=-1\n",
      "[LightGBM] [Warning] verbosity is set=-1, verbose=-1 will be ignored. Current value: verbosity=-1\n"
     ]
    },
    {
     "name": "stderr",
     "output_type": "stream",
     "text": [
      "\u001b[32m[I 2021-05-10 13:08:47,333]\u001b[0m Trial 62 finished with value: 0.6683295540438398 and parameters: {'learning_rate': 0.027715245206034755, 'lambda_l1': 1.9405142885748626e-08, 'lambda_l2': 1.0720752835592982e-05, 'num_leaves': 43, 'feature_fraction': 0.6335518273269547, 'bagging_fraction': 0.7911915815471288, 'bagging_freq': 6, 'min_child_samples': 3}. Best is trial 31 with value: 0.6790627362055933.\u001b[0m\n"
     ]
    },
    {
     "name": "stdout",
     "output_type": "stream",
     "text": [
      "[LightGBM] [Warning] verbosity is set=-1, verbose=-1 will be ignored. Current value: verbosity=-1\n"
     ]
    },
    {
     "name": "stderr",
     "output_type": "stream",
     "text": [
      "\u001b[32m[I 2021-05-10 13:08:47,632]\u001b[0m Trial 63 finished with value: 0.6604686318972033 and parameters: {'learning_rate': 0.012945129841069198, 'lambda_l1': 1.1365486928170646e-08, 'lambda_l2': 9.997575111533992e-05, 'num_leaves': 116, 'feature_fraction': 0.5622848288023767, 'bagging_fraction': 0.7641753846465825, 'bagging_freq': 5, 'min_child_samples': 9}. Best is trial 31 with value: 0.6790627362055933.\u001b[0m\n",
      "\u001b[32m[I 2021-05-10 13:08:47,780]\u001b[0m Trial 64 finished with value: 0.6699924414210129 and parameters: {'learning_rate': 0.020586286416014368, 'lambda_l1': 1.6370282144056773e-06, 'lambda_l2': 1.9578747776153337e-06, 'num_leaves': 31, 'feature_fraction': 0.5865136714330393, 'bagging_fraction': 0.7232414263908369, 'bagging_freq': 11, 'min_child_samples': 4}. Best is trial 31 with value: 0.6790627362055933.\u001b[0m\n"
     ]
    },
    {
     "name": "stdout",
     "output_type": "stream",
     "text": [
      "[LightGBM] [Warning] verbosity is set=-1, verbose=-1 will be ignored. Current value: verbosity=-1\n",
      "[LightGBM] [Warning] verbosity is set=-1, verbose=-1 will be ignored. Current value: verbosity=-1\n"
     ]
    },
    {
     "name": "stderr",
     "output_type": "stream",
     "text": [
      "\u001b[32m[I 2021-05-10 13:08:48,028]\u001b[0m Trial 65 finished with value: 0.6761904761904762 and parameters: {'learning_rate': 0.010151736645698777, 'lambda_l1': 6.843954641391049e-06, 'lambda_l2': 0.9597001946401785, 'num_leaves': 64, 'feature_fraction': 0.6007657701108062, 'bagging_fraction': 0.7688963506060682, 'bagging_freq': 6, 'min_child_samples': 7}. Best is trial 31 with value: 0.6790627362055933.\u001b[0m\n"
     ]
    },
    {
     "name": "stdout",
     "output_type": "stream",
     "text": [
      "[LightGBM] [Warning] verbosity is set=-1, verbose=-1 will be ignored. Current value: verbosity=-1\n"
     ]
    },
    {
     "name": "stderr",
     "output_type": "stream",
     "text": [
      "\u001b[32m[I 2021-05-10 13:08:48,269]\u001b[0m Trial 66 finished with value: 0.6607709750566894 and parameters: {'learning_rate': 0.010071835513622248, 'lambda_l1': 7.428063573728531e-06, 'lambda_l2': 0.07392883960494663, 'num_leaves': 67, 'feature_fraction': 0.6452157056637069, 'bagging_fraction': 0.7690970380897375, 'bagging_freq': 9, 'min_child_samples': 7}. Best is trial 31 with value: 0.6790627362055933.\u001b[0m\n"
     ]
    },
    {
     "name": "stdout",
     "output_type": "stream",
     "text": [
      "[LightGBM] [Warning] verbosity is set=-1, verbose=-1 will be ignored. Current value: verbosity=-1\n"
     ]
    },
    {
     "name": "stderr",
     "output_type": "stream",
     "text": [
      "\u001b[32m[I 2021-05-10 13:08:48,550]\u001b[0m Trial 67 finished with value: 0.6575963718820862 and parameters: {'learning_rate': 0.01274116299594716, 'lambda_l1': 1.8350614005396022e-05, 'lambda_l2': 0.000992782685109977, 'num_leaves': 87, 'feature_fraction': 0.5835953374300483, 'bagging_fraction': 0.7468863123566765, 'bagging_freq': 10, 'min_child_samples': 13}. Best is trial 31 with value: 0.6790627362055933.\u001b[0m\n"
     ]
    },
    {
     "name": "stdout",
     "output_type": "stream",
     "text": [
      "[LightGBM] [Warning] verbosity is set=-1, verbose=-1 will be ignored. Current value: verbosity=-1\n"
     ]
    },
    {
     "name": "stderr",
     "output_type": "stream",
     "text": [
      "\u001b[32m[I 2021-05-10 13:08:48,937]\u001b[0m Trial 68 finished with value: 0.6565381708238851 and parameters: {'learning_rate': 0.01020279312816945, 'lambda_l1': 3.229705913984007e-05, 'lambda_l2': 1.932428354578558e-07, 'num_leaves': 125, 'feature_fraction': 0.5493951723593977, 'bagging_fraction': 0.802852250812594, 'bagging_freq': 3, 'min_child_samples': 17}. Best is trial 31 with value: 0.6790627362055933.\u001b[0m\n"
     ]
    },
    {
     "name": "stdout",
     "output_type": "stream",
     "text": [
      "[LightGBM] [Warning] verbosity is set=-1, verbose=-1 will be ignored. Current value: verbosity=-1\n"
     ]
    },
    {
     "name": "stderr",
     "output_type": "stream",
     "text": [
      "\u001b[32m[I 2021-05-10 13:08:49,193]\u001b[0m Trial 69 finished with value: 0.6612244897959184 and parameters: {'learning_rate': 0.018297695836225515, 'lambda_l1': 2.4690313893162015e-06, 'lambda_l2': 0.2785124920683199, 'num_leaves': 60, 'feature_fraction': 0.557722459422728, 'bagging_fraction': 0.8233232035525914, 'bagging_freq': 4, 'min_child_samples': 10}. Best is trial 31 with value: 0.6790627362055933.\u001b[0m\n"
     ]
    },
    {
     "name": "stdout",
     "output_type": "stream",
     "text": [
      "[LightGBM] [Warning] verbosity is set=-1, verbose=-1 will be ignored. Current value: verbosity=-1\n"
     ]
    },
    {
     "name": "stderr",
     "output_type": "stream",
     "text": [
      "\u001b[32m[I 2021-05-10 13:08:49,487]\u001b[0m Trial 70 finished with value: 0.6393046107331821 and parameters: {'learning_rate': 0.022973073715238806, 'lambda_l1': 0.9870669040661382, 'lambda_l2': 5.025229700304182e-07, 'num_leaves': 101, 'feature_fraction': 0.6261277930288356, 'bagging_fraction': 0.73193659084481, 'bagging_freq': 5, 'min_child_samples': 6}. Best is trial 31 with value: 0.6790627362055933.\u001b[0m\n",
      "\u001b[32m[I 2021-05-10 13:08:49,656]\u001b[0m Trial 71 finished with value: 0.6651549508692366 and parameters: {'learning_rate': 0.01604173243972484, 'lambda_l1': 0.0003246385918559171, 'lambda_l2': 1.7781770957143054e-05, 'num_leaves': 43, 'feature_fraction': 0.6038161604012787, 'bagging_fraction': 0.7579958521222872, 'bagging_freq': 6, 'min_child_samples': 3}. Best is trial 31 with value: 0.6790627362055933.\u001b[0m\n"
     ]
    },
    {
     "name": "stdout",
     "output_type": "stream",
     "text": [
      "[LightGBM] [Warning] verbosity is set=-1, verbose=-1 will be ignored. Current value: verbosity=-1\n",
      "[LightGBM] [Warning] verbosity is set=-1, verbose=-1 will be ignored. Current value: verbosity=-1\n"
     ]
    },
    {
     "name": "stderr",
     "output_type": "stream",
     "text": [
      "\u001b[32m[I 2021-05-10 13:08:49,832]\u001b[0m Trial 72 finished with value: 0.6630385487528345 and parameters: {'learning_rate': 0.012635210309077386, 'lambda_l1': 4.564989535927379e-06, 'lambda_l2': 0.00020910028491173633, 'num_leaves': 31, 'feature_fraction': 0.6043948992230255, 'bagging_fraction': 0.7700191003346248, 'bagging_freq': 6, 'min_child_samples': 4}. Best is trial 31 with value: 0.6790627362055933.\u001b[0m\n"
     ]
    },
    {
     "name": "stdout",
     "output_type": "stream",
     "text": [
      "[LightGBM] [Warning] verbosity is set=-1, verbose=-1 will be ignored. Current value: verbosity=-1\n"
     ]
    },
    {
     "name": "stderr",
     "output_type": "stream",
     "text": [
      "\u001b[32m[I 2021-05-10 13:08:50,121]\u001b[0m Trial 73 finished with value: 0.6550264550264551 and parameters: {'learning_rate': 0.016132785549457046, 'lambda_l1': 8.806839632147137e-07, 'lambda_l2': 4.881190933346076e-06, 'num_leaves': 81, 'feature_fraction': 0.6162221665092741, 'bagging_fraction': 0.7798687457136353, 'bagging_freq': 5, 'min_child_samples': 8}. Best is trial 31 with value: 0.6790627362055933.\u001b[0m\n",
      "\u001b[32m[I 2021-05-10 13:08:50,317]\u001b[0m Trial 74 finished with value: 0.6592592592592592 and parameters: {'learning_rate': 0.019442189921243497, 'lambda_l1': 1.6442888220937457e-07, 'lambda_l2': 7.471509240904848e-07, 'num_leaves': 48, 'feature_fraction': 0.5777529299419676, 'bagging_fraction': 0.7862325251118363, 'bagging_freq': 6, 'min_child_samples': 6}. Best is trial 31 with value: 0.6790627362055933.\u001b[0m\n"
     ]
    },
    {
     "name": "stdout",
     "output_type": "stream",
     "text": [
      "[LightGBM] [Warning] verbosity is set=-1, verbose=-1 will be ignored. Current value: verbosity=-1\n",
      "[LightGBM] [Warning] verbosity is set=-1, verbose=-1 will be ignored. Current value: verbosity=-1\n"
     ]
    },
    {
     "name": "stderr",
     "output_type": "stream",
     "text": [
      "\u001b[32m[I 2021-05-10 13:08:51,100]\u001b[0m Trial 75 finished with value: 0.6518518518518519 and parameters: {'learning_rate': 0.015699588515353042, 'lambda_l1': 6.724200031317976e-05, 'lambda_l2': 1.2418117600410302e-07, 'num_leaves': 341, 'feature_fraction': 0.4362319649013518, 'bagging_fraction': 0.977839922504171, 'bagging_freq': 7, 'min_child_samples': 2}. Best is trial 31 with value: 0.6790627362055933.\u001b[0m\n"
     ]
    },
    {
     "name": "stdout",
     "output_type": "stream",
     "text": [
      "[LightGBM] [Warning] verbosity is set=-1, verbose=-1 will be ignored. Current value: verbosity=-1\n"
     ]
    },
    {
     "name": "stderr",
     "output_type": "stream",
     "text": [
      "\u001b[32m[I 2021-05-10 13:08:51,357]\u001b[0m Trial 76 finished with value: 0.6591080876795162 and parameters: {'learning_rate': 0.011899915373151231, 'lambda_l1': 5.5616332412949605e-08, 'lambda_l2': 4.5960637851073114e-05, 'num_leaves': 78, 'feature_fraction': 0.5963281810995467, 'bagging_fraction': 0.7952090900070937, 'bagging_freq': 5, 'min_child_samples': 10}. Best is trial 31 with value: 0.6790627362055933.\u001b[0m\n",
      "\u001b[32m[I 2021-05-10 13:08:51,535]\u001b[0m Trial 77 finished with value: 0.6385487528344671 and parameters: {'learning_rate': 0.07358669211053742, 'lambda_l1': 3.07002053509298e-07, 'lambda_l2': 6.995844704415946e-08, 'num_leaves': 62, 'feature_fraction': 0.514960218793238, 'bagging_fraction': 0.8088573639100413, 'bagging_freq': 4, 'min_child_samples': 12}. Best is trial 31 with value: 0.6790627362055933.\u001b[0m\n"
     ]
    },
    {
     "name": "stdout",
     "output_type": "stream",
     "text": [
      "[LightGBM] [Warning] verbosity is set=-1, verbose=-1 will be ignored. Current value: verbosity=-1\n",
      "[LightGBM] [Warning] verbosity is set=-1, verbose=-1 will be ignored. Current value: verbosity=-1\n"
     ]
    },
    {
     "name": "stderr",
     "output_type": "stream",
     "text": [
      "\u001b[32m[I 2021-05-10 13:08:51,979]\u001b[0m Trial 78 finished with value: 0.6294784580498867 and parameters: {'learning_rate': 0.04838489921191967, 'lambda_l1': 2.6994203345675478e-08, 'lambda_l2': 0.00012308878412930363, 'num_leaves': 152, 'feature_fraction': 0.5312438147437546, 'bagging_fraction': 0.7431251241194552, 'bagging_freq': 6, 'min_child_samples': 15}. Best is trial 31 with value: 0.6790627362055933.\u001b[0m\n",
      "\u001b[32m[I 2021-05-10 13:08:52,144]\u001b[0m Trial 79 finished with value: 0.6695389266817838 and parameters: {'learning_rate': 0.022553036504300843, 'lambda_l1': 9.940953590847416e-08, 'lambda_l2': 7.535406453522269e-06, 'num_leaves': 31, 'feature_fraction': 0.6527206425391667, 'bagging_fraction': 0.7821679976922856, 'bagging_freq': 5, 'min_child_samples': 4}. Best is trial 31 with value: 0.6790627362055933.\u001b[0m\n"
     ]
    },
    {
     "name": "stdout",
     "output_type": "stream",
     "text": [
      "[LightGBM] [Warning] verbosity is set=-1, verbose=-1 will be ignored. Current value: verbosity=-1\n",
      "[LightGBM] [Warning] verbosity is set=-1, verbose=-1 will be ignored. Current value: verbosity=-1\n"
     ]
    },
    {
     "name": "stderr",
     "output_type": "stream",
     "text": [
      "\u001b[32m[I 2021-05-10 13:08:52,495]\u001b[0m Trial 80 finished with value: 0.655177626606198 and parameters: {'learning_rate': 0.017921073767730847, 'lambda_l1': 5.793325733533561e-07, 'lambda_l2': 1.524407597014509e-05, 'num_leaves': 110, 'feature_fraction': 0.46271875055458667, 'bagging_fraction': 0.7530141948908732, 'bagging_freq': 5, 'min_child_samples': 7}. Best is trial 31 with value: 0.6790627362055933.\u001b[0m\n",
      "\u001b[32m[I 2021-05-10 13:08:52,662]\u001b[0m Trial 81 finished with value: 0.6801209372637944 and parameters: {'learning_rate': 0.01475304418617672, 'lambda_l1': 4.317649589860683e-08, 'lambda_l2': 2.2269112115397176e-05, 'num_leaves': 40, 'feature_fraction': 0.6345274464779307, 'bagging_fraction': 0.7829332949688251, 'bagging_freq': 7, 'min_child_samples': 5}. Best is trial 81 with value: 0.6801209372637944.\u001b[0m\n"
     ]
    },
    {
     "name": "stdout",
     "output_type": "stream",
     "text": [
      "[LightGBM] [Warning] verbosity is set=-1, verbose=-1 will be ignored. Current value: verbosity=-1\n",
      "[LightGBM] [Warning] verbosity is set=-1, verbose=-1 will be ignored. Current value: verbosity=-1\n"
     ]
    },
    {
     "name": "stderr",
     "output_type": "stream",
     "text": [
      "\u001b[32m[I 2021-05-10 13:08:52,844]\u001b[0m Trial 82 finished with value: 0.6701436130007559 and parameters: {'learning_rate': 0.014418438800833249, 'lambda_l1': 4.499991711817653e-08, 'lambda_l2': 3.864480415173015e-05, 'num_leaves': 43, 'feature_fraction': 0.636887847191153, 'bagging_fraction': 0.7709919105170079, 'bagging_freq': 7, 'min_child_samples': 3}. Best is trial 81 with value: 0.6801209372637944.\u001b[0m\n"
     ]
    },
    {
     "name": "stdout",
     "output_type": "stream",
     "text": [
      "[LightGBM] [Warning] verbosity is set=-1, verbose=-1 will be ignored. Current value: verbosity=-1\n"
     ]
    },
    {
     "name": "stderr",
     "output_type": "stream",
     "text": [
      "\u001b[32m[I 2021-05-10 13:08:53,066]\u001b[0m Trial 83 finished with value: 0.6601662887377173 and parameters: {'learning_rate': 0.012055311398802844, 'lambda_l1': 1.897599931304617e-08, 'lambda_l2': 1.391962857678942e-06, 'num_leaves': 55, 'feature_fraction': 0.6233106171161263, 'bagging_fraction': 0.8400765775972092, 'bagging_freq': 8, 'min_child_samples': 54}. Best is trial 81 with value: 0.6801209372637944.\u001b[0m\n"
     ]
    },
    {
     "name": "stdout",
     "output_type": "stream",
     "text": [
      "[LightGBM] [Warning] verbosity is set=-1, verbose=-1 will be ignored. Current value: verbosity=-1\n"
     ]
    },
    {
     "name": "stderr",
     "output_type": "stream",
     "text": [
      "\u001b[32m[I 2021-05-10 13:08:53,315]\u001b[0m Trial 84 finished with value: 0.6704459561602418 and parameters: {'learning_rate': 0.010075338383857099, 'lambda_l1': 1.0099383036053747e-08, 'lambda_l2': 2.834946251241738e-05, 'num_leaves': 72, 'feature_fraction': 0.5705732683704232, 'bagging_fraction': 0.7969566957326306, 'bagging_freq': 6, 'min_child_samples': 6}. Best is trial 81 with value: 0.6801209372637944.\u001b[0m\n",
      "\u001b[32m[I 2021-05-10 13:08:53,525]\u001b[0m Trial 85 finished with value: 0.6707482993197279 and parameters: {'learning_rate': 0.010493088902981488, 'lambda_l1': 0.00018099361139953116, 'lambda_l2': 2.517612197183809e-05, 'num_leaves': 74, 'feature_fraction': 0.5716297147516337, 'bagging_fraction': 0.7961756152860447, 'bagging_freq': 8, 'min_child_samples': 8}. Best is trial 81 with value: 0.6801209372637944.\u001b[0m\n"
     ]
    },
    {
     "name": "stdout",
     "output_type": "stream",
     "text": [
      "[LightGBM] [Warning] verbosity is set=-1, verbose=-1 will be ignored. Current value: verbosity=-1\n",
      "[LightGBM] [Warning] verbosity is set=-1, verbose=-1 will be ignored. Current value: verbosity=-1\n"
     ]
    },
    {
     "name": "stderr",
     "output_type": "stream",
     "text": [
      "\u001b[32m[I 2021-05-10 13:08:53,822]\u001b[0m Trial 86 finished with value: 0.6568405139833712 and parameters: {'learning_rate': 0.012998286824995889, 'lambda_l1': 0.0008581172427107113, 'lambda_l2': 8.112331900842805e-05, 'num_leaves': 94, 'feature_fraction': 0.4901059975620619, 'bagging_fraction': 0.8203300942077092, 'bagging_freq': 8, 'min_child_samples': 11}. Best is trial 81 with value: 0.6801209372637944.\u001b[0m\n"
     ]
    },
    {
     "name": "stdout",
     "output_type": "stream",
     "text": [
      "[LightGBM] [Warning] verbosity is set=-1, verbose=-1 will be ignored. Current value: verbosity=-1\n"
     ]
    },
    {
     "name": "stderr",
     "output_type": "stream",
     "text": [
      "\u001b[32m[I 2021-05-10 13:08:54,112]\u001b[0m Trial 87 finished with value: 0.6586545729402872 and parameters: {'learning_rate': 0.010184879608403008, 'lambda_l1': 0.0001638226632543877, 'lambda_l2': 3.263580582508131e-07, 'num_leaves': 82, 'feature_fraction': 0.588589775755541, 'bagging_fraction': 0.7869701286755152, 'bagging_freq': 9, 'min_child_samples': 9}. Best is trial 81 with value: 0.6801209372637944.\u001b[0m\n"
     ]
    },
    {
     "name": "stdout",
     "output_type": "stream",
     "text": [
      "[LightGBM] [Warning] verbosity is set=-1, verbose=-1 will be ignored. Current value: verbosity=-1\n"
     ]
    },
    {
     "name": "stderr",
     "output_type": "stream",
     "text": [
      "\u001b[32m[I 2021-05-10 13:08:54,402]\u001b[0m Trial 88 finished with value: 0.6580498866213151 and parameters: {'learning_rate': 0.014858646777458403, 'lambda_l1': 5.5170184804699635e-05, 'lambda_l2': 1.7967733787240776e-07, 'num_leaves': 63, 'feature_fraction': 0.5546837479700569, 'bagging_fraction': 0.8698054587321573, 'bagging_freq': 9, 'min_child_samples': 8}. Best is trial 81 with value: 0.6801209372637944.\u001b[0m\n"
     ]
    },
    {
     "name": "stdout",
     "output_type": "stream",
     "text": [
      "[LightGBM] [Warning] verbosity is set=-1, verbose=-1 will be ignored. Current value: verbosity=-1\n"
     ]
    },
    {
     "name": "stderr",
     "output_type": "stream",
     "text": [
      "\u001b[32m[I 2021-05-10 13:08:55,227]\u001b[0m Trial 89 finished with value: 0.6438397581254724 and parameters: {'learning_rate': 0.026984367593667218, 'lambda_l1': 8.071106490212426e-08, 'lambda_l2': 0.0003159287094455428, 'num_leaves': 252, 'feature_fraction': 0.536584408536141, 'bagging_fraction': 0.7150674036005636, 'bagging_freq': 8, 'min_child_samples': 6}. Best is trial 81 with value: 0.6801209372637944.\u001b[0m\n",
      "\u001b[32m[I 2021-05-10 13:08:55,391]\u001b[0m Trial 90 finished with value: 0.6601662887377173 and parameters: {'learning_rate': 0.018506063889142915, 'lambda_l1': 1.8642093139142442e-07, 'lambda_l2': 4.223815223253413e-06, 'num_leaves': 43, 'feature_fraction': 0.6964115852426204, 'bagging_fraction': 0.7618681159987406, 'bagging_freq': 7, 'min_child_samples': 13}. Best is trial 81 with value: 0.6801209372637944.\u001b[0m\n"
     ]
    },
    {
     "name": "stdout",
     "output_type": "stream",
     "text": [
      "[LightGBM] [Warning] verbosity is set=-1, verbose=-1 will be ignored. Current value: verbosity=-1\n",
      "[LightGBM] [Warning] verbosity is set=-1, verbose=-1 will be ignored. Current value: verbosity=-1\n"
     ]
    },
    {
     "name": "stderr",
     "output_type": "stream",
     "text": [
      "\u001b[32m[I 2021-05-10 13:08:55,618]\u001b[0m Trial 91 finished with value: 0.6631897203325775 and parameters: {'learning_rate': 0.012035230010184222, 'lambda_l1': 0.00020668695759063657, 'lambda_l2': 2.8006324919355845e-05, 'num_leaves': 70, 'feature_fraction': 0.5675402415957931, 'bagging_fraction': 0.7997065550263166, 'bagging_freq': 10, 'min_child_samples': 6}. Best is trial 81 with value: 0.6801209372637944.\u001b[0m\n"
     ]
    },
    {
     "name": "stdout",
     "output_type": "stream",
     "text": [
      "[LightGBM] [Warning] verbosity is set=-1, verbose=-1 will be ignored. Current value: verbosity=-1\n"
     ]
    },
    {
     "name": "stderr",
     "output_type": "stream",
     "text": [
      "\u001b[32m[I 2021-05-10 13:08:55,935]\u001b[0m Trial 92 finished with value: 0.6675736961451247 and parameters: {'learning_rate': 0.010119492875023676, 'lambda_l1': 0.0007521827316782958, 'lambda_l2': 1.9528589315032103e-05, 'num_leaves': 76, 'feature_fraction': 0.5781935696289009, 'bagging_fraction': 0.7009096952919635, 'bagging_freq': 7, 'min_child_samples': 2}. Best is trial 81 with value: 0.6801209372637944.\u001b[0m\n"
     ]
    },
    {
     "name": "stdout",
     "output_type": "stream",
     "text": [
      "[LightGBM] [Warning] verbosity is set=-1, verbose=-1 will be ignored. Current value: verbosity=-1\n"
     ]
    },
    {
     "name": "stderr",
     "output_type": "stream",
     "text": [
      "\u001b[32m[I 2021-05-10 13:08:56,272]\u001b[0m Trial 93 finished with value: 0.6631897203325775 and parameters: {'learning_rate': 0.014357050857584755, 'lambda_l1': 2.9505254636747846e-08, 'lambda_l2': 7.180158176497806e-05, 'num_leaves': 90, 'feature_fraction': 0.502956691352695, 'bagging_fraction': 0.812967562441674, 'bagging_freq': 6, 'min_child_samples': 5}. Best is trial 81 with value: 0.6801209372637944.\u001b[0m\n",
      "\u001b[32m[I 2021-05-10 13:08:56,469]\u001b[0m Trial 94 finished with value: 0.671201814058957 and parameters: {'learning_rate': 0.010072444057151533, 'lambda_l1': 3.1094775291743454e-05, 'lambda_l2': 5.826768818593613e-05, 'num_leaves': 53, 'feature_fraction': 0.5695697525294815, 'bagging_fraction': 0.793461140313496, 'bagging_freq': 7, 'min_child_samples': 8}. Best is trial 81 with value: 0.6801209372637944.\u001b[0m\n"
     ]
    },
    {
     "name": "stdout",
     "output_type": "stream",
     "text": [
      "[LightGBM] [Warning] verbosity is set=-1, verbose=-1 will be ignored. Current value: verbosity=-1\n",
      "[LightGBM] [Warning] verbosity is set=-1, verbose=-1 will be ignored. Current value: verbosity=-1\n"
     ]
    },
    {
     "name": "stderr",
     "output_type": "stream",
     "text": [
      "\u001b[32m[I 2021-05-10 13:08:56,670]\u001b[0m Trial 95 finished with value: 0.6529100529100529 and parameters: {'learning_rate': 0.021634623483899145, 'lambda_l1': 2.9757945548774508e-05, 'lambda_l2': 0.00012694635014760057, 'num_leaves': 52, 'feature_fraction': 0.6116369390448729, 'bagging_fraction': 0.7877505261645396, 'bagging_freq': 8, 'min_child_samples': 10}. Best is trial 81 with value: 0.6801209372637944.\u001b[0m\n",
      "\u001b[32m[I 2021-05-10 13:08:56,866]\u001b[0m Trial 96 finished with value: 0.6612244897959184 and parameters: {'learning_rate': 0.017101203858992706, 'lambda_l1': 0.0001250991986962622, 'lambda_l2': 5.623080946386236e-05, 'num_leaves': 39, 'feature_fraction': 0.591266258159117, 'bagging_fraction': 0.805796177562962, 'bagging_freq': 8, 'min_child_samples': 30}. Best is trial 81 with value: 0.6801209372637944.\u001b[0m\n"
     ]
    },
    {
     "name": "stdout",
     "output_type": "stream",
     "text": [
      "[LightGBM] [Warning] verbosity is set=-1, verbose=-1 will be ignored. Current value: verbosity=-1\n",
      "[LightGBM] [Warning] verbosity is set=-1, verbose=-1 will be ignored. Current value: verbosity=-1\n"
     ]
    },
    {
     "name": "stderr",
     "output_type": "stream",
     "text": [
      "\u001b[32m[I 2021-05-10 13:08:57,095]\u001b[0m Trial 97 finished with value: 0.6515495086923658 and parameters: {'learning_rate': 0.04081193326598954, 'lambda_l1': 8.049854887753644e-06, 'lambda_l2': 0.00024799114203008233, 'num_leaves': 54, 'feature_fraction': 0.6688882602071385, 'bagging_fraction': 0.7738161817660731, 'bagging_freq': 9, 'min_child_samples': 8}. Best is trial 81 with value: 0.6801209372637944.\u001b[0m\n"
     ]
    },
    {
     "name": "stdout",
     "output_type": "stream",
     "text": [
      "[LightGBM] [Warning] verbosity is set=-1, verbose=-1 will be ignored. Current value: verbosity=-1\n"
     ]
    },
    {
     "name": "stderr",
     "output_type": "stream",
     "text": [
      "\u001b[32m[I 2021-05-10 13:08:57,329]\u001b[0m Trial 98 finished with value: 0.6663643235071807 and parameters: {'learning_rate': 0.012050961824092436, 'lambda_l1': 2.8682366021437863e-06, 'lambda_l2': 6.782782279786923e-08, 'num_leaves': 63, 'feature_fraction': 0.5455838279637146, 'bagging_fraction': 0.7587118919444609, 'bagging_freq': 7, 'min_child_samples': 2}. Best is trial 81 with value: 0.6801209372637944.\u001b[0m\n"
     ]
    },
    {
     "name": "stdout",
     "output_type": "stream",
     "text": [
      "[LightGBM] [Warning] verbosity is set=-1, verbose=-1 will be ignored. Current value: verbosity=-1\n"
     ]
    },
    {
     "name": "stderr",
     "output_type": "stream",
     "text": [
      "\u001b[32m[I 2021-05-10 13:08:58,028]\u001b[0m Trial 99 finished with value: 0.6503401360544218 and parameters: {'learning_rate': 0.014553442586149296, 'lambda_l1': 1.7003062317114786e-05, 'lambda_l2': 1.0320427177035798e-08, 'num_leaves': 105, 'feature_fraction': 0.5584060987606989, 'bagging_fraction': 0.7664907506795807, 'bagging_freq': 4, 'min_child_samples': 12}. Best is trial 81 with value: 0.6801209372637944.\u001b[0m\n"
     ]
    },
    {
     "name": "stdout",
     "output_type": "stream",
     "text": [
      "Best Value: 0.6801209372637944\n",
      "Best trial: {'learning_rate': 0.01475304418617672, 'lambda_l1': 4.317649589860683e-08, 'lambda_l2': 2.2269112115397176e-05, 'num_leaves': 40, 'feature_fraction': 0.6345274464779307, 'bagging_fraction': 0.7829332949688251, 'bagging_freq': 7, 'min_child_samples': 5}\n"
     ]
    }
   ],
   "source": [
    "study = optuna.create_study(direction='maximize')\n",
    "study.optimize(objective, n_trials=100)\n",
    "\n",
    "print('Best Value:', study.best_value)\n",
    "print('Best trial:', study.best_trial.params)"
   ]
  },
  {
   "cell_type": "code",
   "execution_count": 39,
   "metadata": {
    "scrolled": true
   },
   "outputs": [
    {
     "data": {
      "text/html": [
       "<div>\n",
       "<style scoped>\n",
       "    .dataframe tbody tr th:only-of-type {\n",
       "        vertical-align: middle;\n",
       "    }\n",
       "\n",
       "    .dataframe tbody tr th {\n",
       "        vertical-align: top;\n",
       "    }\n",
       "\n",
       "    .dataframe thead th {\n",
       "        text-align: right;\n",
       "    }\n",
       "</style>\n",
       "<table border=\"1\" class=\"dataframe\">\n",
       "  <thead>\n",
       "    <tr style=\"text-align: right;\">\n",
       "      <th></th>\n",
       "      <th>number</th>\n",
       "      <th>value</th>\n",
       "      <th>datetime_start</th>\n",
       "      <th>datetime_complete</th>\n",
       "      <th>duration</th>\n",
       "      <th>params_bagging_fraction</th>\n",
       "      <th>params_bagging_freq</th>\n",
       "      <th>params_feature_fraction</th>\n",
       "      <th>params_lambda_l1</th>\n",
       "      <th>params_lambda_l2</th>\n",
       "      <th>params_learning_rate</th>\n",
       "      <th>params_min_child_samples</th>\n",
       "      <th>params_num_leaves</th>\n",
       "      <th>state</th>\n",
       "    </tr>\n",
       "  </thead>\n",
       "  <tbody>\n",
       "    <tr>\n",
       "      <th>81</th>\n",
       "      <td>81</td>\n",
       "      <td>0.680121</td>\n",
       "      <td>2021-05-10 13:08:52.495974</td>\n",
       "      <td>2021-05-10 13:08:52.661800</td>\n",
       "      <td>00:00:00.165826</td>\n",
       "      <td>0.782933</td>\n",
       "      <td>7</td>\n",
       "      <td>0.634527</td>\n",
       "      <td>4.317650e-08</td>\n",
       "      <td>2.226911e-05</td>\n",
       "      <td>0.014753</td>\n",
       "      <td>5</td>\n",
       "      <td>40</td>\n",
       "      <td>COMPLETE</td>\n",
       "    </tr>\n",
       "    <tr>\n",
       "      <th>31</th>\n",
       "      <td>31</td>\n",
       "      <td>0.679063</td>\n",
       "      <td>2021-05-10 13:08:35.774959</td>\n",
       "      <td>2021-05-10 13:08:35.916117</td>\n",
       "      <td>00:00:00.141158</td>\n",
       "      <td>0.801065</td>\n",
       "      <td>5</td>\n",
       "      <td>0.620831</td>\n",
       "      <td>4.252143e-08</td>\n",
       "      <td>1.466697e-05</td>\n",
       "      <td>0.010083</td>\n",
       "      <td>4</td>\n",
       "      <td>31</td>\n",
       "      <td>COMPLETE</td>\n",
       "    </tr>\n",
       "    <tr>\n",
       "      <th>24</th>\n",
       "      <td>24</td>\n",
       "      <td>0.678156</td>\n",
       "      <td>2021-05-10 13:08:31.753929</td>\n",
       "      <td>2021-05-10 13:08:32.000855</td>\n",
       "      <td>00:00:00.246926</td>\n",
       "      <td>0.744509</td>\n",
       "      <td>5</td>\n",
       "      <td>0.564174</td>\n",
       "      <td>2.825710e-06</td>\n",
       "      <td>1.602251e-07</td>\n",
       "      <td>0.010471</td>\n",
       "      <td>16</td>\n",
       "      <td>32</td>\n",
       "      <td>COMPLETE</td>\n",
       "    </tr>\n",
       "    <tr>\n",
       "      <th>65</th>\n",
       "      <td>65</td>\n",
       "      <td>0.676190</td>\n",
       "      <td>2021-05-10 13:08:47.781683</td>\n",
       "      <td>2021-05-10 13:08:48.028208</td>\n",
       "      <td>00:00:00.246525</td>\n",
       "      <td>0.768896</td>\n",
       "      <td>6</td>\n",
       "      <td>0.600766</td>\n",
       "      <td>6.843955e-06</td>\n",
       "      <td>9.597002e-01</td>\n",
       "      <td>0.010152</td>\n",
       "      <td>7</td>\n",
       "      <td>64</td>\n",
       "      <td>COMPLETE</td>\n",
       "    </tr>\n",
       "    <tr>\n",
       "      <th>44</th>\n",
       "      <td>44</td>\n",
       "      <td>0.674376</td>\n",
       "      <td>2021-05-10 13:08:39.912564</td>\n",
       "      <td>2021-05-10 13:08:40.108455</td>\n",
       "      <td>00:00:00.195891</td>\n",
       "      <td>0.755130</td>\n",
       "      <td>5</td>\n",
       "      <td>0.492876</td>\n",
       "      <td>1.677979e-08</td>\n",
       "      <td>5.670887e-05</td>\n",
       "      <td>0.010536</td>\n",
       "      <td>5</td>\n",
       "      <td>48</td>\n",
       "      <td>COMPLETE</td>\n",
       "    </tr>\n",
       "    <tr>\n",
       "      <th>32</th>\n",
       "      <td>32</td>\n",
       "      <td>0.673923</td>\n",
       "      <td>2021-05-10 13:08:35.917210</td>\n",
       "      <td>2021-05-10 13:08:36.142399</td>\n",
       "      <td>00:00:00.225189</td>\n",
       "      <td>0.781993</td>\n",
       "      <td>5</td>\n",
       "      <td>0.566283</td>\n",
       "      <td>4.455038e-08</td>\n",
       "      <td>2.704551e-07</td>\n",
       "      <td>0.010013</td>\n",
       "      <td>4</td>\n",
       "      <td>74</td>\n",
       "      <td>COMPLETE</td>\n",
       "    </tr>\n",
       "    <tr>\n",
       "      <th>53</th>\n",
       "      <td>53</td>\n",
       "      <td>0.671807</td>\n",
       "      <td>2021-05-10 13:08:44.382883</td>\n",
       "      <td>2021-05-10 13:08:44.525641</td>\n",
       "      <td>00:00:00.142758</td>\n",
       "      <td>0.773937</td>\n",
       "      <td>10</td>\n",
       "      <td>0.599261</td>\n",
       "      <td>1.435727e-07</td>\n",
       "      <td>7.025732e-05</td>\n",
       "      <td>0.020306</td>\n",
       "      <td>2</td>\n",
       "      <td>33</td>\n",
       "      <td>COMPLETE</td>\n",
       "    </tr>\n",
       "    <tr>\n",
       "      <th>94</th>\n",
       "      <td>94</td>\n",
       "      <td>0.671202</td>\n",
       "      <td>2021-05-10 13:08:56.272761</td>\n",
       "      <td>2021-05-10 13:08:56.468979</td>\n",
       "      <td>00:00:00.196218</td>\n",
       "      <td>0.793461</td>\n",
       "      <td>7</td>\n",
       "      <td>0.569570</td>\n",
       "      <td>3.109478e-05</td>\n",
       "      <td>5.826769e-05</td>\n",
       "      <td>0.010072</td>\n",
       "      <td>8</td>\n",
       "      <td>53</td>\n",
       "      <td>COMPLETE</td>\n",
       "    </tr>\n",
       "    <tr>\n",
       "      <th>21</th>\n",
       "      <td>21</td>\n",
       "      <td>0.671202</td>\n",
       "      <td>2021-05-10 13:08:30.443812</td>\n",
       "      <td>2021-05-10 13:08:30.955374</td>\n",
       "      <td>00:00:00.511562</td>\n",
       "      <td>0.708383</td>\n",
       "      <td>9</td>\n",
       "      <td>0.544742</td>\n",
       "      <td>2.274500e-07</td>\n",
       "      <td>4.408130e-07</td>\n",
       "      <td>0.011347</td>\n",
       "      <td>5</td>\n",
       "      <td>97</td>\n",
       "      <td>COMPLETE</td>\n",
       "    </tr>\n",
       "    <tr>\n",
       "      <th>85</th>\n",
       "      <td>85</td>\n",
       "      <td>0.670748</td>\n",
       "      <td>2021-05-10 13:08:53.316500</td>\n",
       "      <td>2021-05-10 13:08:53.524647</td>\n",
       "      <td>00:00:00.208147</td>\n",
       "      <td>0.796176</td>\n",
       "      <td>8</td>\n",
       "      <td>0.571630</td>\n",
       "      <td>1.809936e-04</td>\n",
       "      <td>2.517612e-05</td>\n",
       "      <td>0.010493</td>\n",
       "      <td>8</td>\n",
       "      <td>74</td>\n",
       "      <td>COMPLETE</td>\n",
       "    </tr>\n",
       "  </tbody>\n",
       "</table>\n",
       "</div>"
      ],
      "text/plain": [
       "    number     value             datetime_start          datetime_complete  \\\n",
       "81      81  0.680121 2021-05-10 13:08:52.495974 2021-05-10 13:08:52.661800   \n",
       "31      31  0.679063 2021-05-10 13:08:35.774959 2021-05-10 13:08:35.916117   \n",
       "24      24  0.678156 2021-05-10 13:08:31.753929 2021-05-10 13:08:32.000855   \n",
       "65      65  0.676190 2021-05-10 13:08:47.781683 2021-05-10 13:08:48.028208   \n",
       "44      44  0.674376 2021-05-10 13:08:39.912564 2021-05-10 13:08:40.108455   \n",
       "32      32  0.673923 2021-05-10 13:08:35.917210 2021-05-10 13:08:36.142399   \n",
       "53      53  0.671807 2021-05-10 13:08:44.382883 2021-05-10 13:08:44.525641   \n",
       "94      94  0.671202 2021-05-10 13:08:56.272761 2021-05-10 13:08:56.468979   \n",
       "21      21  0.671202 2021-05-10 13:08:30.443812 2021-05-10 13:08:30.955374   \n",
       "85      85  0.670748 2021-05-10 13:08:53.316500 2021-05-10 13:08:53.524647   \n",
       "\n",
       "          duration  params_bagging_fraction  params_bagging_freq  \\\n",
       "81 00:00:00.165826                 0.782933                    7   \n",
       "31 00:00:00.141158                 0.801065                    5   \n",
       "24 00:00:00.246926                 0.744509                    5   \n",
       "65 00:00:00.246525                 0.768896                    6   \n",
       "44 00:00:00.195891                 0.755130                    5   \n",
       "32 00:00:00.225189                 0.781993                    5   \n",
       "53 00:00:00.142758                 0.773937                   10   \n",
       "94 00:00:00.196218                 0.793461                    7   \n",
       "21 00:00:00.511562                 0.708383                    9   \n",
       "85 00:00:00.208147                 0.796176                    8   \n",
       "\n",
       "    params_feature_fraction  params_lambda_l1  params_lambda_l2  \\\n",
       "81                 0.634527      4.317650e-08      2.226911e-05   \n",
       "31                 0.620831      4.252143e-08      1.466697e-05   \n",
       "24                 0.564174      2.825710e-06      1.602251e-07   \n",
       "65                 0.600766      6.843955e-06      9.597002e-01   \n",
       "44                 0.492876      1.677979e-08      5.670887e-05   \n",
       "32                 0.566283      4.455038e-08      2.704551e-07   \n",
       "53                 0.599261      1.435727e-07      7.025732e-05   \n",
       "94                 0.569570      3.109478e-05      5.826769e-05   \n",
       "21                 0.544742      2.274500e-07      4.408130e-07   \n",
       "85                 0.571630      1.809936e-04      2.517612e-05   \n",
       "\n",
       "    params_learning_rate  params_min_child_samples  params_num_leaves  \\\n",
       "81              0.014753                         5                 40   \n",
       "31              0.010083                         4                 31   \n",
       "24              0.010471                        16                 32   \n",
       "65              0.010152                         7                 64   \n",
       "44              0.010536                         5                 48   \n",
       "32              0.010013                         4                 74   \n",
       "53              0.020306                         2                 33   \n",
       "94              0.010072                         8                 53   \n",
       "21              0.011347                         5                 97   \n",
       "85              0.010493                         8                 74   \n",
       "\n",
       "       state  \n",
       "81  COMPLETE  \n",
       "31  COMPLETE  \n",
       "24  COMPLETE  \n",
       "65  COMPLETE  \n",
       "44  COMPLETE  \n",
       "32  COMPLETE  \n",
       "53  COMPLETE  \n",
       "94  COMPLETE  \n",
       "21  COMPLETE  \n",
       "85  COMPLETE  "
      ]
     },
     "execution_count": 39,
     "metadata": {},
     "output_type": "execute_result"
    }
   ],
   "source": [
    "study.trials_dataframe().sort_values(['value'], ascending=False).head(10)"
   ]
  },
  {
   "cell_type": "code",
   "execution_count": 34,
   "metadata": {},
   "outputs": [],
   "source": [
    "lgbm = lgb.LGBMClassifier(**study.best_params, n_estimators=3000, random_state=130)"
   ]
  },
  {
   "cell_type": "code",
   "execution_count": 35,
   "metadata": {},
   "outputs": [
    {
     "name": "stdout",
     "output_type": "stream",
     "text": [
      "[LightGBM] [Warning] lambda_l1 is set=4.317649589860683e-08, reg_alpha=0.0 will be ignored. Current value: lambda_l1=4.317649589860683e-08\n",
      "[LightGBM] [Warning] bagging_fraction is set=0.7829332949688251, subsample=1.0 will be ignored. Current value: bagging_fraction=0.7829332949688251\n",
      "[LightGBM] [Warning] feature_fraction is set=0.6345274464779307, colsample_bytree=1.0 will be ignored. Current value: feature_fraction=0.6345274464779307\n",
      "[LightGBM] [Warning] bagging_freq is set=7, subsample_freq=0 will be ignored. Current value: bagging_freq=7\n",
      "[LightGBM] [Warning] lambda_l2 is set=2.2269112115397176e-05, reg_lambda=0.0 will be ignored. Current value: lambda_l2=2.2269112115397176e-05\n"
     ]
    },
    {
     "data": {
      "text/plain": [
       "LGBMClassifier(bagging_fraction=0.7829332949688251, bagging_freq=7,\n",
       "               boosting_type='gbdt', class_weight=None, colsample_bytree=1.0,\n",
       "               feature_fraction=0.6345274464779307, importance_type='split',\n",
       "               lambda_l1=4.317649589860683e-08,\n",
       "               lambda_l2=2.2269112115397176e-05,\n",
       "               learning_rate=0.01475304418617672, max_depth=-1,\n",
       "               min_child_samples=5, min_child_weight=0.001, min_split_gain=0.0,\n",
       "               n_estimators=3000, n_jobs=-1, num_leaves=40, objective=None,\n",
       "               random_state=130, reg_alpha=0.0, reg_lambda=0.0, silent=True,\n",
       "               subsample=1.0, subsample_for_bin=200000, subsample_freq=0)"
      ]
     },
     "execution_count": 35,
     "metadata": {},
     "output_type": "execute_result"
    }
   ],
   "source": [
    "lgbm.fit(x_train, y_train)"
   ]
  },
  {
   "cell_type": "code",
   "execution_count": 36,
   "metadata": {
    "scrolled": true
   },
   "outputs": [],
   "source": [
    "pred = lgbm.predict_proba(x_test)"
   ]
  },
  {
   "cell_type": "code",
   "execution_count": 37,
   "metadata": {},
   "outputs": [],
   "source": [
    "submission_path = os.path.join('data', 'sample_submission.csv')\n",
    "submission = pd.read_csv(submission_path)\n",
    "submission.iloc[:, 1:] = pred\n",
    "submission.to_csv('submission/optuna_lgbm_2.csv', index=False)"
   ]
  },
  {
   "cell_type": "code",
   "execution_count": 38,
   "metadata": {},
   "outputs": [
    {
     "data": {
      "text/plain": [
       "<matplotlib.axes._subplots.AxesSubplot at 0x7fd97c77ac50>"
      ]
     },
     "execution_count": 38,
     "metadata": {},
     "output_type": "execute_result"
    },
    {
     "data": {
      "image/png": "[encoded data removed]",
      "text/plain": [
       "<Figure size 720x720 with 1 Axes>"
      ]
     },
     "metadata": {
      "needs_background": "light"
     },
     "output_type": "display_data"
    }
   ],
   "source": [
    "from lightgbm import plot_importance\n",
    "import matplotlib.pyplot as plt\n",
    "%matplotlib inline\n",
    "\n",
    "fig, ax = plt.subplots(figsize=(10, 10))\n",
    "plot_importance(lgbm, ax=ax)"
   ]
  }
 ],
 "metadata": {
  "kernelspec": {
   "display_name": "Python 3",
   "language": "python",
   "name": "python3"
  },
  "language_info": {
   "codemirror_mode": {
    "name": "ipython",
    "version": 3
   },
   "file_extension": ".py",
   "mimetype": "text/x-python",
   "name": "python",
   "nbconvert_exporter": "python",
   "pygments_lexer": "ipython3",
   "version": "3.7.6"
  },
  "toc": {
   "base_numbering": 1,
   "nav_menu": {},
   "number_sections": false,
   "sideBar": true,
   "skip_h1_title": false,
   "title_cell": "Contents",
   "title_sidebar": "Contents",
   "toc_cell": true,
   "toc_position": {},
   "toc_section_display": true,
   "toc_window_display": false
  }
 },
 "nbformat": 4,
 "nbformat_minor": 4
}
