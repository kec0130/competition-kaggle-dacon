{
 "cells": [
  {
   "cell_type": "markdown",
   "metadata": {
    "toc": true
   },
   "source": [
    "<h1>Contents<span class=\"tocSkip\"></span></h1>\n",
    "<div class=\"toc\"><ul class=\"toc-item\"><li><span><a href=\"#KFold\" data-toc-modified-id=\"KFold-1\">KFold</a></span></li><li><span><a href=\"#GridSearch\" data-toc-modified-id=\"GridSearch-2\">GridSearch</a></span></li><li><span><a href=\"#RandomSearch\" data-toc-modified-id=\"RandomSearch-3\">RandomSearch</a></span></li><li><span><a href=\"#Model-Ensemble\" data-toc-modified-id=\"Model-Ensemble-4\">Model Ensemble</a></span></li></ul></div>"
   ]
  },
  {
   "cell_type": "code",
   "execution_count": 1,
   "metadata": {},
   "outputs": [],
   "source": [
    "import os\n",
    "import warnings\n",
    "from tqdm import tqdm\n",
    "\n",
    "import pandas as pd\n",
    "import numpy as np\n",
    "\n",
    "from sklearn.model_selection import (\n",
    "    KFold, StratifiedKFold, GridSearchCV, RandomizedSearchCV, RepeatedKFold\n",
    ")\n",
    "from sklearn.metrics import mean_squared_error\n",
    "from sklearn.ensemble import (\n",
    "    BaggingRegressor, RandomForestRegressor, AdaBoostRegressor, GradientBoostingRegressor\n",
    ")\n",
    "\n",
    "warnings.filterwarnings('ignore')"
   ]
  },
  {
   "cell_type": "code",
   "execution_count": 2,
   "metadata": {},
   "outputs": [
    {
     "data": {
      "text/plain": [
       "['test_csv.csv',\n",
       " 'train_pickle.pkl',\n",
       " 'FIFA_train.csv',\n",
       " 'train_csv.csv',\n",
       " 'train_feather.ftr',\n",
       " 'submission_baseline_rf.csv',\n",
       " 'FIFA_test.csv',\n",
       " 'submission.csv',\n",
       " 'submission_baseline_rf_final.csv']"
      ]
     },
     "execution_count": 2,
     "metadata": {},
     "output_type": "execute_result"
    }
   ],
   "source": [
    "data_list = os.listdir('./data')\n",
    "data_list"
   ]
  },
  {
   "cell_type": "code",
   "execution_count": 3,
   "metadata": {},
   "outputs": [],
   "source": [
    "train = pd.read_feather('./data/' + data_list[4])\n",
    "test = pd.read_csv('./data/' + data_list[0])"
   ]
  },
  {
   "cell_type": "code",
   "execution_count": 4,
   "metadata": {},
   "outputs": [],
   "source": [
    "# 데이터 x, y 분리\n",
    "X_train = train.drop('value', axis=1)\n",
    "y_train = train['value']"
   ]
  },
  {
   "cell_type": "markdown",
   "metadata": {},
   "source": [
    "# KFold\n",
    "- 아래 for문을 돌리면 마지막 모델만 저장이 됨\n",
    "- 리스트에 append 하는 방식으로 각각의 모델을 저장하여 사용할 수도 있다."
   ]
  },
  {
   "cell_type": "code",
   "execution_count": 5,
   "metadata": {},
   "outputs": [],
   "source": [
    "kfold = KFold(n_splits=7, shuffle=True, random_state=120)\n",
    "# StratifiedKFold: 분류 문제에서 사용, class 분포를 고르게 나눔\n",
    "# stratifiedkfold = StratifiedKFold()"
   ]
  },
  {
   "cell_type": "code",
   "execution_count": 6,
   "metadata": {},
   "outputs": [
    {
     "name": "stdout",
     "output_type": "stream",
     "text": [
      "1번 모델 rmse: 687844.2488371134\n",
      "2번 모델 rmse: 625916.0549405463\n",
      "3번 모델 rmse: 856642.1689139444\n",
      "4번 모델 rmse: 468062.7167838183\n",
      "5번 모델 rmse: 609892.461082129\n",
      "6번 모델 rmse: 876997.4335459874\n",
      "7번 모델 rmse: 1455918.1601901588\n"
     ]
    }
   ],
   "source": [
    "for i, (t, v) in enumerate(kfold.split(train)):\n",
    "    # train, val 분리\n",
    "    trn = train.iloc[t]\n",
    "    val = train.iloc[v]\n",
    "    # x, y 분리\n",
    "    x_tr = trn.drop('value', axis=1)\n",
    "    y_tr = trn['value']\n",
    "    x_val = val.drop('value', axis=1)\n",
    "    y_val = val['value']\n",
    "    # 모델 학습\n",
    "    rf = RandomForestRegressor(n_estimators=300, random_state=130)\n",
    "    rf.fit(x_tr, y_tr)\n",
    "    # 예측\n",
    "    pred = rf.predict(x_val)\n",
    "    pred = np.expm1(pred)\n",
    "    y_val = np.expm1(y_val)\n",
    "    # rmse\n",
    "    mse = mean_squared_error(y_val, pred)\n",
    "    rmse = np.sqrt(mse)\n",
    "    \n",
    "    print(f'{i+1}번 모델 rmse: {rmse}')"
   ]
  },
  {
   "cell_type": "markdown",
   "metadata": {},
   "source": [
    "# GridSearch"
   ]
  },
  {
   "cell_type": "code",
   "execution_count": 7,
   "metadata": {},
   "outputs": [],
   "source": [
    "rf = RandomForestRegressor(random_state=120)"
   ]
  },
  {
   "cell_type": "code",
   "execution_count": 8,
   "metadata": {},
   "outputs": [],
   "source": [
    "params = {\n",
    "    'n_estimators': [300, 400, 500],\n",
    "    'min_samples_split': [2, 3, 4],\n",
    "    'min_samples_leaf': [1, 2, 3]\n",
    "}"
   ]
  },
  {
   "cell_type": "code",
   "execution_count": 9,
   "metadata": {},
   "outputs": [],
   "source": [
    "cv = KFold(n_splits=3, shuffle=True, random_state=120)"
   ]
  },
  {
   "cell_type": "code",
   "execution_count": 10,
   "metadata": {},
   "outputs": [],
   "source": [
    "grid_search = GridSearchCV(rf, \n",
    "                           param_grid=params, \n",
    "                           cv=cv, \n",
    "                           scoring='neg_mean_squared_error', \n",
    "                           verbose=2, \n",
    "                           n_jobs=-1)"
   ]
  },
  {
   "cell_type": "code",
   "execution_count": 11,
   "metadata": {},
   "outputs": [
    {
     "name": "stdout",
     "output_type": "stream",
     "text": [
      "Fitting 3 folds for each of 27 candidates, totalling 81 fits\n"
     ]
    },
    {
     "name": "stderr",
     "output_type": "stream",
     "text": [
      "[Parallel(n_jobs=-1)]: Using backend LokyBackend with 12 concurrent workers.\n",
      "[Parallel(n_jobs=-1)]: Done  17 tasks      | elapsed:   14.4s\n",
      "[Parallel(n_jobs=-1)]: Done  81 out of  81 | elapsed:   49.8s finished\n"
     ]
    },
    {
     "data": {
      "text/plain": [
       "GridSearchCV(cv=KFold(n_splits=3, random_state=120, shuffle=True),\n",
       "             error_score=nan,\n",
       "             estimator=RandomForestRegressor(bootstrap=True, ccp_alpha=0.0,\n",
       "                                             criterion='mse', max_depth=None,\n",
       "                                             max_features='auto',\n",
       "                                             max_leaf_nodes=None,\n",
       "                                             max_samples=None,\n",
       "                                             min_impurity_decrease=0.0,\n",
       "                                             min_impurity_split=None,\n",
       "                                             min_samples_leaf=1,\n",
       "                                             min_samples_split=2,\n",
       "                                             min_weight_fraction_leaf=0.0,\n",
       "                                             n_estimators=100, n_jobs=None,\n",
       "                                             oob_score=False, random_state=120,\n",
       "                                             verbose=0, warm_start=False),\n",
       "             iid='deprecated', n_jobs=-1,\n",
       "             param_grid={'min_samples_leaf': [1, 2, 3],\n",
       "                         'min_samples_split': [2, 3, 4],\n",
       "                         'n_estimators': [300, 400, 500]},\n",
       "             pre_dispatch='2*n_jobs', refit=True, return_train_score=False,\n",
       "             scoring='neg_mean_squared_error', verbose=2)"
      ]
     },
     "execution_count": 11,
     "metadata": {},
     "output_type": "execute_result"
    }
   ],
   "source": [
    "grid_search.fit(X_train, y_train)"
   ]
  },
  {
   "cell_type": "code",
   "execution_count": 12,
   "metadata": {},
   "outputs": [
    {
     "name": "stdout",
     "output_type": "stream",
     "text": [
      "{'min_samples_leaf': 1, 'min_samples_split': 2, 'n_estimators': 400}\n",
      "RandomForestRegressor(bootstrap=True, ccp_alpha=0.0, criterion='mse',\n",
      "                      max_depth=None, max_features='auto', max_leaf_nodes=None,\n",
      "                      max_samples=None, min_impurity_decrease=0.0,\n",
      "                      min_impurity_split=None, min_samples_leaf=1,\n",
      "                      min_samples_split=2, min_weight_fraction_leaf=0.0,\n",
      "                      n_estimators=400, n_jobs=None, oob_score=False,\n",
      "                      random_state=120, verbose=0, warm_start=False)\n",
      "-0.009021674662347183\n",
      "1\n"
     ]
    }
   ],
   "source": [
    "print(grid_search.best_params_)\n",
    "print(grid_search.best_estimator_)\n",
    "print(grid_search.best_score_)\n",
    "print(grid_search.best_index_)"
   ]
  },
  {
   "cell_type": "code",
   "execution_count": 13,
   "metadata": {},
   "outputs": [
    {
     "data": {
      "text/plain": [
       "RandomForestRegressor(bootstrap=True, ccp_alpha=0.0, criterion='mse',\n",
       "                      max_depth=None, max_features='auto', max_leaf_nodes=None,\n",
       "                      max_samples=None, min_impurity_decrease=0.0,\n",
       "                      min_impurity_split=None, min_samples_leaf=1,\n",
       "                      min_samples_split=2, min_weight_fraction_leaf=0.0,\n",
       "                      n_estimators=400, n_jobs=None, oob_score=False,\n",
       "                      random_state=None, verbose=0, warm_start=False)"
      ]
     },
     "execution_count": 13,
     "metadata": {},
     "output_type": "execute_result"
    }
   ],
   "source": [
    "RandomForestRegressor(**grid_search.best_params_)"
   ]
  },
  {
   "cell_type": "code",
   "execution_count": 14,
   "metadata": {},
   "outputs": [
    {
     "data": {
      "text/plain": [
       "RandomForestRegressor(bootstrap=True, ccp_alpha=0.0, criterion='mse',\n",
       "                      max_depth=None, max_features='auto', max_leaf_nodes=None,\n",
       "                      max_samples=None, min_impurity_decrease=0.0,\n",
       "                      min_impurity_split=None, min_samples_leaf=1,\n",
       "                      min_samples_split=2, min_weight_fraction_leaf=0.0,\n",
       "                      n_estimators=400, n_jobs=None, oob_score=False,\n",
       "                      random_state=120, verbose=0, warm_start=False)"
      ]
     },
     "execution_count": 14,
     "metadata": {},
     "output_type": "execute_result"
    }
   ],
   "source": [
    "# 서치 결과 가장 좋은 estimator로 학습\n",
    "grid_search.best_estimator_.fit(X_train, y_train)"
   ]
  },
  {
   "cell_type": "code",
   "execution_count": 15,
   "metadata": {},
   "outputs": [
    {
     "data": {
      "text/plain": [
       "array([17.70900388, 18.15445908, 18.01956852, ..., 10.99046923,\n",
       "       10.68916581, 10.82281539])"
      ]
     },
     "execution_count": 15,
     "metadata": {},
     "output_type": "execute_result"
    }
   ],
   "source": [
    "# 학습 후 예측\n",
    "grid_search.best_estimator_.predict(test)"
   ]
  },
  {
   "cell_type": "markdown",
   "metadata": {},
   "source": [
    "# RandomSearch"
   ]
  },
  {
   "cell_type": "code",
   "execution_count": 16,
   "metadata": {},
   "outputs": [],
   "source": [
    "rf = RandomForestRegressor(random_state=130)"
   ]
  },
  {
   "cell_type": "code",
   "execution_count": 17,
   "metadata": {},
   "outputs": [],
   "source": [
    "from scipy.stats import randint, uniform, loguniform"
   ]
  },
  {
   "cell_type": "code",
   "execution_count": 18,
   "metadata": {},
   "outputs": [],
   "source": [
    "params = {\n",
    "    'n_estimators': randint(100, 600),\n",
    "    'min_samples_split': randint(1, 8),\n",
    "    'min_samples_leaf': randint(1, 5)\n",
    "}"
   ]
  },
  {
   "cell_type": "code",
   "execution_count": 19,
   "metadata": {},
   "outputs": [],
   "source": [
    "# RepeatedKFold: KFold를 n번 반복해서 실행, n_repeats\n",
    "cv = RepeatedKFold(n_splits=3, random_state=120, n_repeats=3)"
   ]
  },
  {
   "cell_type": "code",
   "execution_count": 22,
   "metadata": {},
   "outputs": [],
   "source": [
    "random_search = RandomizedSearchCV(rf,\n",
    "                                   param_distributions=params,\n",
    "                                   cv=cv,\n",
    "                                   n_iter=20,\n",
    "                                   scoring='neg_mean_squared_error',\n",
    "                                   n_jobs=-1)"
   ]
  },
  {
   "cell_type": "code",
   "execution_count": 23,
   "metadata": {},
   "outputs": [
    {
     "data": {
      "text/plain": [
       "RandomizedSearchCV(cv=RepeatedKFold(n_repeats=3, n_splits=3, random_state=120),\n",
       "                   error_score=nan,\n",
       "                   estimator=RandomForestRegressor(bootstrap=True,\n",
       "                                                   ccp_alpha=0.0,\n",
       "                                                   criterion='mse',\n",
       "                                                   max_depth=None,\n",
       "                                                   max_features='auto',\n",
       "                                                   max_leaf_nodes=None,\n",
       "                                                   max_samples=None,\n",
       "                                                   min_impurity_decrease=0.0,\n",
       "                                                   min_impurity_split=None,\n",
       "                                                   min_samples_leaf=1,\n",
       "                                                   min_samples_split=2,\n",
       "                                                   min_weight_fraction...\n",
       "                   param_distributions={'min_samples_leaf': <scipy.stats._distn_infrastructure.rv_frozen object at 0x7f2a12289b50>,\n",
       "                                        'min_samples_split': <scipy.stats._distn_infrastructure.rv_frozen object at 0x7f2a3c19f850>,\n",
       "                                        'n_estimators': <scipy.stats._distn_infrastructure.rv_frozen object at 0x7f2a125e0ed0>},\n",
       "                   pre_dispatch='2*n_jobs', random_state=None, refit=True,\n",
       "                   return_train_score=False, scoring='neg_mean_squared_error',\n",
       "                   verbose=0)"
      ]
     },
     "execution_count": 23,
     "metadata": {},
     "output_type": "execute_result"
    }
   ],
   "source": [
    "random_search.fit(X_train, y_train)"
   ]
  },
  {
   "cell_type": "code",
   "execution_count": 24,
   "metadata": {},
   "outputs": [
    {
     "name": "stdout",
     "output_type": "stream",
     "text": [
      "RandomForestRegressor(bootstrap=True, ccp_alpha=0.0, criterion='mse',\n",
      "                      max_depth=None, max_features='auto', max_leaf_nodes=None,\n",
      "                      max_samples=None, min_impurity_decrease=0.0,\n",
      "                      min_impurity_split=None, min_samples_leaf=1,\n",
      "                      min_samples_split=3, min_weight_fraction_leaf=0.0,\n",
      "                      n_estimators=343, n_jobs=None, oob_score=False,\n",
      "                      random_state=130, verbose=0, warm_start=False)\n",
      "{'min_samples_leaf': 1, 'min_samples_split': 3, 'n_estimators': 343}\n",
      "10\n",
      "-0.009534631415567311\n"
     ]
    }
   ],
   "source": [
    "print(random_search.best_estimator_)\n",
    "print(random_search.best_params_)\n",
    "print(random_search.best_index_)\n",
    "print(random_search.best_score_)"
   ]
  },
  {
   "cell_type": "markdown",
   "metadata": {},
   "source": [
    "# Model Ensemble\n",
    "- train_data에서 무작위로 train_data 개수 만큼 뽑아서 모델에 돌린 다음에 예측 값의 평균을 구함\n",
    "- lightgbm 앙상블이 가장 좋음"
   ]
  },
  {
   "cell_type": "code",
   "execution_count": 25,
   "metadata": {},
   "outputs": [],
   "source": [
    "rf_1 = grid_search.best_estimator_\n",
    "rf_2 = random_search.best_estimator_"
   ]
  },
  {
   "cell_type": "code",
   "execution_count": 26,
   "metadata": {},
   "outputs": [
    {
     "data": {
      "text/plain": [
       "RandomForestRegressor(bootstrap=True, ccp_alpha=0.0, criterion='mse',\n",
       "                      max_depth=None, max_features='auto', max_leaf_nodes=None,\n",
       "                      max_samples=None, min_impurity_decrease=0.0,\n",
       "                      min_impurity_split=None, min_samples_leaf=1,\n",
       "                      min_samples_split=3, min_weight_fraction_leaf=0.0,\n",
       "                      n_estimators=343, n_jobs=None, oob_score=False,\n",
       "                      random_state=130, verbose=0, warm_start=False)"
      ]
     },
     "execution_count": 26,
     "metadata": {},
     "output_type": "execute_result"
    }
   ],
   "source": [
    "rf_1.fit(X_train, y_train)\n",
    "rf_2.fit(X_train, y_train)"
   ]
  },
  {
   "cell_type": "code",
   "execution_count": 27,
   "metadata": {},
   "outputs": [],
   "source": [
    "pred_1 = rf_1.predict(test)\n",
    "pred_2 = rf_2.predict(test)"
   ]
  },
  {
   "cell_type": "code",
   "execution_count": 28,
   "metadata": {},
   "outputs": [
    {
     "data": {
      "text/plain": [
       "array([17.70697775, 18.15654872, 18.0181266 , ..., 10.99191611,\n",
       "       10.70213227, 10.82235723])"
      ]
     },
     "execution_count": 28,
     "metadata": {},
     "output_type": "execute_result"
    }
   ],
   "source": [
    "pred = (pred_1 * 0.5) + (pred_2 * 0.5)\n",
    "pred"
   ]
  },
  {
   "cell_type": "code",
   "execution_count": 30,
   "metadata": {},
   "outputs": [
    {
     "name": "stderr",
     "output_type": "stream",
     "text": [
      "100%|██████████| 10/10 [00:55<00:00,  5.60s/it]\n"
     ]
    }
   ],
   "source": [
    "# 앙상블 모델 + bagging\n",
    "prediction_list = []  # 예측값을 저장할 리스트\n",
    "np.random.seed(123)\n",
    "\n",
    "for _ in tqdm(range(10)):\n",
    "    # data_index = X_train.index  # 데이터프레임 인덱스 사용\n",
    "    data_index = [idx for idx in range(X_train.shape[0])]  # X_train 길이만큼 index를 저장\n",
    "    random_index = np.random.choice(data_index, X_train.shape[0], replace=True)  # 인덱스 복원추출\n",
    "    \n",
    "    rf = RandomForestRegressor(**random_search.best_params_)  # search하여 찾은 하이퍼파라미터를 넣어줌\n",
    "    rf.fit(X_train.iloc[random_index, ], y_train.iloc[random_index, ])  # 모델 학습\n",
    "    \n",
    "    pred = rf.predict(test)\n",
    "    pred = np.expm1(pred)\n",
    "    prediction_list.append(pred)"
   ]
  },
  {
   "cell_type": "code",
   "execution_count": 31,
   "metadata": {},
   "outputs": [],
   "source": [
    "# 각 array의 line by line으로 평균을 내어 prediction에 저장\n",
    "prediction = []\n",
    "for idx2 in range(test.shape[0]):\n",
    "    temp = []\n",
    "    for idx in range(len(prediction_list)):\n",
    "        temp.append(prediction_list[idx][idx2])\n",
    "    prediction.append(np.mean(temp))"
   ]
  },
  {
   "cell_type": "code",
   "execution_count": 32,
   "metadata": {},
   "outputs": [],
   "source": [
    "# 위와 동일한 과정을 dataframe으로 구현\n",
    "df = pd.DataFrame({\n",
    "    'p0': prediction_list[0],\n",
    "    'p1': prediction_list[1],\n",
    "    'p2': prediction_list[2],\n",
    "    'p3': prediction_list[3],\n",
    "    'p4': prediction_list[4],\n",
    "    'p5': prediction_list[5],\n",
    "    'p6': prediction_list[6],\n",
    "    'p7': prediction_list[7],\n",
    "    'p8': prediction_list[8],\n",
    "    'p9': prediction_list[9],\n",
    "})"
   ]
  },
  {
   "cell_type": "code",
   "execution_count": 33,
   "metadata": {},
   "outputs": [
    {
     "data": {
      "text/html": [
       "<div>\n",
       "<style scoped>\n",
       "    .dataframe tbody tr th:only-of-type {\n",
       "        vertical-align: middle;\n",
       "    }\n",
       "\n",
       "    .dataframe tbody tr th {\n",
       "        vertical-align: top;\n",
       "    }\n",
       "\n",
       "    .dataframe thead th {\n",
       "        text-align: right;\n",
       "    }\n",
       "</style>\n",
       "<table border=\"1\" class=\"dataframe\">\n",
       "  <thead>\n",
       "    <tr style=\"text-align: right;\">\n",
       "      <th></th>\n",
       "      <th>p0</th>\n",
       "      <th>p1</th>\n",
       "      <th>p2</th>\n",
       "      <th>p3</th>\n",
       "      <th>p4</th>\n",
       "      <th>p5</th>\n",
       "      <th>p6</th>\n",
       "      <th>p7</th>\n",
       "      <th>p8</th>\n",
       "      <th>p9</th>\n",
       "    </tr>\n",
       "  </thead>\n",
       "  <tbody>\n",
       "    <tr>\n",
       "      <th>0</th>\n",
       "      <td>3.663753e+07</td>\n",
       "      <td>7.806330e+07</td>\n",
       "      <td>4.804990e+07</td>\n",
       "      <td>7.231221e+07</td>\n",
       "      <td>7.104073e+07</td>\n",
       "      <td>3.187072e+07</td>\n",
       "      <td>4.482400e+07</td>\n",
       "      <td>5.608424e+07</td>\n",
       "      <td>5.444388e+07</td>\n",
       "      <td>3.817770e+07</td>\n",
       "    </tr>\n",
       "    <tr>\n",
       "      <th>1</th>\n",
       "      <td>8.122693e+07</td>\n",
       "      <td>7.708108e+07</td>\n",
       "      <td>7.382814e+07</td>\n",
       "      <td>8.800921e+07</td>\n",
       "      <td>8.150067e+07</td>\n",
       "      <td>7.174064e+07</td>\n",
       "      <td>8.311145e+07</td>\n",
       "      <td>8.142738e+07</td>\n",
       "      <td>8.221910e+07</td>\n",
       "      <td>6.555522e+07</td>\n",
       "    </tr>\n",
       "    <tr>\n",
       "      <th>2</th>\n",
       "      <td>6.982683e+07</td>\n",
       "      <td>6.036541e+07</td>\n",
       "      <td>6.540705e+07</td>\n",
       "      <td>6.264188e+07</td>\n",
       "      <td>6.188241e+07</td>\n",
       "      <td>6.835347e+07</td>\n",
       "      <td>7.376592e+07</td>\n",
       "      <td>7.346675e+07</td>\n",
       "      <td>7.079588e+07</td>\n",
       "      <td>6.208871e+07</td>\n",
       "    </tr>\n",
       "    <tr>\n",
       "      <th>3</th>\n",
       "      <td>7.020367e+07</td>\n",
       "      <td>6.530441e+07</td>\n",
       "      <td>7.007862e+07</td>\n",
       "      <td>6.543460e+07</td>\n",
       "      <td>6.709516e+07</td>\n",
       "      <td>7.068420e+07</td>\n",
       "      <td>7.325303e+07</td>\n",
       "      <td>7.456145e+07</td>\n",
       "      <td>7.572749e+07</td>\n",
       "      <td>6.314326e+07</td>\n",
       "    </tr>\n",
       "    <tr>\n",
       "      <th>4</th>\n",
       "      <td>6.399735e+07</td>\n",
       "      <td>5.552383e+07</td>\n",
       "      <td>5.529100e+07</td>\n",
       "      <td>6.239491e+07</td>\n",
       "      <td>5.829968e+07</td>\n",
       "      <td>5.423024e+07</td>\n",
       "      <td>6.132028e+07</td>\n",
       "      <td>6.871776e+07</td>\n",
       "      <td>7.012613e+07</td>\n",
       "      <td>6.077970e+07</td>\n",
       "    </tr>\n",
       "  </tbody>\n",
       "</table>\n",
       "</div>"
      ],
      "text/plain": [
       "             p0            p1            p2            p3            p4  \\\n",
       "0  3.663753e+07  7.806330e+07  4.804990e+07  7.231221e+07  7.104073e+07   \n",
       "1  8.122693e+07  7.708108e+07  7.382814e+07  8.800921e+07  8.150067e+07   \n",
       "2  6.982683e+07  6.036541e+07  6.540705e+07  6.264188e+07  6.188241e+07   \n",
       "3  7.020367e+07  6.530441e+07  7.007862e+07  6.543460e+07  6.709516e+07   \n",
       "4  6.399735e+07  5.552383e+07  5.529100e+07  6.239491e+07  5.829968e+07   \n",
       "\n",
       "             p5            p6            p7            p8            p9  \n",
       "0  3.187072e+07  4.482400e+07  5.608424e+07  5.444388e+07  3.817770e+07  \n",
       "1  7.174064e+07  8.311145e+07  8.142738e+07  8.221910e+07  6.555522e+07  \n",
       "2  6.835347e+07  7.376592e+07  7.346675e+07  7.079588e+07  6.208871e+07  \n",
       "3  7.068420e+07  7.325303e+07  7.456145e+07  7.572749e+07  6.314326e+07  \n",
       "4  5.423024e+07  6.132028e+07  6.871776e+07  7.012613e+07  6.077970e+07  "
      ]
     },
     "execution_count": 33,
     "metadata": {},
     "output_type": "execute_result"
    }
   ],
   "source": [
    "df.head()"
   ]
  },
  {
   "cell_type": "code",
   "execution_count": 37,
   "metadata": {},
   "outputs": [
    {
     "data": {
      "text/plain": [
       "0    5.315042e+07\n",
       "1    7.856998e+07\n",
       "2    6.685943e+07\n",
       "3    6.954859e+07\n",
       "4    6.106809e+07\n",
       "dtype: float64"
      ]
     },
     "execution_count": 37,
     "metadata": {},
     "output_type": "execute_result"
    }
   ],
   "source": [
    "df_mean = np.mean(df, axis=1)\n",
    "df_mean.head()"
   ]
  },
  {
   "cell_type": "code",
   "execution_count": 34,
   "metadata": {},
   "outputs": [
    {
     "data": {
      "text/plain": [
       "53150419.65165807"
      ]
     },
     "execution_count": 34,
     "metadata": {},
     "output_type": "execute_result"
    }
   ],
   "source": [
    "np.mean(df.iloc[0])"
   ]
  },
  {
   "cell_type": "code",
   "execution_count": 35,
   "metadata": {
    "scrolled": true
   },
   "outputs": [
    {
     "data": {
      "text/plain": [
       "53150419.65165807"
      ]
     },
     "execution_count": 35,
     "metadata": {},
     "output_type": "execute_result"
    }
   ],
   "source": [
    "prediction[0]"
   ]
  },
  {
   "cell_type": "code",
   "execution_count": 38,
   "metadata": {},
   "outputs": [],
   "source": [
    "submission = pd.read_csv('./data/' + data_list[7])\n",
    "submission['value'] = prediction\n",
    "submission.to_csv('./data/submission_ensemble_rf.csv', index=False)"
   ]
  }
 ],
 "metadata": {
  "kernelspec": {
   "display_name": "Python 3",
   "language": "python",
   "name": "python3"
  },
  "language_info": {
   "codemirror_mode": {
    "name": "ipython",
    "version": 3
   },
   "file_extension": ".py",
   "mimetype": "text/x-python",
   "name": "python",
   "nbconvert_exporter": "python",
   "pygments_lexer": "ipython3",
   "version": "3.7.6"
  },
  "toc": {
   "base_numbering": 1,
   "nav_menu": {},
   "number_sections": false,
   "sideBar": true,
   "skip_h1_title": false,
   "title_cell": "Contents",
   "title_sidebar": "Contents",
   "toc_cell": true,
   "toc_position": {},
   "toc_section_display": true,
   "toc_window_display": false
  }
 },
 "nbformat": 4,
 "nbformat_minor": 4
}
