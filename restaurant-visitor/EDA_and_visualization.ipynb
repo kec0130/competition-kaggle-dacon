{
  "nbformat": 4,
  "nbformat_minor": 0,
  "metadata": {
    "colab": {
      "name": "EDA_and_visualization.ipynb",
      "provenance": [],
      "collapsed_sections": [],
      "toc_visible": true
    },
    "kernelspec": {
      "name": "python3",
      "display_name": "Python 3"
    },
    "language_info": {
      "name": "python"
    }
  },
  "cells": [
    {
      "cell_type": "code",
      "metadata": {
        "id": "thIUPoxZYh0Y"
      },
      "source": [
        "import os\n",
        "import numpy as np\n",
        "import pandas as pd\n",
        "import matplotlib.pyplot as plt\n",
        "import seaborn as sns\n",
        "from IPython.display import display\n",
        "import warnings\n",
        "warnings.filterwarnings('ignore')\n",
        "plt.style.use('ggplot')"
      ],
      "execution_count": null,
      "outputs": []
    },
    {
      "cell_type": "code",
      "metadata": {
        "colab": {
          "base_uri": "https://localhost:8080/"
        },
        "id": "IT9aFYwgGclT",
        "outputId": "64358a0b-09e2-45a6-d307-3504c97c8a0a"
      },
      "source": [
        "data_dir = '/content/drive/MyDrive/Colab Notebooks/recruit-restaurant-visitor-forecasting/data'\n",
        "os.listdir(data_dir)"
      ],
      "execution_count": null,
      "outputs": [
        {
          "output_type": "execute_result",
          "data": {
            "text/plain": [
              "['hpg_store_info.csv',\n",
              " 'air_store_info.csv',\n",
              " 'air_reserve.csv',\n",
              " 'hpg_reserve.csv',\n",
              " 'date_info.csv',\n",
              " 'air_visit_data.csv',\n",
              " 'store_id_relation.csv',\n",
              " 'sample_submission.csv']"
            ]
          },
          "metadata": {
            "tags": []
          },
          "execution_count": 4
        }
      ]
    },
    {
      "cell_type": "code",
      "metadata": {
        "id": "Z8e1I56tDs00"
      },
      "source": [
        "air_reserve = pd.read_csv(data_dir + '/air_reserve.csv')\n",
        "hpg_reserve = pd.read_csv(data_dir + '/hpg_reserve.csv')\n",
        "air_store = pd.read_csv(data_dir + '/air_store_info.csv')\n",
        "hpg_store = pd.read_csv(data_dir + '/hpg_store_info.csv')\n",
        "store_id = pd.read_csv(data_dir + '/store_id_relation.csv')\n",
        "air_visit = pd.read_csv(data_dir + '/air_visit_data.csv')\n",
        "date_info = pd.read_csv(data_dir + '/date_info.csv')\n",
        "submission = pd.read_csv(data_dir + '/sample_submission.csv')"
      ],
      "execution_count": null,
      "outputs": []
    },
    {
      "cell_type": "code",
      "metadata": {
        "id": "oqge1tDaM-TD"
      },
      "source": [
        "# 데이터 살펴보는 함수\n",
        "def data_look(df):\n",
        "    display(df.tail())\n",
        "    print()\n",
        "    for col in df.columns:\n",
        "        print(f'{col}: {df[col].nunique()}') # 컬럼별 unique values 개수\n",
        "    print()\n",
        "    display(df.isna().sum()) # 결측치 확인\n",
        "    print()"
      ],
      "execution_count": null,
      "outputs": []
    },
    {
      "cell_type": "markdown",
      "metadata": {
        "id": "RUMTrTAFrOvk"
      },
      "source": [
        "# 데이터 살펴보기"
      ]
    },
    {
      "cell_type": "markdown",
      "metadata": {
        "id": "gXz79V28chge"
      },
      "source": [
        "## air_visit"
      ]
    },
    {
      "cell_type": "code",
      "metadata": {
        "colab": {
          "base_uri": "https://localhost:8080/",
          "height": 374
        },
        "id": "l7i-DQdGP9Qm",
        "outputId": "a467370a-3d09-43c0-b599-a9fb973a91d7"
      },
      "source": [
        "data_look(air_visit)"
      ],
      "execution_count": null,
      "outputs": [
        {
          "output_type": "display_data",
          "data": {
            "text/html": [
              "<div>\n",
              "<style scoped>\n",
              "    .dataframe tbody tr th:only-of-type {\n",
              "        vertical-align: middle;\n",
              "    }\n",
              "\n",
              "    .dataframe tbody tr th {\n",
              "        vertical-align: top;\n",
              "    }\n",
              "\n",
              "    .dataframe thead th {\n",
              "        text-align: right;\n",
              "    }\n",
              "</style>\n",
              "<table border=\"1\" class=\"dataframe\">\n",
              "  <thead>\n",
              "    <tr style=\"text-align: right;\">\n",
              "      <th></th>\n",
              "      <th>air_store_id</th>\n",
              "      <th>visit_date</th>\n",
              "      <th>visitors</th>\n",
              "    </tr>\n",
              "  </thead>\n",
              "  <tbody>\n",
              "    <tr>\n",
              "      <th>252103</th>\n",
              "      <td>air_24e8414b9b07decb</td>\n",
              "      <td>2017-04-18</td>\n",
              "      <td>6</td>\n",
              "    </tr>\n",
              "    <tr>\n",
              "      <th>252104</th>\n",
              "      <td>air_24e8414b9b07decb</td>\n",
              "      <td>2017-04-19</td>\n",
              "      <td>6</td>\n",
              "    </tr>\n",
              "    <tr>\n",
              "      <th>252105</th>\n",
              "      <td>air_24e8414b9b07decb</td>\n",
              "      <td>2017-04-20</td>\n",
              "      <td>7</td>\n",
              "    </tr>\n",
              "    <tr>\n",
              "      <th>252106</th>\n",
              "      <td>air_24e8414b9b07decb</td>\n",
              "      <td>2017-04-21</td>\n",
              "      <td>8</td>\n",
              "    </tr>\n",
              "    <tr>\n",
              "      <th>252107</th>\n",
              "      <td>air_24e8414b9b07decb</td>\n",
              "      <td>2017-04-22</td>\n",
              "      <td>5</td>\n",
              "    </tr>\n",
              "  </tbody>\n",
              "</table>\n",
              "</div>"
            ],
            "text/plain": [
              "                air_store_id  visit_date  visitors\n",
              "252103  air_24e8414b9b07decb  2017-04-18         6\n",
              "252104  air_24e8414b9b07decb  2017-04-19         6\n",
              "252105  air_24e8414b9b07decb  2017-04-20         7\n",
              "252106  air_24e8414b9b07decb  2017-04-21         8\n",
              "252107  air_24e8414b9b07decb  2017-04-22         5"
            ]
          },
          "metadata": {
            "tags": []
          }
        },
        {
          "output_type": "stream",
          "text": [
            "\n",
            "air_store_id: 829\n",
            "visit_date: 478\n",
            "visitors: 204\n",
            "\n"
          ],
          "name": "stdout"
        },
        {
          "output_type": "display_data",
          "data": {
            "text/plain": [
              "air_store_id    0\n",
              "visit_date      0\n",
              "visitors        0\n",
              "dtype: int64"
            ]
          },
          "metadata": {
            "tags": []
          }
        },
        {
          "output_type": "stream",
          "text": [
            "\n"
          ],
          "name": "stdout"
        }
      ]
    },
    {
      "cell_type": "code",
      "metadata": {
        "colab": {
          "base_uri": "https://localhost:8080/"
        },
        "id": "Pr3JFDSsfUPO",
        "outputId": "f218bfff-185e-4ad1-f347-e176ba403620"
      },
      "source": [
        "air_visit['visit_date'].agg(['min', 'max'])"
      ],
      "execution_count": null,
      "outputs": [
        {
          "output_type": "execute_result",
          "data": {
            "text/plain": [
              "min    2016-01-01\n",
              "max    2017-04-22\n",
              "Name: visit_date, dtype: object"
            ]
          },
          "metadata": {
            "tags": []
          },
          "execution_count": 47
        }
      ]
    },
    {
      "cell_type": "code",
      "metadata": {
        "colab": {
          "base_uri": "https://localhost:8080/",
          "height": 204
        },
        "id": "wrHaIzlK2dD-",
        "outputId": "db2bd481-5246-41ed-b704-8a4fe849e626"
      },
      "source": [
        "# datetime 변환\n",
        "air_visit['visit_date'] = pd.to_datetime(air_visit['visit_date'])\n",
        "air_visit['visit_day'] = air_visit['visit_date'].dt.dayofweek\n",
        "air_visit['visit_month'] = air_visit['visit_date'].dt.month\n",
        "air_visit.tail()"
      ],
      "execution_count": null,
      "outputs": [
        {
          "output_type": "execute_result",
          "data": {
            "text/html": [
              "<div>\n",
              "<style scoped>\n",
              "    .dataframe tbody tr th:only-of-type {\n",
              "        vertical-align: middle;\n",
              "    }\n",
              "\n",
              "    .dataframe tbody tr th {\n",
              "        vertical-align: top;\n",
              "    }\n",
              "\n",
              "    .dataframe thead th {\n",
              "        text-align: right;\n",
              "    }\n",
              "</style>\n",
              "<table border=\"1\" class=\"dataframe\">\n",
              "  <thead>\n",
              "    <tr style=\"text-align: right;\">\n",
              "      <th></th>\n",
              "      <th>air_store_id</th>\n",
              "      <th>visit_date</th>\n",
              "      <th>visitors</th>\n",
              "      <th>visit_day</th>\n",
              "      <th>visit_month</th>\n",
              "    </tr>\n",
              "  </thead>\n",
              "  <tbody>\n",
              "    <tr>\n",
              "      <th>252103</th>\n",
              "      <td>air_24e8414b9b07decb</td>\n",
              "      <td>2017-04-18</td>\n",
              "      <td>6</td>\n",
              "      <td>1</td>\n",
              "      <td>4</td>\n",
              "    </tr>\n",
              "    <tr>\n",
              "      <th>252104</th>\n",
              "      <td>air_24e8414b9b07decb</td>\n",
              "      <td>2017-04-19</td>\n",
              "      <td>6</td>\n",
              "      <td>2</td>\n",
              "      <td>4</td>\n",
              "    </tr>\n",
              "    <tr>\n",
              "      <th>252105</th>\n",
              "      <td>air_24e8414b9b07decb</td>\n",
              "      <td>2017-04-20</td>\n",
              "      <td>7</td>\n",
              "      <td>3</td>\n",
              "      <td>4</td>\n",
              "    </tr>\n",
              "    <tr>\n",
              "      <th>252106</th>\n",
              "      <td>air_24e8414b9b07decb</td>\n",
              "      <td>2017-04-21</td>\n",
              "      <td>8</td>\n",
              "      <td>4</td>\n",
              "      <td>4</td>\n",
              "    </tr>\n",
              "    <tr>\n",
              "      <th>252107</th>\n",
              "      <td>air_24e8414b9b07decb</td>\n",
              "      <td>2017-04-22</td>\n",
              "      <td>5</td>\n",
              "      <td>5</td>\n",
              "      <td>4</td>\n",
              "    </tr>\n",
              "  </tbody>\n",
              "</table>\n",
              "</div>"
            ],
            "text/plain": [
              "                air_store_id visit_date  visitors  visit_day  visit_month\n",
              "252103  air_24e8414b9b07decb 2017-04-18         6          1            4\n",
              "252104  air_24e8414b9b07decb 2017-04-19         6          2            4\n",
              "252105  air_24e8414b9b07decb 2017-04-20         7          3            4\n",
              "252106  air_24e8414b9b07decb 2017-04-21         8          4            4\n",
              "252107  air_24e8414b9b07decb 2017-04-22         5          5            4"
            ]
          },
          "metadata": {
            "tags": []
          },
          "execution_count": 130
        }
      ]
    },
    {
      "cell_type": "code",
      "metadata": {
        "colab": {
          "base_uri": "https://localhost:8080/",
          "height": 337
        },
        "id": "I4-A7QFjRyfZ",
        "outputId": "a0503849-696a-4e9a-c8d6-0cf600a1a9ab"
      },
      "source": [
        "# 날짜별 고객 수 합계\n",
        "air_visit_sum = air_visit.groupby('visit_date')['visitors'].sum()\n",
        "plt.figure(figsize=(15,5))\n",
        "sns.lineplot(x=air_visit_sum.index, y=air_visit_sum.values)\n",
        "plt.title('Sum of visitors by date')\n",
        "plt.xticks([])\n",
        "plt.show()"
      ],
      "execution_count": null,
      "outputs": [
        {
          "output_type": "display_data",
          "data": {
            "image/png": "[encoded data removed]",
            "text/plain": [
              "<Figure size 1080x360 with 1 Axes>"
            ]
          },
          "metadata": {
            "tags": []
          }
        }
      ]
    },
    {
      "cell_type": "code",
      "metadata": {
        "colab": {
          "base_uri": "https://localhost:8080/",
          "height": 282
        },
        "id": "2cnyBbmRweog",
        "outputId": "060288e4-3a02-4852-ddec-0fcaf5f59ccc"
      },
      "source": [
        "# 요일별 고객 수 중앙값\n",
        "air_day_visit = air_visit.groupby('visit_day')['visitors'].median()\n",
        "days = 'Mon Tue Wed Thu Fri Sat Sun'.split()\n",
        "sns.barplot(x=days, y=air_day_visit)\n",
        "plt.title('Median of visitors by day')\n",
        "plt.show()"
      ],
      "execution_count": null,
      "outputs": [
        {
          "output_type": "display_data",
          "data": {
            "image/png": "[encoded data removed]",
            "text/plain": [
              "<Figure size 432x288 with 1 Axes>"
            ]
          },
          "metadata": {
            "tags": []
          }
        }
      ]
    },
    {
      "cell_type": "code",
      "metadata": {
        "colab": {
          "base_uri": "https://localhost:8080/",
          "height": 299
        },
        "id": "c5_LFXx1wqgk",
        "outputId": "d4ef08fb-3104-461d-8fbb-98a84789e206"
      },
      "source": [
        "# 월별 고객 수 중앙값\n",
        "air_month_visit = air_visit.groupby('visit_month')['visitors'].median()\n",
        "sns.barplot(x=air_month_visit.index, y=air_month_visit)\n",
        "plt.title('Median of visitors by month')\n",
        "plt.show()"
      ],
      "execution_count": null,
      "outputs": [
        {
          "output_type": "display_data",
          "data": {
            "image/png": "[encoded data removed]",
            "text/plain": [
              "<Figure size 432x288 with 1 Axes>"
            ]
          },
          "metadata": {
            "tags": []
          }
        }
      ]
    },
    {
      "cell_type": "code",
      "metadata": {
        "colab": {
          "base_uri": "https://localhost:8080/",
          "height": 487
        },
        "id": "AbP4pwcnSt8k",
        "outputId": "3b322c2b-6e09-4280-c20f-04c173994626"
      },
      "source": [
        "# 매장별, 날짜별 고객 수\n",
        "air_id_visit = air_visit.groupby(['air_store_id', 'visit_date'])['visitors'].sum().reset_index()\n",
        "air_visit_pivot = air_id_visit.pivot_table('visitors', index='air_store_id', columns='visit_date').fillna(0)\n",
        "air_visit_pivot"
      ],
      "execution_count": null,
      "outputs": [
        {
          "output_type": "execute_result",
          "data": {
            "text/html": [
              "<div>\n",
              "<style scoped>\n",
              "    .dataframe tbody tr th:only-of-type {\n",
              "        vertical-align: middle;\n",
              "    }\n",
              "\n",
              "    .dataframe tbody tr th {\n",
              "        vertical-align: top;\n",
              "    }\n",
              "\n",
              "    .dataframe thead th {\n",
              "        text-align: right;\n",
              "    }\n",
              "</style>\n",
              "<table border=\"1\" class=\"dataframe\">\n",
              "  <thead>\n",
              "    <tr style=\"text-align: right;\">\n",
              "      <th>visit_date</th>\n",
              "      <th>2016-01-01</th>\n",
              "      <th>2016-01-02</th>\n",
              "      <th>2016-01-03</th>\n",
              "      <th>2016-01-04</th>\n",
              "      <th>2016-01-05</th>\n",
              "      <th>2016-01-06</th>\n",
              "      <th>2016-01-07</th>\n",
              "      <th>2016-01-08</th>\n",
              "      <th>2016-01-09</th>\n",
              "      <th>2016-01-10</th>\n",
              "      <th>2016-01-11</th>\n",
              "      <th>2016-01-12</th>\n",
              "      <th>2016-01-13</th>\n",
              "      <th>2016-01-14</th>\n",
              "      <th>2016-01-15</th>\n",
              "      <th>2016-01-16</th>\n",
              "      <th>2016-01-17</th>\n",
              "      <th>2016-01-18</th>\n",
              "      <th>2016-01-19</th>\n",
              "      <th>2016-01-20</th>\n",
              "      <th>2016-01-21</th>\n",
              "      <th>2016-01-22</th>\n",
              "      <th>2016-01-23</th>\n",
              "      <th>2016-01-24</th>\n",
              "      <th>2016-01-25</th>\n",
              "      <th>2016-01-26</th>\n",
              "      <th>2016-01-27</th>\n",
              "      <th>2016-01-28</th>\n",
              "      <th>2016-01-29</th>\n",
              "      <th>2016-01-30</th>\n",
              "      <th>2016-01-31</th>\n",
              "      <th>2016-02-01</th>\n",
              "      <th>2016-02-02</th>\n",
              "      <th>2016-02-03</th>\n",
              "      <th>2016-02-04</th>\n",
              "      <th>2016-02-05</th>\n",
              "      <th>2016-02-06</th>\n",
              "      <th>2016-02-07</th>\n",
              "      <th>2016-02-08</th>\n",
              "      <th>2016-02-09</th>\n",
              "      <th>...</th>\n",
              "      <th>2017-03-14</th>\n",
              "      <th>2017-03-15</th>\n",
              "      <th>2017-03-16</th>\n",
              "      <th>2017-03-17</th>\n",
              "      <th>2017-03-18</th>\n",
              "      <th>2017-03-19</th>\n",
              "      <th>2017-03-20</th>\n",
              "      <th>2017-03-21</th>\n",
              "      <th>2017-03-22</th>\n",
              "      <th>2017-03-23</th>\n",
              "      <th>2017-03-24</th>\n",
              "      <th>2017-03-25</th>\n",
              "      <th>2017-03-26</th>\n",
              "      <th>2017-03-27</th>\n",
              "      <th>2017-03-28</th>\n",
              "      <th>2017-03-29</th>\n",
              "      <th>2017-03-30</th>\n",
              "      <th>2017-03-31</th>\n",
              "      <th>2017-04-01</th>\n",
              "      <th>2017-04-02</th>\n",
              "      <th>2017-04-03</th>\n",
              "      <th>2017-04-04</th>\n",
              "      <th>2017-04-05</th>\n",
              "      <th>2017-04-06</th>\n",
              "      <th>2017-04-07</th>\n",
              "      <th>2017-04-08</th>\n",
              "      <th>2017-04-09</th>\n",
              "      <th>2017-04-10</th>\n",
              "      <th>2017-04-11</th>\n",
              "      <th>2017-04-12</th>\n",
              "      <th>2017-04-13</th>\n",
              "      <th>2017-04-14</th>\n",
              "      <th>2017-04-15</th>\n",
              "      <th>2017-04-16</th>\n",
              "      <th>2017-04-17</th>\n",
              "      <th>2017-04-18</th>\n",
              "      <th>2017-04-19</th>\n",
              "      <th>2017-04-20</th>\n",
              "      <th>2017-04-21</th>\n",
              "      <th>2017-04-22</th>\n",
              "    </tr>\n",
              "    <tr>\n",
              "      <th>air_store_id</th>\n",
              "      <th></th>\n",
              "      <th></th>\n",
              "      <th></th>\n",
              "      <th></th>\n",
              "      <th></th>\n",
              "      <th></th>\n",
              "      <th></th>\n",
              "      <th></th>\n",
              "      <th></th>\n",
              "      <th></th>\n",
              "      <th></th>\n",
              "      <th></th>\n",
              "      <th></th>\n",
              "      <th></th>\n",
              "      <th></th>\n",
              "      <th></th>\n",
              "      <th></th>\n",
              "      <th></th>\n",
              "      <th></th>\n",
              "      <th></th>\n",
              "      <th></th>\n",
              "      <th></th>\n",
              "      <th></th>\n",
              "      <th></th>\n",
              "      <th></th>\n",
              "      <th></th>\n",
              "      <th></th>\n",
              "      <th></th>\n",
              "      <th></th>\n",
              "      <th></th>\n",
              "      <th></th>\n",
              "      <th></th>\n",
              "      <th></th>\n",
              "      <th></th>\n",
              "      <th></th>\n",
              "      <th></th>\n",
              "      <th></th>\n",
              "      <th></th>\n",
              "      <th></th>\n",
              "      <th></th>\n",
              "      <th></th>\n",
              "      <th></th>\n",
              "      <th></th>\n",
              "      <th></th>\n",
              "      <th></th>\n",
              "      <th></th>\n",
              "      <th></th>\n",
              "      <th></th>\n",
              "      <th></th>\n",
              "      <th></th>\n",
              "      <th></th>\n",
              "      <th></th>\n",
              "      <th></th>\n",
              "      <th></th>\n",
              "      <th></th>\n",
              "      <th></th>\n",
              "      <th></th>\n",
              "      <th></th>\n",
              "      <th></th>\n",
              "      <th></th>\n",
              "      <th></th>\n",
              "      <th></th>\n",
              "      <th></th>\n",
              "      <th></th>\n",
              "      <th></th>\n",
              "      <th></th>\n",
              "      <th></th>\n",
              "      <th></th>\n",
              "      <th></th>\n",
              "      <th></th>\n",
              "      <th></th>\n",
              "      <th></th>\n",
              "      <th></th>\n",
              "      <th></th>\n",
              "      <th></th>\n",
              "      <th></th>\n",
              "      <th></th>\n",
              "      <th></th>\n",
              "      <th></th>\n",
              "      <th></th>\n",
              "      <th></th>\n",
              "    </tr>\n",
              "  </thead>\n",
              "  <tbody>\n",
              "    <tr>\n",
              "      <th>air_00a91d42b08b08d9</th>\n",
              "      <td>0.0</td>\n",
              "      <td>0.0</td>\n",
              "      <td>0.0</td>\n",
              "      <td>0.0</td>\n",
              "      <td>0.0</td>\n",
              "      <td>0.0</td>\n",
              "      <td>0.0</td>\n",
              "      <td>0.0</td>\n",
              "      <td>0.0</td>\n",
              "      <td>0.0</td>\n",
              "      <td>0.0</td>\n",
              "      <td>0.0</td>\n",
              "      <td>0.0</td>\n",
              "      <td>0.0</td>\n",
              "      <td>0.0</td>\n",
              "      <td>0.0</td>\n",
              "      <td>0.0</td>\n",
              "      <td>0.0</td>\n",
              "      <td>0.0</td>\n",
              "      <td>0.0</td>\n",
              "      <td>0.0</td>\n",
              "      <td>0.0</td>\n",
              "      <td>0.0</td>\n",
              "      <td>0.0</td>\n",
              "      <td>0.0</td>\n",
              "      <td>0.0</td>\n",
              "      <td>0.0</td>\n",
              "      <td>0.0</td>\n",
              "      <td>0.0</td>\n",
              "      <td>0.0</td>\n",
              "      <td>0.0</td>\n",
              "      <td>0.0</td>\n",
              "      <td>0.0</td>\n",
              "      <td>0.0</td>\n",
              "      <td>0.0</td>\n",
              "      <td>0.0</td>\n",
              "      <td>0.0</td>\n",
              "      <td>0.0</td>\n",
              "      <td>0.0</td>\n",
              "      <td>0.0</td>\n",
              "      <td>...</td>\n",
              "      <td>28.0</td>\n",
              "      <td>42.0</td>\n",
              "      <td>39.0</td>\n",
              "      <td>37.0</td>\n",
              "      <td>4.0</td>\n",
              "      <td>0.0</td>\n",
              "      <td>0.0</td>\n",
              "      <td>28.0</td>\n",
              "      <td>23.0</td>\n",
              "      <td>27.0</td>\n",
              "      <td>34.0</td>\n",
              "      <td>7.0</td>\n",
              "      <td>0.0</td>\n",
              "      <td>43.0</td>\n",
              "      <td>30.0</td>\n",
              "      <td>52.0</td>\n",
              "      <td>33.0</td>\n",
              "      <td>38.0</td>\n",
              "      <td>7.0</td>\n",
              "      <td>0.0</td>\n",
              "      <td>33.0</td>\n",
              "      <td>17.0</td>\n",
              "      <td>35.0</td>\n",
              "      <td>29.0</td>\n",
              "      <td>17.0</td>\n",
              "      <td>9.0</td>\n",
              "      <td>0.0</td>\n",
              "      <td>17.0</td>\n",
              "      <td>43.0</td>\n",
              "      <td>28.0</td>\n",
              "      <td>34.0</td>\n",
              "      <td>39.0</td>\n",
              "      <td>0.0</td>\n",
              "      <td>0.0</td>\n",
              "      <td>19.0</td>\n",
              "      <td>35.0</td>\n",
              "      <td>17.0</td>\n",
              "      <td>38.0</td>\n",
              "      <td>55.0</td>\n",
              "      <td>18.0</td>\n",
              "    </tr>\n",
              "    <tr>\n",
              "      <th>air_0164b9927d20bcc3</th>\n",
              "      <td>0.0</td>\n",
              "      <td>0.0</td>\n",
              "      <td>0.0</td>\n",
              "      <td>0.0</td>\n",
              "      <td>0.0</td>\n",
              "      <td>0.0</td>\n",
              "      <td>0.0</td>\n",
              "      <td>0.0</td>\n",
              "      <td>0.0</td>\n",
              "      <td>0.0</td>\n",
              "      <td>0.0</td>\n",
              "      <td>0.0</td>\n",
              "      <td>0.0</td>\n",
              "      <td>0.0</td>\n",
              "      <td>0.0</td>\n",
              "      <td>0.0</td>\n",
              "      <td>0.0</td>\n",
              "      <td>0.0</td>\n",
              "      <td>0.0</td>\n",
              "      <td>0.0</td>\n",
              "      <td>0.0</td>\n",
              "      <td>0.0</td>\n",
              "      <td>0.0</td>\n",
              "      <td>0.0</td>\n",
              "      <td>0.0</td>\n",
              "      <td>0.0</td>\n",
              "      <td>0.0</td>\n",
              "      <td>0.0</td>\n",
              "      <td>0.0</td>\n",
              "      <td>0.0</td>\n",
              "      <td>0.0</td>\n",
              "      <td>0.0</td>\n",
              "      <td>0.0</td>\n",
              "      <td>0.0</td>\n",
              "      <td>0.0</td>\n",
              "      <td>0.0</td>\n",
              "      <td>0.0</td>\n",
              "      <td>0.0</td>\n",
              "      <td>0.0</td>\n",
              "      <td>0.0</td>\n",
              "      <td>...</td>\n",
              "      <td>14.0</td>\n",
              "      <td>11.0</td>\n",
              "      <td>5.0</td>\n",
              "      <td>15.0</td>\n",
              "      <td>6.0</td>\n",
              "      <td>0.0</td>\n",
              "      <td>0.0</td>\n",
              "      <td>0.0</td>\n",
              "      <td>18.0</td>\n",
              "      <td>10.0</td>\n",
              "      <td>18.0</td>\n",
              "      <td>1.0</td>\n",
              "      <td>0.0</td>\n",
              "      <td>11.0</td>\n",
              "      <td>11.0</td>\n",
              "      <td>6.0</td>\n",
              "      <td>14.0</td>\n",
              "      <td>4.0</td>\n",
              "      <td>11.0</td>\n",
              "      <td>0.0</td>\n",
              "      <td>13.0</td>\n",
              "      <td>16.0</td>\n",
              "      <td>20.0</td>\n",
              "      <td>6.0</td>\n",
              "      <td>6.0</td>\n",
              "      <td>1.0</td>\n",
              "      <td>0.0</td>\n",
              "      <td>10.0</td>\n",
              "      <td>8.0</td>\n",
              "      <td>2.0</td>\n",
              "      <td>13.0</td>\n",
              "      <td>7.0</td>\n",
              "      <td>1.0</td>\n",
              "      <td>0.0</td>\n",
              "      <td>2.0</td>\n",
              "      <td>1.0</td>\n",
              "      <td>8.0</td>\n",
              "      <td>1.0</td>\n",
              "      <td>26.0</td>\n",
              "      <td>6.0</td>\n",
              "    </tr>\n",
              "    <tr>\n",
              "      <th>air_0241aa3964b7f861</th>\n",
              "      <td>0.0</td>\n",
              "      <td>0.0</td>\n",
              "      <td>10.0</td>\n",
              "      <td>9.0</td>\n",
              "      <td>17.0</td>\n",
              "      <td>10.0</td>\n",
              "      <td>0.0</td>\n",
              "      <td>5.0</td>\n",
              "      <td>8.0</td>\n",
              "      <td>16.0</td>\n",
              "      <td>16.0</td>\n",
              "      <td>8.0</td>\n",
              "      <td>9.0</td>\n",
              "      <td>4.0</td>\n",
              "      <td>4.0</td>\n",
              "      <td>29.0</td>\n",
              "      <td>10.0</td>\n",
              "      <td>6.0</td>\n",
              "      <td>7.0</td>\n",
              "      <td>10.0</td>\n",
              "      <td>14.0</td>\n",
              "      <td>10.0</td>\n",
              "      <td>3.0</td>\n",
              "      <td>6.0</td>\n",
              "      <td>7.0</td>\n",
              "      <td>9.0</td>\n",
              "      <td>6.0</td>\n",
              "      <td>0.0</td>\n",
              "      <td>1.0</td>\n",
              "      <td>14.0</td>\n",
              "      <td>11.0</td>\n",
              "      <td>6.0</td>\n",
              "      <td>3.0</td>\n",
              "      <td>11.0</td>\n",
              "      <td>0.0</td>\n",
              "      <td>5.0</td>\n",
              "      <td>16.0</td>\n",
              "      <td>5.0</td>\n",
              "      <td>9.0</td>\n",
              "      <td>10.0</td>\n",
              "      <td>...</td>\n",
              "      <td>5.0</td>\n",
              "      <td>7.0</td>\n",
              "      <td>0.0</td>\n",
              "      <td>6.0</td>\n",
              "      <td>13.0</td>\n",
              "      <td>12.0</td>\n",
              "      <td>7.0</td>\n",
              "      <td>6.0</td>\n",
              "      <td>4.0</td>\n",
              "      <td>0.0</td>\n",
              "      <td>8.0</td>\n",
              "      <td>14.0</td>\n",
              "      <td>6.0</td>\n",
              "      <td>11.0</td>\n",
              "      <td>11.0</td>\n",
              "      <td>3.0</td>\n",
              "      <td>2.0</td>\n",
              "      <td>10.0</td>\n",
              "      <td>7.0</td>\n",
              "      <td>13.0</td>\n",
              "      <td>5.0</td>\n",
              "      <td>4.0</td>\n",
              "      <td>7.0</td>\n",
              "      <td>0.0</td>\n",
              "      <td>12.0</td>\n",
              "      <td>4.0</td>\n",
              "      <td>10.0</td>\n",
              "      <td>11.0</td>\n",
              "      <td>5.0</td>\n",
              "      <td>13.0</td>\n",
              "      <td>0.0</td>\n",
              "      <td>4.0</td>\n",
              "      <td>15.0</td>\n",
              "      <td>10.0</td>\n",
              "      <td>12.0</td>\n",
              "      <td>19.0</td>\n",
              "      <td>8.0</td>\n",
              "      <td>0.0</td>\n",
              "      <td>3.0</td>\n",
              "      <td>13.0</td>\n",
              "    </tr>\n",
              "    <tr>\n",
              "      <th>air_0328696196e46f18</th>\n",
              "      <td>0.0</td>\n",
              "      <td>0.0</td>\n",
              "      <td>0.0</td>\n",
              "      <td>0.0</td>\n",
              "      <td>0.0</td>\n",
              "      <td>0.0</td>\n",
              "      <td>0.0</td>\n",
              "      <td>0.0</td>\n",
              "      <td>0.0</td>\n",
              "      <td>0.0</td>\n",
              "      <td>0.0</td>\n",
              "      <td>0.0</td>\n",
              "      <td>0.0</td>\n",
              "      <td>0.0</td>\n",
              "      <td>0.0</td>\n",
              "      <td>0.0</td>\n",
              "      <td>0.0</td>\n",
              "      <td>0.0</td>\n",
              "      <td>0.0</td>\n",
              "      <td>0.0</td>\n",
              "      <td>0.0</td>\n",
              "      <td>0.0</td>\n",
              "      <td>0.0</td>\n",
              "      <td>0.0</td>\n",
              "      <td>0.0</td>\n",
              "      <td>0.0</td>\n",
              "      <td>0.0</td>\n",
              "      <td>0.0</td>\n",
              "      <td>0.0</td>\n",
              "      <td>0.0</td>\n",
              "      <td>0.0</td>\n",
              "      <td>0.0</td>\n",
              "      <td>0.0</td>\n",
              "      <td>0.0</td>\n",
              "      <td>0.0</td>\n",
              "      <td>0.0</td>\n",
              "      <td>0.0</td>\n",
              "      <td>0.0</td>\n",
              "      <td>0.0</td>\n",
              "      <td>0.0</td>\n",
              "      <td>...</td>\n",
              "      <td>2.0</td>\n",
              "      <td>0.0</td>\n",
              "      <td>6.0</td>\n",
              "      <td>5.0</td>\n",
              "      <td>0.0</td>\n",
              "      <td>29.0</td>\n",
              "      <td>8.0</td>\n",
              "      <td>13.0</td>\n",
              "      <td>15.0</td>\n",
              "      <td>24.0</td>\n",
              "      <td>0.0</td>\n",
              "      <td>0.0</td>\n",
              "      <td>0.0</td>\n",
              "      <td>2.0</td>\n",
              "      <td>0.0</td>\n",
              "      <td>4.0</td>\n",
              "      <td>7.0</td>\n",
              "      <td>5.0</td>\n",
              "      <td>11.0</td>\n",
              "      <td>0.0</td>\n",
              "      <td>6.0</td>\n",
              "      <td>3.0</td>\n",
              "      <td>5.0</td>\n",
              "      <td>0.0</td>\n",
              "      <td>0.0</td>\n",
              "      <td>0.0</td>\n",
              "      <td>0.0</td>\n",
              "      <td>0.0</td>\n",
              "      <td>6.0</td>\n",
              "      <td>8.0</td>\n",
              "      <td>0.0</td>\n",
              "      <td>9.0</td>\n",
              "      <td>4.0</td>\n",
              "      <td>3.0</td>\n",
              "      <td>3.0</td>\n",
              "      <td>0.0</td>\n",
              "      <td>24.0</td>\n",
              "      <td>0.0</td>\n",
              "      <td>19.0</td>\n",
              "      <td>8.0</td>\n",
              "    </tr>\n",
              "    <tr>\n",
              "      <th>air_034a3d5b40d5b1b1</th>\n",
              "      <td>0.0</td>\n",
              "      <td>0.0</td>\n",
              "      <td>0.0</td>\n",
              "      <td>0.0</td>\n",
              "      <td>0.0</td>\n",
              "      <td>0.0</td>\n",
              "      <td>0.0</td>\n",
              "      <td>0.0</td>\n",
              "      <td>0.0</td>\n",
              "      <td>0.0</td>\n",
              "      <td>0.0</td>\n",
              "      <td>0.0</td>\n",
              "      <td>0.0</td>\n",
              "      <td>0.0</td>\n",
              "      <td>0.0</td>\n",
              "      <td>0.0</td>\n",
              "      <td>0.0</td>\n",
              "      <td>0.0</td>\n",
              "      <td>0.0</td>\n",
              "      <td>0.0</td>\n",
              "      <td>0.0</td>\n",
              "      <td>0.0</td>\n",
              "      <td>0.0</td>\n",
              "      <td>0.0</td>\n",
              "      <td>0.0</td>\n",
              "      <td>0.0</td>\n",
              "      <td>0.0</td>\n",
              "      <td>0.0</td>\n",
              "      <td>0.0</td>\n",
              "      <td>0.0</td>\n",
              "      <td>0.0</td>\n",
              "      <td>0.0</td>\n",
              "      <td>0.0</td>\n",
              "      <td>0.0</td>\n",
              "      <td>0.0</td>\n",
              "      <td>0.0</td>\n",
              "      <td>0.0</td>\n",
              "      <td>0.0</td>\n",
              "      <td>0.0</td>\n",
              "      <td>0.0</td>\n",
              "      <td>...</td>\n",
              "      <td>28.0</td>\n",
              "      <td>18.0</td>\n",
              "      <td>20.0</td>\n",
              "      <td>18.0</td>\n",
              "      <td>33.0</td>\n",
              "      <td>42.0</td>\n",
              "      <td>66.0</td>\n",
              "      <td>12.0</td>\n",
              "      <td>7.0</td>\n",
              "      <td>21.0</td>\n",
              "      <td>22.0</td>\n",
              "      <td>15.0</td>\n",
              "      <td>25.0</td>\n",
              "      <td>15.0</td>\n",
              "      <td>16.0</td>\n",
              "      <td>14.0</td>\n",
              "      <td>25.0</td>\n",
              "      <td>16.0</td>\n",
              "      <td>20.0</td>\n",
              "      <td>30.0</td>\n",
              "      <td>6.0</td>\n",
              "      <td>14.0</td>\n",
              "      <td>18.0</td>\n",
              "      <td>6.0</td>\n",
              "      <td>19.0</td>\n",
              "      <td>40.0</td>\n",
              "      <td>37.0</td>\n",
              "      <td>9.0</td>\n",
              "      <td>8.0</td>\n",
              "      <td>16.0</td>\n",
              "      <td>22.0</td>\n",
              "      <td>18.0</td>\n",
              "      <td>31.0</td>\n",
              "      <td>39.0</td>\n",
              "      <td>25.0</td>\n",
              "      <td>20.0</td>\n",
              "      <td>31.0</td>\n",
              "      <td>12.0</td>\n",
              "      <td>37.0</td>\n",
              "      <td>35.0</td>\n",
              "    </tr>\n",
              "    <tr>\n",
              "      <th>...</th>\n",
              "      <td>...</td>\n",
              "      <td>...</td>\n",
              "      <td>...</td>\n",
              "      <td>...</td>\n",
              "      <td>...</td>\n",
              "      <td>...</td>\n",
              "      <td>...</td>\n",
              "      <td>...</td>\n",
              "      <td>...</td>\n",
              "      <td>...</td>\n",
              "      <td>...</td>\n",
              "      <td>...</td>\n",
              "      <td>...</td>\n",
              "      <td>...</td>\n",
              "      <td>...</td>\n",
              "      <td>...</td>\n",
              "      <td>...</td>\n",
              "      <td>...</td>\n",
              "      <td>...</td>\n",
              "      <td>...</td>\n",
              "      <td>...</td>\n",
              "      <td>...</td>\n",
              "      <td>...</td>\n",
              "      <td>...</td>\n",
              "      <td>...</td>\n",
              "      <td>...</td>\n",
              "      <td>...</td>\n",
              "      <td>...</td>\n",
              "      <td>...</td>\n",
              "      <td>...</td>\n",
              "      <td>...</td>\n",
              "      <td>...</td>\n",
              "      <td>...</td>\n",
              "      <td>...</td>\n",
              "      <td>...</td>\n",
              "      <td>...</td>\n",
              "      <td>...</td>\n",
              "      <td>...</td>\n",
              "      <td>...</td>\n",
              "      <td>...</td>\n",
              "      <td>...</td>\n",
              "      <td>...</td>\n",
              "      <td>...</td>\n",
              "      <td>...</td>\n",
              "      <td>...</td>\n",
              "      <td>...</td>\n",
              "      <td>...</td>\n",
              "      <td>...</td>\n",
              "      <td>...</td>\n",
              "      <td>...</td>\n",
              "      <td>...</td>\n",
              "      <td>...</td>\n",
              "      <td>...</td>\n",
              "      <td>...</td>\n",
              "      <td>...</td>\n",
              "      <td>...</td>\n",
              "      <td>...</td>\n",
              "      <td>...</td>\n",
              "      <td>...</td>\n",
              "      <td>...</td>\n",
              "      <td>...</td>\n",
              "      <td>...</td>\n",
              "      <td>...</td>\n",
              "      <td>...</td>\n",
              "      <td>...</td>\n",
              "      <td>...</td>\n",
              "      <td>...</td>\n",
              "      <td>...</td>\n",
              "      <td>...</td>\n",
              "      <td>...</td>\n",
              "      <td>...</td>\n",
              "      <td>...</td>\n",
              "      <td>...</td>\n",
              "      <td>...</td>\n",
              "      <td>...</td>\n",
              "      <td>...</td>\n",
              "      <td>...</td>\n",
              "      <td>...</td>\n",
              "      <td>...</td>\n",
              "      <td>...</td>\n",
              "      <td>...</td>\n",
              "    </tr>\n",
              "    <tr>\n",
              "      <th>air_fea5dc9594450608</th>\n",
              "      <td>0.0</td>\n",
              "      <td>0.0</td>\n",
              "      <td>0.0</td>\n",
              "      <td>0.0</td>\n",
              "      <td>0.0</td>\n",
              "      <td>0.0</td>\n",
              "      <td>0.0</td>\n",
              "      <td>0.0</td>\n",
              "      <td>0.0</td>\n",
              "      <td>0.0</td>\n",
              "      <td>0.0</td>\n",
              "      <td>0.0</td>\n",
              "      <td>0.0</td>\n",
              "      <td>0.0</td>\n",
              "      <td>0.0</td>\n",
              "      <td>0.0</td>\n",
              "      <td>0.0</td>\n",
              "      <td>0.0</td>\n",
              "      <td>0.0</td>\n",
              "      <td>0.0</td>\n",
              "      <td>0.0</td>\n",
              "      <td>0.0</td>\n",
              "      <td>0.0</td>\n",
              "      <td>0.0</td>\n",
              "      <td>0.0</td>\n",
              "      <td>0.0</td>\n",
              "      <td>0.0</td>\n",
              "      <td>0.0</td>\n",
              "      <td>0.0</td>\n",
              "      <td>0.0</td>\n",
              "      <td>0.0</td>\n",
              "      <td>0.0</td>\n",
              "      <td>0.0</td>\n",
              "      <td>0.0</td>\n",
              "      <td>0.0</td>\n",
              "      <td>0.0</td>\n",
              "      <td>0.0</td>\n",
              "      <td>0.0</td>\n",
              "      <td>0.0</td>\n",
              "      <td>0.0</td>\n",
              "      <td>...</td>\n",
              "      <td>8.0</td>\n",
              "      <td>26.0</td>\n",
              "      <td>7.0</td>\n",
              "      <td>28.0</td>\n",
              "      <td>23.0</td>\n",
              "      <td>7.0</td>\n",
              "      <td>0.0</td>\n",
              "      <td>8.0</td>\n",
              "      <td>21.0</td>\n",
              "      <td>22.0</td>\n",
              "      <td>6.0</td>\n",
              "      <td>13.0</td>\n",
              "      <td>35.0</td>\n",
              "      <td>4.0</td>\n",
              "      <td>14.0</td>\n",
              "      <td>14.0</td>\n",
              "      <td>3.0</td>\n",
              "      <td>9.0</td>\n",
              "      <td>33.0</td>\n",
              "      <td>13.0</td>\n",
              "      <td>8.0</td>\n",
              "      <td>12.0</td>\n",
              "      <td>16.0</td>\n",
              "      <td>3.0</td>\n",
              "      <td>23.0</td>\n",
              "      <td>31.0</td>\n",
              "      <td>7.0</td>\n",
              "      <td>2.0</td>\n",
              "      <td>15.0</td>\n",
              "      <td>15.0</td>\n",
              "      <td>17.0</td>\n",
              "      <td>20.0</td>\n",
              "      <td>20.0</td>\n",
              "      <td>15.0</td>\n",
              "      <td>9.0</td>\n",
              "      <td>16.0</td>\n",
              "      <td>17.0</td>\n",
              "      <td>23.0</td>\n",
              "      <td>28.0</td>\n",
              "      <td>14.0</td>\n",
              "    </tr>\n",
              "    <tr>\n",
              "      <th>air_fee8dcf4d619598e</th>\n",
              "      <td>0.0</td>\n",
              "      <td>0.0</td>\n",
              "      <td>0.0</td>\n",
              "      <td>0.0</td>\n",
              "      <td>0.0</td>\n",
              "      <td>0.0</td>\n",
              "      <td>0.0</td>\n",
              "      <td>0.0</td>\n",
              "      <td>0.0</td>\n",
              "      <td>0.0</td>\n",
              "      <td>0.0</td>\n",
              "      <td>0.0</td>\n",
              "      <td>0.0</td>\n",
              "      <td>0.0</td>\n",
              "      <td>0.0</td>\n",
              "      <td>0.0</td>\n",
              "      <td>0.0</td>\n",
              "      <td>0.0</td>\n",
              "      <td>0.0</td>\n",
              "      <td>0.0</td>\n",
              "      <td>0.0</td>\n",
              "      <td>0.0</td>\n",
              "      <td>0.0</td>\n",
              "      <td>0.0</td>\n",
              "      <td>0.0</td>\n",
              "      <td>0.0</td>\n",
              "      <td>0.0</td>\n",
              "      <td>0.0</td>\n",
              "      <td>0.0</td>\n",
              "      <td>0.0</td>\n",
              "      <td>0.0</td>\n",
              "      <td>0.0</td>\n",
              "      <td>0.0</td>\n",
              "      <td>0.0</td>\n",
              "      <td>0.0</td>\n",
              "      <td>0.0</td>\n",
              "      <td>0.0</td>\n",
              "      <td>0.0</td>\n",
              "      <td>0.0</td>\n",
              "      <td>0.0</td>\n",
              "      <td>...</td>\n",
              "      <td>13.0</td>\n",
              "      <td>19.0</td>\n",
              "      <td>28.0</td>\n",
              "      <td>14.0</td>\n",
              "      <td>16.0</td>\n",
              "      <td>28.0</td>\n",
              "      <td>14.0</td>\n",
              "      <td>26.0</td>\n",
              "      <td>27.0</td>\n",
              "      <td>21.0</td>\n",
              "      <td>30.0</td>\n",
              "      <td>45.0</td>\n",
              "      <td>24.0</td>\n",
              "      <td>27.0</td>\n",
              "      <td>29.0</td>\n",
              "      <td>22.0</td>\n",
              "      <td>22.0</td>\n",
              "      <td>30.0</td>\n",
              "      <td>38.0</td>\n",
              "      <td>24.0</td>\n",
              "      <td>21.0</td>\n",
              "      <td>17.0</td>\n",
              "      <td>27.0</td>\n",
              "      <td>23.0</td>\n",
              "      <td>32.0</td>\n",
              "      <td>31.0</td>\n",
              "      <td>30.0</td>\n",
              "      <td>12.0</td>\n",
              "      <td>17.0</td>\n",
              "      <td>14.0</td>\n",
              "      <td>11.0</td>\n",
              "      <td>37.0</td>\n",
              "      <td>47.0</td>\n",
              "      <td>32.0</td>\n",
              "      <td>15.0</td>\n",
              "      <td>22.0</td>\n",
              "      <td>32.0</td>\n",
              "      <td>26.0</td>\n",
              "      <td>27.0</td>\n",
              "      <td>53.0</td>\n",
              "    </tr>\n",
              "    <tr>\n",
              "      <th>air_fef9ccb3ba0da2f7</th>\n",
              "      <td>0.0</td>\n",
              "      <td>0.0</td>\n",
              "      <td>0.0</td>\n",
              "      <td>0.0</td>\n",
              "      <td>0.0</td>\n",
              "      <td>0.0</td>\n",
              "      <td>0.0</td>\n",
              "      <td>0.0</td>\n",
              "      <td>0.0</td>\n",
              "      <td>0.0</td>\n",
              "      <td>0.0</td>\n",
              "      <td>0.0</td>\n",
              "      <td>0.0</td>\n",
              "      <td>0.0</td>\n",
              "      <td>0.0</td>\n",
              "      <td>0.0</td>\n",
              "      <td>0.0</td>\n",
              "      <td>0.0</td>\n",
              "      <td>0.0</td>\n",
              "      <td>0.0</td>\n",
              "      <td>0.0</td>\n",
              "      <td>0.0</td>\n",
              "      <td>0.0</td>\n",
              "      <td>0.0</td>\n",
              "      <td>0.0</td>\n",
              "      <td>0.0</td>\n",
              "      <td>0.0</td>\n",
              "      <td>0.0</td>\n",
              "      <td>0.0</td>\n",
              "      <td>0.0</td>\n",
              "      <td>0.0</td>\n",
              "      <td>0.0</td>\n",
              "      <td>0.0</td>\n",
              "      <td>0.0</td>\n",
              "      <td>0.0</td>\n",
              "      <td>0.0</td>\n",
              "      <td>0.0</td>\n",
              "      <td>0.0</td>\n",
              "      <td>0.0</td>\n",
              "      <td>0.0</td>\n",
              "      <td>...</td>\n",
              "      <td>0.0</td>\n",
              "      <td>13.0</td>\n",
              "      <td>5.0</td>\n",
              "      <td>5.0</td>\n",
              "      <td>7.0</td>\n",
              "      <td>13.0</td>\n",
              "      <td>7.0</td>\n",
              "      <td>0.0</td>\n",
              "      <td>3.0</td>\n",
              "      <td>8.0</td>\n",
              "      <td>7.0</td>\n",
              "      <td>12.0</td>\n",
              "      <td>6.0</td>\n",
              "      <td>8.0</td>\n",
              "      <td>0.0</td>\n",
              "      <td>4.0</td>\n",
              "      <td>3.0</td>\n",
              "      <td>4.0</td>\n",
              "      <td>10.0</td>\n",
              "      <td>10.0</td>\n",
              "      <td>6.0</td>\n",
              "      <td>6.0</td>\n",
              "      <td>0.0</td>\n",
              "      <td>11.0</td>\n",
              "      <td>9.0</td>\n",
              "      <td>20.0</td>\n",
              "      <td>20.0</td>\n",
              "      <td>10.0</td>\n",
              "      <td>0.0</td>\n",
              "      <td>9.0</td>\n",
              "      <td>6.0</td>\n",
              "      <td>1.0</td>\n",
              "      <td>23.0</td>\n",
              "      <td>9.0</td>\n",
              "      <td>7.0</td>\n",
              "      <td>0.0</td>\n",
              "      <td>13.0</td>\n",
              "      <td>1.0</td>\n",
              "      <td>3.0</td>\n",
              "      <td>5.0</td>\n",
              "    </tr>\n",
              "    <tr>\n",
              "      <th>air_ffcc2d5087e1b476</th>\n",
              "      <td>0.0</td>\n",
              "      <td>0.0</td>\n",
              "      <td>0.0</td>\n",
              "      <td>0.0</td>\n",
              "      <td>0.0</td>\n",
              "      <td>0.0</td>\n",
              "      <td>0.0</td>\n",
              "      <td>0.0</td>\n",
              "      <td>0.0</td>\n",
              "      <td>0.0</td>\n",
              "      <td>0.0</td>\n",
              "      <td>0.0</td>\n",
              "      <td>0.0</td>\n",
              "      <td>0.0</td>\n",
              "      <td>0.0</td>\n",
              "      <td>0.0</td>\n",
              "      <td>0.0</td>\n",
              "      <td>0.0</td>\n",
              "      <td>0.0</td>\n",
              "      <td>0.0</td>\n",
              "      <td>0.0</td>\n",
              "      <td>0.0</td>\n",
              "      <td>0.0</td>\n",
              "      <td>0.0</td>\n",
              "      <td>0.0</td>\n",
              "      <td>0.0</td>\n",
              "      <td>0.0</td>\n",
              "      <td>0.0</td>\n",
              "      <td>0.0</td>\n",
              "      <td>0.0</td>\n",
              "      <td>0.0</td>\n",
              "      <td>0.0</td>\n",
              "      <td>0.0</td>\n",
              "      <td>0.0</td>\n",
              "      <td>0.0</td>\n",
              "      <td>0.0</td>\n",
              "      <td>0.0</td>\n",
              "      <td>0.0</td>\n",
              "      <td>0.0</td>\n",
              "      <td>0.0</td>\n",
              "      <td>...</td>\n",
              "      <td>12.0</td>\n",
              "      <td>19.0</td>\n",
              "      <td>27.0</td>\n",
              "      <td>30.0</td>\n",
              "      <td>18.0</td>\n",
              "      <td>0.0</td>\n",
              "      <td>0.0</td>\n",
              "      <td>12.0</td>\n",
              "      <td>32.0</td>\n",
              "      <td>20.0</td>\n",
              "      <td>33.0</td>\n",
              "      <td>25.0</td>\n",
              "      <td>5.0</td>\n",
              "      <td>17.0</td>\n",
              "      <td>26.0</td>\n",
              "      <td>25.0</td>\n",
              "      <td>33.0</td>\n",
              "      <td>29.0</td>\n",
              "      <td>10.0</td>\n",
              "      <td>0.0</td>\n",
              "      <td>15.0</td>\n",
              "      <td>12.0</td>\n",
              "      <td>25.0</td>\n",
              "      <td>16.0</td>\n",
              "      <td>32.0</td>\n",
              "      <td>12.0</td>\n",
              "      <td>7.0</td>\n",
              "      <td>12.0</td>\n",
              "      <td>9.0</td>\n",
              "      <td>14.0</td>\n",
              "      <td>16.0</td>\n",
              "      <td>37.0</td>\n",
              "      <td>25.0</td>\n",
              "      <td>0.0</td>\n",
              "      <td>14.0</td>\n",
              "      <td>28.0</td>\n",
              "      <td>28.0</td>\n",
              "      <td>23.0</td>\n",
              "      <td>54.0</td>\n",
              "      <td>1.0</td>\n",
              "    </tr>\n",
              "    <tr>\n",
              "      <th>air_fff68b929994bfbd</th>\n",
              "      <td>0.0</td>\n",
              "      <td>0.0</td>\n",
              "      <td>0.0</td>\n",
              "      <td>0.0</td>\n",
              "      <td>0.0</td>\n",
              "      <td>0.0</td>\n",
              "      <td>0.0</td>\n",
              "      <td>0.0</td>\n",
              "      <td>0.0</td>\n",
              "      <td>0.0</td>\n",
              "      <td>0.0</td>\n",
              "      <td>0.0</td>\n",
              "      <td>0.0</td>\n",
              "      <td>0.0</td>\n",
              "      <td>0.0</td>\n",
              "      <td>0.0</td>\n",
              "      <td>0.0</td>\n",
              "      <td>0.0</td>\n",
              "      <td>0.0</td>\n",
              "      <td>0.0</td>\n",
              "      <td>0.0</td>\n",
              "      <td>0.0</td>\n",
              "      <td>0.0</td>\n",
              "      <td>0.0</td>\n",
              "      <td>0.0</td>\n",
              "      <td>0.0</td>\n",
              "      <td>0.0</td>\n",
              "      <td>0.0</td>\n",
              "      <td>0.0</td>\n",
              "      <td>0.0</td>\n",
              "      <td>0.0</td>\n",
              "      <td>0.0</td>\n",
              "      <td>0.0</td>\n",
              "      <td>0.0</td>\n",
              "      <td>0.0</td>\n",
              "      <td>0.0</td>\n",
              "      <td>0.0</td>\n",
              "      <td>0.0</td>\n",
              "      <td>0.0</td>\n",
              "      <td>0.0</td>\n",
              "      <td>...</td>\n",
              "      <td>4.0</td>\n",
              "      <td>7.0</td>\n",
              "      <td>3.0</td>\n",
              "      <td>8.0</td>\n",
              "      <td>8.0</td>\n",
              "      <td>2.0</td>\n",
              "      <td>2.0</td>\n",
              "      <td>2.0</td>\n",
              "      <td>1.0</td>\n",
              "      <td>3.0</td>\n",
              "      <td>8.0</td>\n",
              "      <td>7.0</td>\n",
              "      <td>3.0</td>\n",
              "      <td>4.0</td>\n",
              "      <td>9.0</td>\n",
              "      <td>2.0</td>\n",
              "      <td>5.0</td>\n",
              "      <td>5.0</td>\n",
              "      <td>9.0</td>\n",
              "      <td>2.0</td>\n",
              "      <td>2.0</td>\n",
              "      <td>4.0</td>\n",
              "      <td>6.0</td>\n",
              "      <td>6.0</td>\n",
              "      <td>9.0</td>\n",
              "      <td>4.0</td>\n",
              "      <td>5.0</td>\n",
              "      <td>6.0</td>\n",
              "      <td>1.0</td>\n",
              "      <td>6.0</td>\n",
              "      <td>1.0</td>\n",
              "      <td>5.0</td>\n",
              "      <td>7.0</td>\n",
              "      <td>7.0</td>\n",
              "      <td>3.0</td>\n",
              "      <td>6.0</td>\n",
              "      <td>2.0</td>\n",
              "      <td>2.0</td>\n",
              "      <td>4.0</td>\n",
              "      <td>5.0</td>\n",
              "    </tr>\n",
              "  </tbody>\n",
              "</table>\n",
              "<p>829 rows × 478 columns</p>\n",
              "</div>"
            ],
            "text/plain": [
              "visit_date            2016-01-01  2016-01-02  ...  2017-04-21  2017-04-22\n",
              "air_store_id                                  ...                        \n",
              "air_00a91d42b08b08d9         0.0         0.0  ...        55.0        18.0\n",
              "air_0164b9927d20bcc3         0.0         0.0  ...        26.0         6.0\n",
              "air_0241aa3964b7f861         0.0         0.0  ...         3.0        13.0\n",
              "air_0328696196e46f18         0.0         0.0  ...        19.0         8.0\n",
              "air_034a3d5b40d5b1b1         0.0         0.0  ...        37.0        35.0\n",
              "...                          ...         ...  ...         ...         ...\n",
              "air_fea5dc9594450608         0.0         0.0  ...        28.0        14.0\n",
              "air_fee8dcf4d619598e         0.0         0.0  ...        27.0        53.0\n",
              "air_fef9ccb3ba0da2f7         0.0         0.0  ...         3.0         5.0\n",
              "air_ffcc2d5087e1b476         0.0         0.0  ...        54.0         1.0\n",
              "air_fff68b929994bfbd         0.0         0.0  ...         4.0         5.0\n",
              "\n",
              "[829 rows x 478 columns]"
            ]
          },
          "metadata": {
            "tags": []
          },
          "execution_count": 50
        }
      ]
    },
    {
      "cell_type": "code",
      "metadata": {
        "colab": {
          "base_uri": "https://localhost:8080/",
          "height": 450
        },
        "id": "qbx97FfyT8Og",
        "outputId": "9ee94800-56e7-414b-d81f-630f6bf93762"
      },
      "source": [
        "air_visit_pivot.T.describe().T"
      ],
      "execution_count": null,
      "outputs": [
        {
          "output_type": "execute_result",
          "data": {
            "text/html": [
              "<div>\n",
              "<style scoped>\n",
              "    .dataframe tbody tr th:only-of-type {\n",
              "        vertical-align: middle;\n",
              "    }\n",
              "\n",
              "    .dataframe tbody tr th {\n",
              "        vertical-align: top;\n",
              "    }\n",
              "\n",
              "    .dataframe thead th {\n",
              "        text-align: right;\n",
              "    }\n",
              "</style>\n",
              "<table border=\"1\" class=\"dataframe\">\n",
              "  <thead>\n",
              "    <tr style=\"text-align: right;\">\n",
              "      <th></th>\n",
              "      <th>count</th>\n",
              "      <th>mean</th>\n",
              "      <th>std</th>\n",
              "      <th>min</th>\n",
              "      <th>25%</th>\n",
              "      <th>50%</th>\n",
              "      <th>75%</th>\n",
              "      <th>max</th>\n",
              "    </tr>\n",
              "    <tr>\n",
              "      <th>air_store_id</th>\n",
              "      <th></th>\n",
              "      <th></th>\n",
              "      <th></th>\n",
              "      <th></th>\n",
              "      <th></th>\n",
              "      <th></th>\n",
              "      <th></th>\n",
              "      <th></th>\n",
              "    </tr>\n",
              "  </thead>\n",
              "  <tbody>\n",
              "    <tr>\n",
              "      <th>air_00a91d42b08b08d9</th>\n",
              "      <td>478.0</td>\n",
              "      <td>12.658996</td>\n",
              "      <td>15.657726</td>\n",
              "      <td>0.0</td>\n",
              "      <td>0.0</td>\n",
              "      <td>0.0</td>\n",
              "      <td>26.00</td>\n",
              "      <td>99.0</td>\n",
              "    </tr>\n",
              "    <tr>\n",
              "      <th>air_0164b9927d20bcc3</th>\n",
              "      <td>478.0</td>\n",
              "      <td>2.882845</td>\n",
              "      <td>5.558426</td>\n",
              "      <td>0.0</td>\n",
              "      <td>0.0</td>\n",
              "      <td>0.0</td>\n",
              "      <td>3.00</td>\n",
              "      <td>27.0</td>\n",
              "    </tr>\n",
              "    <tr>\n",
              "      <th>air_0241aa3964b7f861</th>\n",
              "      <td>478.0</td>\n",
              "      <td>8.198745</td>\n",
              "      <td>6.777401</td>\n",
              "      <td>0.0</td>\n",
              "      <td>3.0</td>\n",
              "      <td>7.0</td>\n",
              "      <td>11.75</td>\n",
              "      <td>48.0</td>\n",
              "    </tr>\n",
              "    <tr>\n",
              "      <th>air_0328696196e46f18</th>\n",
              "      <td>478.0</td>\n",
              "      <td>1.926778</td>\n",
              "      <td>4.747820</td>\n",
              "      <td>0.0</td>\n",
              "      <td>0.0</td>\n",
              "      <td>0.0</td>\n",
              "      <td>0.00</td>\n",
              "      <td>41.0</td>\n",
              "    </tr>\n",
              "    <tr>\n",
              "      <th>air_034a3d5b40d5b1b1</th>\n",
              "      <td>478.0</td>\n",
              "      <td>7.786611</td>\n",
              "      <td>12.067962</td>\n",
              "      <td>0.0</td>\n",
              "      <td>0.0</td>\n",
              "      <td>1.0</td>\n",
              "      <td>12.75</td>\n",
              "      <td>116.0</td>\n",
              "    </tr>\n",
              "    <tr>\n",
              "      <th>...</th>\n",
              "      <td>...</td>\n",
              "      <td>...</td>\n",
              "      <td>...</td>\n",
              "      <td>...</td>\n",
              "      <td>...</td>\n",
              "      <td>...</td>\n",
              "      <td>...</td>\n",
              "      <td>...</td>\n",
              "    </tr>\n",
              "    <tr>\n",
              "      <th>air_fea5dc9594450608</th>\n",
              "      <td>478.0</td>\n",
              "      <td>8.303347</td>\n",
              "      <td>9.646913</td>\n",
              "      <td>0.0</td>\n",
              "      <td>0.0</td>\n",
              "      <td>5.5</td>\n",
              "      <td>14.75</td>\n",
              "      <td>44.0</td>\n",
              "    </tr>\n",
              "    <tr>\n",
              "      <th>air_fee8dcf4d619598e</th>\n",
              "      <td>478.0</td>\n",
              "      <td>15.682008</td>\n",
              "      <td>14.844665</td>\n",
              "      <td>0.0</td>\n",
              "      <td>0.0</td>\n",
              "      <td>15.0</td>\n",
              "      <td>28.75</td>\n",
              "      <td>53.0</td>\n",
              "    </tr>\n",
              "    <tr>\n",
              "      <th>air_fef9ccb3ba0da2f7</th>\n",
              "      <td>478.0</td>\n",
              "      <td>4.930962</td>\n",
              "      <td>6.165897</td>\n",
              "      <td>0.0</td>\n",
              "      <td>0.0</td>\n",
              "      <td>1.0</td>\n",
              "      <td>8.75</td>\n",
              "      <td>30.0</td>\n",
              "    </tr>\n",
              "    <tr>\n",
              "      <th>air_ffcc2d5087e1b476</th>\n",
              "      <td>478.0</td>\n",
              "      <td>10.290795</td>\n",
              "      <td>12.771215</td>\n",
              "      <td>0.0</td>\n",
              "      <td>0.0</td>\n",
              "      <td>2.0</td>\n",
              "      <td>20.00</td>\n",
              "      <td>55.0</td>\n",
              "    </tr>\n",
              "    <tr>\n",
              "      <th>air_fff68b929994bfbd</th>\n",
              "      <td>478.0</td>\n",
              "      <td>2.864017</td>\n",
              "      <td>3.472613</td>\n",
              "      <td>0.0</td>\n",
              "      <td>0.0</td>\n",
              "      <td>2.0</td>\n",
              "      <td>5.00</td>\n",
              "      <td>18.0</td>\n",
              "    </tr>\n",
              "  </tbody>\n",
              "</table>\n",
              "<p>829 rows × 8 columns</p>\n",
              "</div>"
            ],
            "text/plain": [
              "                      count       mean        std  min  25%   50%    75%    max\n",
              "air_store_id                                                                   \n",
              "air_00a91d42b08b08d9  478.0  12.658996  15.657726  0.0  0.0   0.0  26.00   99.0\n",
              "air_0164b9927d20bcc3  478.0   2.882845   5.558426  0.0  0.0   0.0   3.00   27.0\n",
              "air_0241aa3964b7f861  478.0   8.198745   6.777401  0.0  3.0   7.0  11.75   48.0\n",
              "air_0328696196e46f18  478.0   1.926778   4.747820  0.0  0.0   0.0   0.00   41.0\n",
              "air_034a3d5b40d5b1b1  478.0   7.786611  12.067962  0.0  0.0   1.0  12.75  116.0\n",
              "...                     ...        ...        ...  ...  ...   ...    ...    ...\n",
              "air_fea5dc9594450608  478.0   8.303347   9.646913  0.0  0.0   5.5  14.75   44.0\n",
              "air_fee8dcf4d619598e  478.0  15.682008  14.844665  0.0  0.0  15.0  28.75   53.0\n",
              "air_fef9ccb3ba0da2f7  478.0   4.930962   6.165897  0.0  0.0   1.0   8.75   30.0\n",
              "air_ffcc2d5087e1b476  478.0  10.290795  12.771215  0.0  0.0   2.0  20.00   55.0\n",
              "air_fff68b929994bfbd  478.0   2.864017   3.472613  0.0  0.0   2.0   5.00   18.0\n",
              "\n",
              "[829 rows x 8 columns]"
            ]
          },
          "metadata": {
            "tags": []
          },
          "execution_count": 51
        }
      ]
    },
    {
      "cell_type": "markdown",
      "metadata": {
        "id": "iyLXrFW9va0B"
      },
      "source": [
        "## air_reserve"
      ]
    },
    {
      "cell_type": "code",
      "metadata": {
        "colab": {
          "base_uri": "https://localhost:8080/",
          "height": 408
        },
        "id": "bSZPvs27Otwd",
        "outputId": "8559a13b-02a2-49e8-d512-4eae329e9c8c"
      },
      "source": [
        "data_look(air_reserve)"
      ],
      "execution_count": null,
      "outputs": [
        {
          "output_type": "display_data",
          "data": {
            "text/html": [
              "<div>\n",
              "<style scoped>\n",
              "    .dataframe tbody tr th:only-of-type {\n",
              "        vertical-align: middle;\n",
              "    }\n",
              "\n",
              "    .dataframe tbody tr th {\n",
              "        vertical-align: top;\n",
              "    }\n",
              "\n",
              "    .dataframe thead th {\n",
              "        text-align: right;\n",
              "    }\n",
              "</style>\n",
              "<table border=\"1\" class=\"dataframe\">\n",
              "  <thead>\n",
              "    <tr style=\"text-align: right;\">\n",
              "      <th></th>\n",
              "      <th>air_store_id</th>\n",
              "      <th>visit_datetime</th>\n",
              "      <th>reserve_datetime</th>\n",
              "      <th>reserve_visitors</th>\n",
              "    </tr>\n",
              "  </thead>\n",
              "  <tbody>\n",
              "    <tr>\n",
              "      <th>92373</th>\n",
              "      <td>air_db4b38ebe7a7ceff</td>\n",
              "      <td>2017-05-29 18:00:00</td>\n",
              "      <td>2017-04-17 19:00:00</td>\n",
              "      <td>6</td>\n",
              "    </tr>\n",
              "    <tr>\n",
              "      <th>92374</th>\n",
              "      <td>air_1033310359ceeac1</td>\n",
              "      <td>2017-05-30 23:00:00</td>\n",
              "      <td>2017-04-19 17:00:00</td>\n",
              "      <td>8</td>\n",
              "    </tr>\n",
              "    <tr>\n",
              "      <th>92375</th>\n",
              "      <td>air_877f79706adbfb06</td>\n",
              "      <td>2017-05-31 20:00:00</td>\n",
              "      <td>2017-04-12 23:00:00</td>\n",
              "      <td>3</td>\n",
              "    </tr>\n",
              "    <tr>\n",
              "      <th>92376</th>\n",
              "      <td>air_900d755ebd2f7bbd</td>\n",
              "      <td>2017-05-31 20:00:00</td>\n",
              "      <td>2017-04-19 16:00:00</td>\n",
              "      <td>10</td>\n",
              "    </tr>\n",
              "    <tr>\n",
              "      <th>92377</th>\n",
              "      <td>air_3cad29d1a23209d2</td>\n",
              "      <td>2017-05-31 21:00:00</td>\n",
              "      <td>2017-04-22 10:00:00</td>\n",
              "      <td>3</td>\n",
              "    </tr>\n",
              "  </tbody>\n",
              "</table>\n",
              "</div>"
            ],
            "text/plain": [
              "               air_store_id  ... reserve_visitors\n",
              "92373  air_db4b38ebe7a7ceff  ...                6\n",
              "92374  air_1033310359ceeac1  ...                8\n",
              "92375  air_877f79706adbfb06  ...                3\n",
              "92376  air_900d755ebd2f7bbd  ...               10\n",
              "92377  air_3cad29d1a23209d2  ...                3\n",
              "\n",
              "[5 rows x 4 columns]"
            ]
          },
          "metadata": {
            "tags": []
          }
        },
        {
          "output_type": "stream",
          "text": [
            "\n",
            "air_store_id: 314\n",
            "visit_datetime: 4975\n",
            "reserve_datetime: 7513\n",
            "reserve_visitors: 71\n",
            "\n"
          ],
          "name": "stdout"
        },
        {
          "output_type": "display_data",
          "data": {
            "text/plain": [
              "air_store_id        0\n",
              "visit_datetime      0\n",
              "reserve_datetime    0\n",
              "reserve_visitors    0\n",
              "dtype: int64"
            ]
          },
          "metadata": {
            "tags": []
          }
        },
        {
          "output_type": "stream",
          "text": [
            "\n"
          ],
          "name": "stdout"
        }
      ]
    },
    {
      "cell_type": "code",
      "metadata": {
        "colab": {
          "base_uri": "https://localhost:8080/"
        },
        "id": "ZT43MJcKTHGE",
        "outputId": "9024d141-c76f-4eaf-90e6-4ae61900ee65"
      },
      "source": [
        "air_reserve['visit_datetime'].agg(['min', 'max'])"
      ],
      "execution_count": null,
      "outputs": [
        {
          "output_type": "execute_result",
          "data": {
            "text/plain": [
              "min    2016-01-01 19:00:00\n",
              "max    2017-05-31 21:00:00\n",
              "Name: visit_datetime, dtype: object"
            ]
          },
          "metadata": {
            "tags": []
          },
          "execution_count": 53
        }
      ]
    },
    {
      "cell_type": "code",
      "metadata": {
        "colab": {
          "base_uri": "https://localhost:8080/"
        },
        "id": "VXHS7kbLT1sw",
        "outputId": "c12dd1cc-2b32-4a13-c4ba-39943420a4cd"
      },
      "source": [
        "air_reserve['reserve_datetime'].agg(['min', 'max'])"
      ],
      "execution_count": null,
      "outputs": [
        {
          "output_type": "execute_result",
          "data": {
            "text/plain": [
              "min    2016-01-01 01:00:00\n",
              "max    2017-04-22 23:00:00\n",
              "Name: reserve_datetime, dtype: object"
            ]
          },
          "metadata": {
            "tags": []
          },
          "execution_count": 54
        }
      ]
    },
    {
      "cell_type": "code",
      "metadata": {
        "id": "9RAL6Qt65pCp"
      },
      "source": [
        "air_reserve['visit_datetime'] = pd.to_datetime(air_reserve['visit_datetime'])\n",
        "air_reserve['visit_date'] = air_reserve['visit_datetime'].dt.date"
      ],
      "execution_count": null,
      "outputs": []
    },
    {
      "cell_type": "code",
      "metadata": {
        "colab": {
          "base_uri": "https://localhost:8080/",
          "height": 354
        },
        "id": "9QufTWPO0opD",
        "outputId": "a47ead3d-63d3-4927-886b-80df27d827cf"
      },
      "source": [
        "# 날짜별 예약인원 합계\n",
        "air_reserve_sum = air_reserve.groupby('visit_date')['reserve_visitors'].sum()\n",
        "plt.figure(figsize=(15,5))\n",
        "sns.lineplot(x=air_reserve_sum.index, y=air_reserve_sum.values)\n",
        "plt.title('Sum of reserve visitors by date (air)')\n",
        "plt.show()"
      ],
      "execution_count": null,
      "outputs": [
        {
          "output_type": "display_data",
          "data": {
            "image/png": "[encoded data removed]",
            "text/plain": [
              "<Figure size 1080x360 with 1 Axes>"
            ]
          },
          "metadata": {
            "tags": []
          }
        }
      ]
    },
    {
      "cell_type": "code",
      "metadata": {
        "colab": {
          "base_uri": "https://localhost:8080/",
          "height": 204
        },
        "id": "O2tRWaYlsSQf",
        "outputId": "4effff9c-c84b-46ea-cc80-ff28ab6a7028"
      },
      "source": [
        "# 각 매장의 날짜별 예약인원 합계(병합용)\n",
        "air_id_reserve = air_reserve.groupby(['air_store_id', 'visit_date'])['reserve_visitors'].sum().reset_index()\n",
        "air_id_reserve.tail()"
      ],
      "execution_count": null,
      "outputs": [
        {
          "output_type": "execute_result",
          "data": {
            "text/html": [
              "<div>\n",
              "<style scoped>\n",
              "    .dataframe tbody tr th:only-of-type {\n",
              "        vertical-align: middle;\n",
              "    }\n",
              "\n",
              "    .dataframe tbody tr th {\n",
              "        vertical-align: top;\n",
              "    }\n",
              "\n",
              "    .dataframe thead th {\n",
              "        text-align: right;\n",
              "    }\n",
              "</style>\n",
              "<table border=\"1\" class=\"dataframe\">\n",
              "  <thead>\n",
              "    <tr style=\"text-align: right;\">\n",
              "      <th></th>\n",
              "      <th>air_store_id</th>\n",
              "      <th>visit_date</th>\n",
              "      <th>reserve_visitors</th>\n",
              "    </tr>\n",
              "  </thead>\n",
              "  <tbody>\n",
              "    <tr>\n",
              "      <th>29825</th>\n",
              "      <td>air_fea5dc9594450608</td>\n",
              "      <td>2017-04-22</td>\n",
              "      <td>2</td>\n",
              "    </tr>\n",
              "    <tr>\n",
              "      <th>29826</th>\n",
              "      <td>air_fea5dc9594450608</td>\n",
              "      <td>2017-04-25</td>\n",
              "      <td>2</td>\n",
              "    </tr>\n",
              "    <tr>\n",
              "      <th>29827</th>\n",
              "      <td>air_fea5dc9594450608</td>\n",
              "      <td>2017-04-28</td>\n",
              "      <td>3</td>\n",
              "    </tr>\n",
              "    <tr>\n",
              "      <th>29828</th>\n",
              "      <td>air_fea5dc9594450608</td>\n",
              "      <td>2017-05-20</td>\n",
              "      <td>6</td>\n",
              "    </tr>\n",
              "    <tr>\n",
              "      <th>29829</th>\n",
              "      <td>air_fee8dcf4d619598e</td>\n",
              "      <td>2017-01-09</td>\n",
              "      <td>5</td>\n",
              "    </tr>\n",
              "  </tbody>\n",
              "</table>\n",
              "</div>"
            ],
            "text/plain": [
              "               air_store_id  visit_date  reserve_visitors\n",
              "29825  air_fea5dc9594450608  2017-04-22                 2\n",
              "29826  air_fea5dc9594450608  2017-04-25                 2\n",
              "29827  air_fea5dc9594450608  2017-04-28                 3\n",
              "29828  air_fea5dc9594450608  2017-05-20                 6\n",
              "29829  air_fee8dcf4d619598e  2017-01-09                 5"
            ]
          },
          "metadata": {
            "tags": []
          },
          "execution_count": 57
        }
      ]
    },
    {
      "cell_type": "markdown",
      "metadata": {
        "id": "7TebYxbSjvQx"
      },
      "source": [
        "## air_store"
      ]
    },
    {
      "cell_type": "code",
      "metadata": {
        "colab": {
          "base_uri": "https://localhost:8080/",
          "height": 442
        },
        "id": "zIAwhxALP9n3",
        "outputId": "c31ff0e2-f623-4e2e-d9df-acaee525f90f"
      },
      "source": [
        "data_look(air_store)"
      ],
      "execution_count": null,
      "outputs": [
        {
          "output_type": "display_data",
          "data": {
            "text/html": [
              "<div>\n",
              "<style scoped>\n",
              "    .dataframe tbody tr th:only-of-type {\n",
              "        vertical-align: middle;\n",
              "    }\n",
              "\n",
              "    .dataframe tbody tr th {\n",
              "        vertical-align: top;\n",
              "    }\n",
              "\n",
              "    .dataframe thead th {\n",
              "        text-align: right;\n",
              "    }\n",
              "</style>\n",
              "<table border=\"1\" class=\"dataframe\">\n",
              "  <thead>\n",
              "    <tr style=\"text-align: right;\">\n",
              "      <th></th>\n",
              "      <th>air_store_id</th>\n",
              "      <th>air_genre_name</th>\n",
              "      <th>air_area_name</th>\n",
              "      <th>latitude</th>\n",
              "      <th>longitude</th>\n",
              "    </tr>\n",
              "  </thead>\n",
              "  <tbody>\n",
              "    <tr>\n",
              "      <th>824</th>\n",
              "      <td>air_9bf595ef095572fb</td>\n",
              "      <td>International cuisine</td>\n",
              "      <td>Tōkyō-to Shibuya-ku Shibuya</td>\n",
              "      <td>35.661777</td>\n",
              "      <td>139.704051</td>\n",
              "    </tr>\n",
              "    <tr>\n",
              "      <th>825</th>\n",
              "      <td>air_764f71040a413d4d</td>\n",
              "      <td>Asian</td>\n",
              "      <td>Tōkyō-to Shibuya-ku Shibuya</td>\n",
              "      <td>35.661777</td>\n",
              "      <td>139.704051</td>\n",
              "    </tr>\n",
              "    <tr>\n",
              "      <th>826</th>\n",
              "      <td>air_10bbe8acd943d8f6</td>\n",
              "      <td>Asian</td>\n",
              "      <td>Tōkyō-to Shibuya-ku Shibuya</td>\n",
              "      <td>35.661777</td>\n",
              "      <td>139.704051</td>\n",
              "    </tr>\n",
              "    <tr>\n",
              "      <th>827</th>\n",
              "      <td>air_7514d90009613cd6</td>\n",
              "      <td>Karaoke/Party</td>\n",
              "      <td>Hokkaidō Sapporo-shi Minami 3 Jōnishi</td>\n",
              "      <td>43.055460</td>\n",
              "      <td>141.340956</td>\n",
              "    </tr>\n",
              "    <tr>\n",
              "      <th>828</th>\n",
              "      <td>air_c8fe396d6c46275d</td>\n",
              "      <td>Karaoke/Party</td>\n",
              "      <td>Hokkaidō Sapporo-shi Minami 3 Jōnishi</td>\n",
              "      <td>43.055460</td>\n",
              "      <td>141.340956</td>\n",
              "    </tr>\n",
              "  </tbody>\n",
              "</table>\n",
              "</div>"
            ],
            "text/plain": [
              "             air_store_id         air_genre_name  ...   latitude   longitude\n",
              "824  air_9bf595ef095572fb  International cuisine  ...  35.661777  139.704051\n",
              "825  air_764f71040a413d4d                  Asian  ...  35.661777  139.704051\n",
              "826  air_10bbe8acd943d8f6                  Asian  ...  35.661777  139.704051\n",
              "827  air_7514d90009613cd6          Karaoke/Party  ...  43.055460  141.340956\n",
              "828  air_c8fe396d6c46275d          Karaoke/Party  ...  43.055460  141.340956\n",
              "\n",
              "[5 rows x 5 columns]"
            ]
          },
          "metadata": {
            "tags": []
          }
        },
        {
          "output_type": "stream",
          "text": [
            "\n",
            "air_store_id: 829\n",
            "air_genre_name: 14\n",
            "air_area_name: 103\n",
            "latitude: 108\n",
            "longitude: 108\n",
            "\n"
          ],
          "name": "stdout"
        },
        {
          "output_type": "display_data",
          "data": {
            "text/plain": [
              "air_store_id      0\n",
              "air_genre_name    0\n",
              "air_area_name     0\n",
              "latitude          0\n",
              "longitude         0\n",
              "dtype: int64"
            ]
          },
          "metadata": {
            "tags": []
          }
        },
        {
          "output_type": "stream",
          "text": [
            "\n"
          ],
          "name": "stdout"
        }
      ]
    },
    {
      "cell_type": "code",
      "metadata": {
        "colab": {
          "base_uri": "https://localhost:8080/",
          "height": 299
        },
        "id": "_2mGvh3VoARi",
        "outputId": "29732369-9f4a-4fc2-9bff-b351902e5bc2"
      },
      "source": [
        "# 위경도 시각화\n",
        "sns.scatterplot(x='longitude', y='latitude', data=air_store)\n",
        "plt.title('Store location (air)')\n",
        "plt.show()"
      ],
      "execution_count": null,
      "outputs": [
        {
          "output_type": "display_data",
          "data": {
            "image/png": "[encoded data removed]",
            "text/plain": [
              "<Figure size 432x288 with 1 Axes>"
            ]
          },
          "metadata": {
            "tags": []
          }
        }
      ]
    },
    {
      "cell_type": "code",
      "metadata": {
        "colab": {
          "base_uri": "https://localhost:8080/"
        },
        "id": "7M33vK16PsiO",
        "outputId": "fcc08a65-ae02-49fd-e501-53980c8a03b5"
      },
      "source": [
        "# 장르별 매장 수\n",
        "air_store['air_genre_name'].value_counts()"
      ],
      "execution_count": null,
      "outputs": [
        {
          "output_type": "execute_result",
          "data": {
            "text/plain": [
              "Izakaya                         197\n",
              "Cafe/Sweets                     181\n",
              "Dining bar                      108\n",
              "Italian/French                  102\n",
              "Bar/Cocktail                     79\n",
              "Japanese food                    63\n",
              "Other                            27\n",
              "Yakiniku/Korean food             23\n",
              "Western food                     16\n",
              "Okonomiyaki/Monja/Teppanyaki     14\n",
              "Creative cuisine                 13\n",
              "Asian                             2\n",
              "International cuisine             2\n",
              "Karaoke/Party                     2\n",
              "Name: air_genre_name, dtype: int64"
            ]
          },
          "metadata": {
            "tags": []
          },
          "execution_count": 60
        }
      ]
    },
    {
      "cell_type": "code",
      "metadata": {
        "colab": {
          "base_uri": "https://localhost:8080/"
        },
        "id": "2-OCQ0EGkGCR",
        "outputId": "7ad85042-d25e-491c-8b86-3552860e7b85"
      },
      "source": [
        "# 지역별 매장 수\n",
        "air_store['air_area'] = air_store['air_area_name'].map(lambda x: x.split()[0])\n",
        "air_store['air_area'].value_counts()"
      ],
      "execution_count": null,
      "outputs": [
        {
          "output_type": "execute_result",
          "data": {
            "text/plain": [
              "Tōkyō-to         444\n",
              "Fukuoka-ken      127\n",
              "Ōsaka-fu          74\n",
              "Hyōgo-ken         57\n",
              "Hokkaidō          46\n",
              "Hiroshima-ken     32\n",
              "Shizuoka-ken      18\n",
              "Miyagi-ken        17\n",
              "Niigata-ken       14\n",
              "Name: air_area, dtype: int64"
            ]
          },
          "metadata": {
            "tags": []
          },
          "execution_count": 61
        }
      ]
    },
    {
      "cell_type": "code",
      "metadata": {
        "colab": {
          "base_uri": "https://localhost:8080/",
          "height": 388
        },
        "id": "2294A2CYsJPl",
        "outputId": "f25d5206-8fb5-4f3d-b4f2-5abeaa372785"
      },
      "source": [
        "plt.figure(figsize=(8,5))\n",
        "sns.countplot(air_store['air_area'])\n",
        "plt.xticks(rotation=30)\n",
        "plt.title('The number of stores by region (air)')\n",
        "plt.show()"
      ],
      "execution_count": null,
      "outputs": [
        {
          "output_type": "display_data",
          "data": {
            "image/png": "[encoded data removed]",
            "text/plain": [
              "<Figure size 576x360 with 1 Axes>"
            ]
          },
          "metadata": {
            "tags": []
          }
        }
      ]
    },
    {
      "cell_type": "markdown",
      "metadata": {
        "id": "gNVxSPhseyUG"
      },
      "source": [
        "## hpg_reserve"
      ]
    },
    {
      "cell_type": "code",
      "metadata": {
        "colab": {
          "base_uri": "https://localhost:8080/",
          "height": 408
        },
        "id": "-4odKDTuP14f",
        "outputId": "5f89c452-840b-42f8-ec5b-b296253cc84c"
      },
      "source": [
        "data_look(hpg_reserve)"
      ],
      "execution_count": null,
      "outputs": [
        {
          "output_type": "display_data",
          "data": {
            "text/html": [
              "<div>\n",
              "<style scoped>\n",
              "    .dataframe tbody tr th:only-of-type {\n",
              "        vertical-align: middle;\n",
              "    }\n",
              "\n",
              "    .dataframe tbody tr th {\n",
              "        vertical-align: top;\n",
              "    }\n",
              "\n",
              "    .dataframe thead th {\n",
              "        text-align: right;\n",
              "    }\n",
              "</style>\n",
              "<table border=\"1\" class=\"dataframe\">\n",
              "  <thead>\n",
              "    <tr style=\"text-align: right;\">\n",
              "      <th></th>\n",
              "      <th>hpg_store_id</th>\n",
              "      <th>visit_datetime</th>\n",
              "      <th>reserve_datetime</th>\n",
              "      <th>reserve_visitors</th>\n",
              "    </tr>\n",
              "  </thead>\n",
              "  <tbody>\n",
              "    <tr>\n",
              "      <th>2000315</th>\n",
              "      <td>hpg_2b293477ea4642fb</td>\n",
              "      <td>2017-05-31 20:00:00</td>\n",
              "      <td>2017-04-19 07:00:00</td>\n",
              "      <td>2</td>\n",
              "    </tr>\n",
              "    <tr>\n",
              "      <th>2000316</th>\n",
              "      <td>hpg_f922aeca48ca5a29</td>\n",
              "      <td>2017-05-31 20:00:00</td>\n",
              "      <td>2017-03-19 00:00:00</td>\n",
              "      <td>3</td>\n",
              "    </tr>\n",
              "    <tr>\n",
              "      <th>2000317</th>\n",
              "      <td>hpg_e9151de687b93aa3</td>\n",
              "      <td>2017-05-31 21:00:00</td>\n",
              "      <td>2017-04-14 20:00:00</td>\n",
              "      <td>49</td>\n",
              "    </tr>\n",
              "    <tr>\n",
              "      <th>2000318</th>\n",
              "      <td>hpg_fae6c96189b4a122</td>\n",
              "      <td>2017-05-31 21:00:00</td>\n",
              "      <td>2017-04-19 17:00:00</td>\n",
              "      <td>9</td>\n",
              "    </tr>\n",
              "    <tr>\n",
              "      <th>2000319</th>\n",
              "      <td>hpg_0b70de808b55ad1e</td>\n",
              "      <td>2017-05-31 23:00:00</td>\n",
              "      <td>2017-04-21 13:00:00</td>\n",
              "      <td>6</td>\n",
              "    </tr>\n",
              "  </tbody>\n",
              "</table>\n",
              "</div>"
            ],
            "text/plain": [
              "                 hpg_store_id  ... reserve_visitors\n",
              "2000315  hpg_2b293477ea4642fb  ...                2\n",
              "2000316  hpg_f922aeca48ca5a29  ...                3\n",
              "2000317  hpg_e9151de687b93aa3  ...               49\n",
              "2000318  hpg_fae6c96189b4a122  ...                9\n",
              "2000319  hpg_0b70de808b55ad1e  ...                6\n",
              "\n",
              "[5 rows x 4 columns]"
            ]
          },
          "metadata": {
            "tags": []
          }
        },
        {
          "output_type": "stream",
          "text": [
            "\n",
            "hpg_store_id: 13325\n",
            "visit_datetime: 9847\n",
            "reserve_datetime: 11450\n",
            "reserve_visitors: 99\n",
            "\n"
          ],
          "name": "stdout"
        },
        {
          "output_type": "display_data",
          "data": {
            "text/plain": [
              "hpg_store_id        0\n",
              "visit_datetime      0\n",
              "reserve_datetime    0\n",
              "reserve_visitors    0\n",
              "dtype: int64"
            ]
          },
          "metadata": {
            "tags": []
          }
        },
        {
          "output_type": "stream",
          "text": [
            "\n"
          ],
          "name": "stdout"
        }
      ]
    },
    {
      "cell_type": "code",
      "metadata": {
        "colab": {
          "base_uri": "https://localhost:8080/"
        },
        "id": "10LK_lGgYt-W",
        "outputId": "16281c15-ba17-437a-d89a-dfc9ec49e17d"
      },
      "source": [
        "hpg_reserve['visit_datetime'].agg(['min', 'max'])"
      ],
      "execution_count": null,
      "outputs": [
        {
          "output_type": "execute_result",
          "data": {
            "text/plain": [
              "min    2016-01-01 11:00:00\n",
              "max    2017-05-31 23:00:00\n",
              "Name: visit_datetime, dtype: object"
            ]
          },
          "metadata": {
            "tags": []
          },
          "execution_count": 63
        }
      ]
    },
    {
      "cell_type": "code",
      "metadata": {
        "colab": {
          "base_uri": "https://localhost:8080/"
        },
        "id": "G1W8xTY1Yx4g",
        "outputId": "97bc54a3-8050-4ad1-b3cc-cf8867f9f72c"
      },
      "source": [
        "hpg_reserve['reserve_datetime'].agg(['min', 'max'])"
      ],
      "execution_count": null,
      "outputs": [
        {
          "output_type": "execute_result",
          "data": {
            "text/plain": [
              "min    2016-01-01 00:00:00\n",
              "max    2017-04-22 23:00:00\n",
              "Name: reserve_datetime, dtype: object"
            ]
          },
          "metadata": {
            "tags": []
          },
          "execution_count": 64
        }
      ]
    },
    {
      "cell_type": "code",
      "metadata": {
        "id": "TVRSzateioJA"
      },
      "source": [
        "hpg_reserve['visit_datetime'] = pd.to_datetime(hpg_reserve['visit_datetime'])\n",
        "hpg_reserve['visit_date'] = hpg_reserve['visit_datetime'].dt.date"
      ],
      "execution_count": null,
      "outputs": []
    },
    {
      "cell_type": "code",
      "metadata": {
        "colab": {
          "base_uri": "https://localhost:8080/",
          "height": 354
        },
        "id": "2Z1ooMwPjIvG",
        "outputId": "9da20b65-e9c2-4ce4-b7dd-71193e307762"
      },
      "source": [
        "# 날짜별 예약인원 합계\n",
        "hpg_reserve_sum = hpg_reserve.groupby('visit_date')['reserve_visitors'].sum()\n",
        "plt.figure(figsize=(15,5))\n",
        "sns.lineplot(x=hpg_reserve_sum.index, y=hpg_reserve_sum.values)\n",
        "plt.title('Sum of reserve visitors by date (hpg)')\n",
        "plt.show()"
      ],
      "execution_count": null,
      "outputs": [
        {
          "output_type": "display_data",
          "data": {
            "image/png": "[encoded data removed]",
            "text/plain": [
              "<Figure size 1080x360 with 1 Axes>"
            ]
          },
          "metadata": {
            "tags": []
          }
        }
      ]
    },
    {
      "cell_type": "code",
      "metadata": {
        "colab": {
          "base_uri": "https://localhost:8080/",
          "height": 204
        },
        "id": "cybLcZu8jcl3",
        "outputId": "f73d00a1-1f12-43c9-c6a4-3871e09a7f74"
      },
      "source": [
        "# 각 매장의 날짜별 예약인원 합계(병합용)\n",
        "hpg_id_reserve = hpg_reserve.groupby(['hpg_store_id', 'visit_date'])['reserve_visitors'].sum().reset_index()\n",
        "hpg_id_reserve.tail()"
      ],
      "execution_count": null,
      "outputs": [
        {
          "output_type": "execute_result",
          "data": {
            "text/html": [
              "<div>\n",
              "<style scoped>\n",
              "    .dataframe tbody tr th:only-of-type {\n",
              "        vertical-align: middle;\n",
              "    }\n",
              "\n",
              "    .dataframe tbody tr th {\n",
              "        vertical-align: top;\n",
              "    }\n",
              "\n",
              "    .dataframe thead th {\n",
              "        text-align: right;\n",
              "    }\n",
              "</style>\n",
              "<table border=\"1\" class=\"dataframe\">\n",
              "  <thead>\n",
              "    <tr style=\"text-align: right;\">\n",
              "      <th></th>\n",
              "      <th>hpg_store_id</th>\n",
              "      <th>visit_date</th>\n",
              "      <th>reserve_visitors</th>\n",
              "    </tr>\n",
              "  </thead>\n",
              "  <tbody>\n",
              "    <tr>\n",
              "      <th>1355048</th>\n",
              "      <td>hpg_fffc097dce87af3e</td>\n",
              "      <td>2017-03-10</td>\n",
              "      <td>2</td>\n",
              "    </tr>\n",
              "    <tr>\n",
              "      <th>1355049</th>\n",
              "      <td>hpg_fffc097dce87af3e</td>\n",
              "      <td>2017-03-17</td>\n",
              "      <td>2</td>\n",
              "    </tr>\n",
              "    <tr>\n",
              "      <th>1355050</th>\n",
              "      <td>hpg_fffc097dce87af3e</td>\n",
              "      <td>2017-03-27</td>\n",
              "      <td>5</td>\n",
              "    </tr>\n",
              "    <tr>\n",
              "      <th>1355051</th>\n",
              "      <td>hpg_fffc097dce87af3e</td>\n",
              "      <td>2017-04-21</td>\n",
              "      <td>3</td>\n",
              "    </tr>\n",
              "    <tr>\n",
              "      <th>1355052</th>\n",
              "      <td>hpg_fffc097dce87af3e</td>\n",
              "      <td>2017-04-23</td>\n",
              "      <td>8</td>\n",
              "    </tr>\n",
              "  </tbody>\n",
              "</table>\n",
              "</div>"
            ],
            "text/plain": [
              "                 hpg_store_id  visit_date  reserve_visitors\n",
              "1355048  hpg_fffc097dce87af3e  2017-03-10                 2\n",
              "1355049  hpg_fffc097dce87af3e  2017-03-17                 2\n",
              "1355050  hpg_fffc097dce87af3e  2017-03-27                 5\n",
              "1355051  hpg_fffc097dce87af3e  2017-04-21                 3\n",
              "1355052  hpg_fffc097dce87af3e  2017-04-23                 8"
            ]
          },
          "metadata": {
            "tags": []
          },
          "execution_count": 67
        }
      ]
    },
    {
      "cell_type": "markdown",
      "metadata": {
        "id": "bvLLZd93j0WB"
      },
      "source": [
        "## hpg_store"
      ]
    },
    {
      "cell_type": "code",
      "metadata": {
        "colab": {
          "base_uri": "https://localhost:8080/",
          "height": 442
        },
        "id": "LsWyN6YpP9f_",
        "outputId": "bee0719e-714b-46f7-a9a9-7293b86b549f"
      },
      "source": [
        "data_look(hpg_store)"
      ],
      "execution_count": null,
      "outputs": [
        {
          "output_type": "display_data",
          "data": {
            "text/html": [
              "<div>\n",
              "<style scoped>\n",
              "    .dataframe tbody tr th:only-of-type {\n",
              "        vertical-align: middle;\n",
              "    }\n",
              "\n",
              "    .dataframe tbody tr th {\n",
              "        vertical-align: top;\n",
              "    }\n",
              "\n",
              "    .dataframe thead th {\n",
              "        text-align: right;\n",
              "    }\n",
              "</style>\n",
              "<table border=\"1\" class=\"dataframe\">\n",
              "  <thead>\n",
              "    <tr style=\"text-align: right;\">\n",
              "      <th></th>\n",
              "      <th>hpg_store_id</th>\n",
              "      <th>hpg_genre_name</th>\n",
              "      <th>hpg_area_name</th>\n",
              "      <th>latitude</th>\n",
              "      <th>longitude</th>\n",
              "    </tr>\n",
              "  </thead>\n",
              "  <tbody>\n",
              "    <tr>\n",
              "      <th>4685</th>\n",
              "      <td>hpg_c6ed353a48c7c93e</td>\n",
              "      <td>Sichuan food</td>\n",
              "      <td>Tōkyō-to Chiyoda-ku None</td>\n",
              "      <td>35.695780</td>\n",
              "      <td>139.768453</td>\n",
              "    </tr>\n",
              "    <tr>\n",
              "      <th>4686</th>\n",
              "      <td>hpg_a58d2423360b2fb4</td>\n",
              "      <td>Sichuan food</td>\n",
              "      <td>Tōkyō-to Minato-ku Roppongi</td>\n",
              "      <td>35.666137</td>\n",
              "      <td>139.733978</td>\n",
              "    </tr>\n",
              "    <tr>\n",
              "      <th>4687</th>\n",
              "      <td>hpg_d2021704076cdd70</td>\n",
              "      <td>Shanghai food</td>\n",
              "      <td>Tōkyō-to Chiyoda-ku None</td>\n",
              "      <td>35.695780</td>\n",
              "      <td>139.768453</td>\n",
              "    </tr>\n",
              "    <tr>\n",
              "      <th>4688</th>\n",
              "      <td>hpg_602472570d65e219</td>\n",
              "      <td>Spain/Mediterranean cuisine</td>\n",
              "      <td>Tōkyō-to Toshima-ku None</td>\n",
              "      <td>35.730068</td>\n",
              "      <td>139.711742</td>\n",
              "    </tr>\n",
              "    <tr>\n",
              "      <th>4689</th>\n",
              "      <td>hpg_11801306ce8bfb4f</td>\n",
              "      <td>Udon/Soba</td>\n",
              "      <td>Osaka Prefecture Osaka None</td>\n",
              "      <td>34.701519</td>\n",
              "      <td>135.498859</td>\n",
              "    </tr>\n",
              "  </tbody>\n",
              "</table>\n",
              "</div>"
            ],
            "text/plain": [
              "              hpg_store_id               hpg_genre_name  ...   latitude   longitude\n",
              "4685  hpg_c6ed353a48c7c93e                 Sichuan food  ...  35.695780  139.768453\n",
              "4686  hpg_a58d2423360b2fb4                 Sichuan food  ...  35.666137  139.733978\n",
              "4687  hpg_d2021704076cdd70                Shanghai food  ...  35.695780  139.768453\n",
              "4688  hpg_602472570d65e219  Spain/Mediterranean cuisine  ...  35.730068  139.711742\n",
              "4689  hpg_11801306ce8bfb4f                    Udon/Soba  ...  34.701519  135.498859\n",
              "\n",
              "[5 rows x 5 columns]"
            ]
          },
          "metadata": {
            "tags": []
          }
        },
        {
          "output_type": "stream",
          "text": [
            "\n",
            "hpg_store_id: 4690\n",
            "hpg_genre_name: 34\n",
            "hpg_area_name: 119\n",
            "latitude: 129\n",
            "longitude: 129\n",
            "\n"
          ],
          "name": "stdout"
        },
        {
          "output_type": "display_data",
          "data": {
            "text/plain": [
              "hpg_store_id      0\n",
              "hpg_genre_name    0\n",
              "hpg_area_name     0\n",
              "latitude          0\n",
              "longitude         0\n",
              "dtype: int64"
            ]
          },
          "metadata": {
            "tags": []
          }
        },
        {
          "output_type": "stream",
          "text": [
            "\n"
          ],
          "name": "stdout"
        }
      ]
    },
    {
      "cell_type": "code",
      "metadata": {
        "colab": {
          "base_uri": "https://localhost:8080/",
          "height": 299
        },
        "id": "AuQ9XWwil6i0",
        "outputId": "11fb077c-a6dc-4c84-fcd0-cca77ce8dd1e"
      },
      "source": [
        "# 위경도 시각화\n",
        "sns.scatterplot(x='longitude', y='latitude', data=hpg_store)\n",
        "plt.title('Store location (hpg)')\n",
        "plt.show()"
      ],
      "execution_count": null,
      "outputs": [
        {
          "output_type": "display_data",
          "data": {
            "image/png": "[encoded data removed]",
            "text/plain": [
              "<Figure size 432x288 with 1 Axes>"
            ]
          },
          "metadata": {
            "tags": []
          }
        }
      ]
    },
    {
      "cell_type": "code",
      "metadata": {
        "colab": {
          "base_uri": "https://localhost:8080/"
        },
        "id": "NpV6s48oj-Cg",
        "outputId": "f0716032-34e3-458d-cf9a-209c80f11995"
      },
      "source": [
        "# 장르별 매장 수\n",
        "hpg_store['hpg_genre_name'].value_counts()"
      ],
      "execution_count": null,
      "outputs": [
        {
          "output_type": "execute_result",
          "data": {
            "text/plain": [
              "Japanese style                  1750\n",
              "International cuisine            700\n",
              "Creation                         410\n",
              "Seafood                          339\n",
              "Grilled meat                     325\n",
              "Italian                          249\n",
              "Spain Bar/Italian Bar            229\n",
              "Chinese general                   91\n",
              "Japanese food in general          85\n",
              "Japanese cuisine/Kaiseki          64\n",
              "Creative Japanese food            60\n",
              "Karaoke                           60\n",
              "Shabu-shabu/Sukiyaki              59\n",
              "Okonomiyaki/Monja/Teppanyaki      44\n",
              "Party                             40\n",
              "Korean cuisine                    38\n",
              "French                            27\n",
              "Steak/Hamburger/Curry             24\n",
              "Bistro                            22\n",
              "Cafe                              16\n",
              "Sushi                             11\n",
              "Pasta/Pizza                       10\n",
              "Bar/Cocktail                       7\n",
              "Thai/Vietnamese food               5\n",
              "Amusement bar                      5\n",
              "Western food                       5\n",
              "Cantonese food                     4\n",
              "Sichuan food                       3\n",
              "Sweets                             2\n",
              "Dim Sum/Dumplings                  2\n",
              "Taiwanese/Hong Kong cuisine        1\n",
              "Shanghai food                      1\n",
              "Spain/Mediterranean cuisine        1\n",
              "Udon/Soba                          1\n",
              "Name: hpg_genre_name, dtype: int64"
            ]
          },
          "metadata": {
            "tags": []
          },
          "execution_count": 70
        }
      ]
    },
    {
      "cell_type": "code",
      "metadata": {
        "colab": {
          "base_uri": "https://localhost:8080/"
        },
        "id": "FBwZ4xP9kAd9",
        "outputId": "2483044f-8b91-4d2b-c12b-48e478ec0645"
      },
      "source": [
        "# 지역별 매장 수\n",
        "hpg_store['hpg_area'] = hpg_store['hpg_area_name'].map(lambda x: x.split()[0])\n",
        "hpg_store['hpg_area'].value_counts()"
      ],
      "execution_count": null,
      "outputs": [
        {
          "output_type": "execute_result",
          "data": {
            "text/plain": [
              "Tōkyō-to         2076\n",
              "Ōsaka-fu          514\n",
              "Fukuoka-ken       380\n",
              "Hyōgo-ken         331\n",
              "Hokkaidō          298\n",
              "Hiroshima-ken     245\n",
              "Shizuoka-ken      231\n",
              "Osaka             145\n",
              "Niigata-ken       142\n",
              "Miyagi-ken        139\n",
              "None              117\n",
              "Kanagawa-ken       61\n",
              "Saitama-ken        11\n",
              "Name: hpg_area, dtype: int64"
            ]
          },
          "metadata": {
            "tags": []
          },
          "execution_count": 71
        }
      ]
    },
    {
      "cell_type": "code",
      "metadata": {
        "colab": {
          "base_uri": "https://localhost:8080/",
          "height": 389
        },
        "id": "u_vthup7r-mf",
        "outputId": "029b2fc1-9e38-490d-b1fa-112d9792894b"
      },
      "source": [
        "plt.figure(figsize=(10,5))\n",
        "sns.countplot(hpg_store['hpg_area'])\n",
        "plt.xticks(rotation=30)\n",
        "plt.title('The number of stores by region (hpg)')\n",
        "plt.show()"
      ],
      "execution_count": null,
      "outputs": [
        {
          "output_type": "display_data",
          "data": {
            "image/png": "[encoded data removed]",
            "text/plain": [
              "<Figure size 720x360 with 1 Axes>"
            ]
          },
          "metadata": {
            "tags": []
          }
        }
      ]
    },
    {
      "cell_type": "markdown",
      "metadata": {
        "id": "mzwQQvkogZD3"
      },
      "source": [
        "## store_id_relation"
      ]
    },
    {
      "cell_type": "code",
      "metadata": {
        "colab": {
          "base_uri": "https://localhost:8080/",
          "height": 340
        },
        "id": "BXnw4XS8P9ZK",
        "outputId": "e5f27d88-85e0-4c05-9503-d72802e4bd1c"
      },
      "source": [
        "data_look(store_id)"
      ],
      "execution_count": null,
      "outputs": [
        {
          "output_type": "display_data",
          "data": {
            "text/html": [
              "<div>\n",
              "<style scoped>\n",
              "    .dataframe tbody tr th:only-of-type {\n",
              "        vertical-align: middle;\n",
              "    }\n",
              "\n",
              "    .dataframe tbody tr th {\n",
              "        vertical-align: top;\n",
              "    }\n",
              "\n",
              "    .dataframe thead th {\n",
              "        text-align: right;\n",
              "    }\n",
              "</style>\n",
              "<table border=\"1\" class=\"dataframe\">\n",
              "  <thead>\n",
              "    <tr style=\"text-align: right;\">\n",
              "      <th></th>\n",
              "      <th>air_store_id</th>\n",
              "      <th>hpg_store_id</th>\n",
              "    </tr>\n",
              "  </thead>\n",
              "  <tbody>\n",
              "    <tr>\n",
              "      <th>145</th>\n",
              "      <td>air_b8925441167c3152</td>\n",
              "      <td>hpg_0cc0abae3a8b52de</td>\n",
              "    </tr>\n",
              "    <tr>\n",
              "      <th>146</th>\n",
              "      <td>air_f8233ad00755c35c</td>\n",
              "      <td>hpg_098e4dd30e54fee6</td>\n",
              "    </tr>\n",
              "    <tr>\n",
              "      <th>147</th>\n",
              "      <td>air_6607fe3671242ce3</td>\n",
              "      <td>hpg_1004356dc8ab69ec</td>\n",
              "    </tr>\n",
              "    <tr>\n",
              "      <th>148</th>\n",
              "      <td>air_ccd19a5bc5573ae5</td>\n",
              "      <td>hpg_df22bf146d2c7e19</td>\n",
              "    </tr>\n",
              "    <tr>\n",
              "      <th>149</th>\n",
              "      <td>air_465bddfed3353b23</td>\n",
              "      <td>hpg_23c5945dc1a72454</td>\n",
              "    </tr>\n",
              "  </tbody>\n",
              "</table>\n",
              "</div>"
            ],
            "text/plain": [
              "             air_store_id          hpg_store_id\n",
              "145  air_b8925441167c3152  hpg_0cc0abae3a8b52de\n",
              "146  air_f8233ad00755c35c  hpg_098e4dd30e54fee6\n",
              "147  air_6607fe3671242ce3  hpg_1004356dc8ab69ec\n",
              "148  air_ccd19a5bc5573ae5  hpg_df22bf146d2c7e19\n",
              "149  air_465bddfed3353b23  hpg_23c5945dc1a72454"
            ]
          },
          "metadata": {
            "tags": []
          }
        },
        {
          "output_type": "stream",
          "text": [
            "\n",
            "air_store_id: 150\n",
            "hpg_store_id: 150\n",
            "\n"
          ],
          "name": "stdout"
        },
        {
          "output_type": "display_data",
          "data": {
            "text/plain": [
              "air_store_id    0\n",
              "hpg_store_id    0\n",
              "dtype: int64"
            ]
          },
          "metadata": {
            "tags": []
          }
        },
        {
          "output_type": "stream",
          "text": [
            "\n"
          ],
          "name": "stdout"
        }
      ]
    },
    {
      "cell_type": "code",
      "metadata": {
        "colab": {
          "base_uri": "https://localhost:8080/"
        },
        "id": "t9iQnOGYmGUC",
        "outputId": "4eb39707-a95a-4785-9afe-ed45f1a2aee8"
      },
      "source": [
        "store_id['air_store_id'].isin(air_store['air_store_id']).value_counts()"
      ],
      "execution_count": null,
      "outputs": [
        {
          "output_type": "execute_result",
          "data": {
            "text/plain": [
              "True    150\n",
              "Name: air_store_id, dtype: int64"
            ]
          },
          "metadata": {
            "tags": []
          },
          "execution_count": 77
        }
      ]
    },
    {
      "cell_type": "code",
      "metadata": {
        "colab": {
          "base_uri": "https://localhost:8080/"
        },
        "id": "fwZeIzcUkV0W",
        "outputId": "8fa4f1ff-e2b3-414d-82b2-10d797e4c890"
      },
      "source": [
        "store_id['hpg_store_id'].isin(hpg_store['hpg_store_id']).value_counts()"
      ],
      "execution_count": null,
      "outputs": [
        {
          "output_type": "execute_result",
          "data": {
            "text/plain": [
              "False    87\n",
              "True     63\n",
              "Name: hpg_store_id, dtype: int64"
            ]
          },
          "metadata": {
            "tags": []
          },
          "execution_count": 78
        }
      ]
    },
    {
      "cell_type": "code",
      "metadata": {
        "colab": {
          "base_uri": "https://localhost:8080/",
          "height": 80
        },
        "id": "DQNj7JdwtRnf",
        "outputId": "1d2fffe6-92e4-4f9a-e470-82fc952b39c4"
      },
      "source": [
        "air_store[air_store['air_store_id'] == store_id.loc[1]['air_store_id']]"
      ],
      "execution_count": null,
      "outputs": [
        {
          "output_type": "execute_result",
          "data": {
            "text/html": [
              "<div>\n",
              "<style scoped>\n",
              "    .dataframe tbody tr th:only-of-type {\n",
              "        vertical-align: middle;\n",
              "    }\n",
              "\n",
              "    .dataframe tbody tr th {\n",
              "        vertical-align: top;\n",
              "    }\n",
              "\n",
              "    .dataframe thead th {\n",
              "        text-align: right;\n",
              "    }\n",
              "</style>\n",
              "<table border=\"1\" class=\"dataframe\">\n",
              "  <thead>\n",
              "    <tr style=\"text-align: right;\">\n",
              "      <th></th>\n",
              "      <th>air_store_id</th>\n",
              "      <th>air_genre_name</th>\n",
              "      <th>air_area_name</th>\n",
              "      <th>latitude</th>\n",
              "      <th>longitude</th>\n",
              "      <th>air_area</th>\n",
              "    </tr>\n",
              "  </thead>\n",
              "  <tbody>\n",
              "    <tr>\n",
              "      <th>172</th>\n",
              "      <td>air_a24bf50c3e90d583</td>\n",
              "      <td>Dining bar</td>\n",
              "      <td>Shizuoka-ken Hamamatsu-shi Motoshirochō</td>\n",
              "      <td>34.710895</td>\n",
              "      <td>137.72594</td>\n",
              "      <td>Shizuoka-ken</td>\n",
              "    </tr>\n",
              "  </tbody>\n",
              "</table>\n",
              "</div>"
            ],
            "text/plain": [
              "             air_store_id air_genre_name  ...  longitude      air_area\n",
              "172  air_a24bf50c3e90d583     Dining bar  ...  137.72594  Shizuoka-ken\n",
              "\n",
              "[1 rows x 6 columns]"
            ]
          },
          "metadata": {
            "tags": []
          },
          "execution_count": 79
        }
      ]
    },
    {
      "cell_type": "code",
      "metadata": {
        "colab": {
          "base_uri": "https://localhost:8080/",
          "height": 80
        },
        "id": "pj-YdtcQtuYq",
        "outputId": "acdbd802-3a1f-4247-8121-613386e6567a"
      },
      "source": [
        "hpg_store[hpg_store['hpg_store_id'] == store_id.loc[1]['hpg_store_id']]"
      ],
      "execution_count": null,
      "outputs": [
        {
          "output_type": "execute_result",
          "data": {
            "text/html": [
              "<div>\n",
              "<style scoped>\n",
              "    .dataframe tbody tr th:only-of-type {\n",
              "        vertical-align: middle;\n",
              "    }\n",
              "\n",
              "    .dataframe tbody tr th {\n",
              "        vertical-align: top;\n",
              "    }\n",
              "\n",
              "    .dataframe thead th {\n",
              "        text-align: right;\n",
              "    }\n",
              "</style>\n",
              "<table border=\"1\" class=\"dataframe\">\n",
              "  <thead>\n",
              "    <tr style=\"text-align: right;\">\n",
              "      <th></th>\n",
              "      <th>hpg_store_id</th>\n",
              "      <th>hpg_genre_name</th>\n",
              "      <th>hpg_area_name</th>\n",
              "      <th>latitude</th>\n",
              "      <th>longitude</th>\n",
              "      <th>hpg_area</th>\n",
              "    </tr>\n",
              "  </thead>\n",
              "  <tbody>\n",
              "    <tr>\n",
              "      <th>1845</th>\n",
              "      <td>hpg_c34b496d0305a809</td>\n",
              "      <td>Italian</td>\n",
              "      <td>Shizuoka-ken Hamamatsu-shi Sukenobuchō</td>\n",
              "      <td>34.721644</td>\n",
              "      <td>137.738944</td>\n",
              "      <td>Shizuoka-ken</td>\n",
              "    </tr>\n",
              "  </tbody>\n",
              "</table>\n",
              "</div>"
            ],
            "text/plain": [
              "              hpg_store_id hpg_genre_name  ...   longitude      hpg_area\n",
              "1845  hpg_c34b496d0305a809        Italian  ...  137.738944  Shizuoka-ken\n",
              "\n",
              "[1 rows x 6 columns]"
            ]
          },
          "metadata": {
            "tags": []
          },
          "execution_count": 80
        }
      ]
    },
    {
      "cell_type": "markdown",
      "metadata": {
        "id": "Ap9_VvCGgJtt"
      },
      "source": [
        "## date_info"
      ]
    },
    {
      "cell_type": "code",
      "metadata": {
        "colab": {
          "base_uri": "https://localhost:8080/",
          "height": 374
        },
        "id": "Wp4lDhKyP9DY",
        "outputId": "61ea7351-dda3-436e-a7c8-3d47d746336a"
      },
      "source": [
        "data_look(date_info)"
      ],
      "execution_count": null,
      "outputs": [
        {
          "output_type": "display_data",
          "data": {
            "text/html": [
              "<div>\n",
              "<style scoped>\n",
              "    .dataframe tbody tr th:only-of-type {\n",
              "        vertical-align: middle;\n",
              "    }\n",
              "\n",
              "    .dataframe tbody tr th {\n",
              "        vertical-align: top;\n",
              "    }\n",
              "\n",
              "    .dataframe thead th {\n",
              "        text-align: right;\n",
              "    }\n",
              "</style>\n",
              "<table border=\"1\" class=\"dataframe\">\n",
              "  <thead>\n",
              "    <tr style=\"text-align: right;\">\n",
              "      <th></th>\n",
              "      <th>calendar_date</th>\n",
              "      <th>day_of_week</th>\n",
              "      <th>holiday_flg</th>\n",
              "    </tr>\n",
              "  </thead>\n",
              "  <tbody>\n",
              "    <tr>\n",
              "      <th>512</th>\n",
              "      <td>2017-05-27</td>\n",
              "      <td>Saturday</td>\n",
              "      <td>0</td>\n",
              "    </tr>\n",
              "    <tr>\n",
              "      <th>513</th>\n",
              "      <td>2017-05-28</td>\n",
              "      <td>Sunday</td>\n",
              "      <td>0</td>\n",
              "    </tr>\n",
              "    <tr>\n",
              "      <th>514</th>\n",
              "      <td>2017-05-29</td>\n",
              "      <td>Monday</td>\n",
              "      <td>0</td>\n",
              "    </tr>\n",
              "    <tr>\n",
              "      <th>515</th>\n",
              "      <td>2017-05-30</td>\n",
              "      <td>Tuesday</td>\n",
              "      <td>0</td>\n",
              "    </tr>\n",
              "    <tr>\n",
              "      <th>516</th>\n",
              "      <td>2017-05-31</td>\n",
              "      <td>Wednesday</td>\n",
              "      <td>0</td>\n",
              "    </tr>\n",
              "  </tbody>\n",
              "</table>\n",
              "</div>"
            ],
            "text/plain": [
              "    calendar_date day_of_week  holiday_flg\n",
              "512    2017-05-27    Saturday            0\n",
              "513    2017-05-28      Sunday            0\n",
              "514    2017-05-29      Monday            0\n",
              "515    2017-05-30     Tuesday            0\n",
              "516    2017-05-31   Wednesday            0"
            ]
          },
          "metadata": {
            "tags": []
          }
        },
        {
          "output_type": "stream",
          "text": [
            "\n",
            "calendar_date: 517\n",
            "day_of_week: 7\n",
            "holiday_flg: 2\n",
            "\n"
          ],
          "name": "stdout"
        },
        {
          "output_type": "display_data",
          "data": {
            "text/plain": [
              "calendar_date    0\n",
              "day_of_week      0\n",
              "holiday_flg      0\n",
              "dtype: int64"
            ]
          },
          "metadata": {
            "tags": []
          }
        },
        {
          "output_type": "stream",
          "text": [
            "\n"
          ],
          "name": "stdout"
        }
      ]
    },
    {
      "cell_type": "code",
      "metadata": {
        "colab": {
          "base_uri": "https://localhost:8080/"
        },
        "id": "RlTVUU61flh-",
        "outputId": "f93b3552-4301-4cfd-abb2-d1ae548abc24"
      },
      "source": [
        "date_info['calendar_date'].agg(['min', 'max'])"
      ],
      "execution_count": null,
      "outputs": [
        {
          "output_type": "execute_result",
          "data": {
            "text/plain": [
              "min    2016-01-01\n",
              "max    2017-05-31\n",
              "Name: calendar_date, dtype: object"
            ]
          },
          "metadata": {
            "tags": []
          },
          "execution_count": 82
        }
      ]
    },
    {
      "cell_type": "code",
      "metadata": {
        "colab": {
          "base_uri": "https://localhost:8080/"
        },
        "id": "OuynjDiV0kIb",
        "outputId": "fda007bd-6fd9-4b25-fab0-e6b5e7f9079c"
      },
      "source": [
        "date_info['holiday_flg'].value_counts()"
      ],
      "execution_count": null,
      "outputs": [
        {
          "output_type": "execute_result",
          "data": {
            "text/plain": [
              "0    482\n",
              "1     35\n",
              "Name: holiday_flg, dtype: int64"
            ]
          },
          "metadata": {
            "tags": []
          },
          "execution_count": 83
        }
      ]
    },
    {
      "cell_type": "code",
      "metadata": {
        "colab": {
          "base_uri": "https://localhost:8080/",
          "height": 1000
        },
        "id": "MZMVqYr909cf",
        "outputId": "c79f7516-f8b3-49fb-b497-3ae237efb8f2"
      },
      "source": [
        "date_info[date_info['holiday_flg'] == 1]"
      ],
      "execution_count": null,
      "outputs": [
        {
          "output_type": "execute_result",
          "data": {
            "text/html": [
              "<div>\n",
              "<style scoped>\n",
              "    .dataframe tbody tr th:only-of-type {\n",
              "        vertical-align: middle;\n",
              "    }\n",
              "\n",
              "    .dataframe tbody tr th {\n",
              "        vertical-align: top;\n",
              "    }\n",
              "\n",
              "    .dataframe thead th {\n",
              "        text-align: right;\n",
              "    }\n",
              "</style>\n",
              "<table border=\"1\" class=\"dataframe\">\n",
              "  <thead>\n",
              "    <tr style=\"text-align: right;\">\n",
              "      <th></th>\n",
              "      <th>calendar_date</th>\n",
              "      <th>day_of_week</th>\n",
              "      <th>holiday_flg</th>\n",
              "    </tr>\n",
              "  </thead>\n",
              "  <tbody>\n",
              "    <tr>\n",
              "      <th>0</th>\n",
              "      <td>2016-01-01</td>\n",
              "      <td>Friday</td>\n",
              "      <td>1</td>\n",
              "    </tr>\n",
              "    <tr>\n",
              "      <th>1</th>\n",
              "      <td>2016-01-02</td>\n",
              "      <td>Saturday</td>\n",
              "      <td>1</td>\n",
              "    </tr>\n",
              "    <tr>\n",
              "      <th>2</th>\n",
              "      <td>2016-01-03</td>\n",
              "      <td>Sunday</td>\n",
              "      <td>1</td>\n",
              "    </tr>\n",
              "    <tr>\n",
              "      <th>10</th>\n",
              "      <td>2016-01-11</td>\n",
              "      <td>Monday</td>\n",
              "      <td>1</td>\n",
              "    </tr>\n",
              "    <tr>\n",
              "      <th>41</th>\n",
              "      <td>2016-02-11</td>\n",
              "      <td>Thursday</td>\n",
              "      <td>1</td>\n",
              "    </tr>\n",
              "    <tr>\n",
              "      <th>79</th>\n",
              "      <td>2016-03-20</td>\n",
              "      <td>Sunday</td>\n",
              "      <td>1</td>\n",
              "    </tr>\n",
              "    <tr>\n",
              "      <th>80</th>\n",
              "      <td>2016-03-21</td>\n",
              "      <td>Monday</td>\n",
              "      <td>1</td>\n",
              "    </tr>\n",
              "    <tr>\n",
              "      <th>119</th>\n",
              "      <td>2016-04-29</td>\n",
              "      <td>Friday</td>\n",
              "      <td>1</td>\n",
              "    </tr>\n",
              "    <tr>\n",
              "      <th>123</th>\n",
              "      <td>2016-05-03</td>\n",
              "      <td>Tuesday</td>\n",
              "      <td>1</td>\n",
              "    </tr>\n",
              "    <tr>\n",
              "      <th>124</th>\n",
              "      <td>2016-05-04</td>\n",
              "      <td>Wednesday</td>\n",
              "      <td>1</td>\n",
              "    </tr>\n",
              "    <tr>\n",
              "      <th>125</th>\n",
              "      <td>2016-05-05</td>\n",
              "      <td>Thursday</td>\n",
              "      <td>1</td>\n",
              "    </tr>\n",
              "    <tr>\n",
              "      <th>199</th>\n",
              "      <td>2016-07-18</td>\n",
              "      <td>Monday</td>\n",
              "      <td>1</td>\n",
              "    </tr>\n",
              "    <tr>\n",
              "      <th>223</th>\n",
              "      <td>2016-08-11</td>\n",
              "      <td>Thursday</td>\n",
              "      <td>1</td>\n",
              "    </tr>\n",
              "    <tr>\n",
              "      <th>225</th>\n",
              "      <td>2016-08-13</td>\n",
              "      <td>Saturday</td>\n",
              "      <td>1</td>\n",
              "    </tr>\n",
              "    <tr>\n",
              "      <th>226</th>\n",
              "      <td>2016-08-14</td>\n",
              "      <td>Sunday</td>\n",
              "      <td>1</td>\n",
              "    </tr>\n",
              "    <tr>\n",
              "      <th>227</th>\n",
              "      <td>2016-08-15</td>\n",
              "      <td>Monday</td>\n",
              "      <td>1</td>\n",
              "    </tr>\n",
              "    <tr>\n",
              "      <th>262</th>\n",
              "      <td>2016-09-19</td>\n",
              "      <td>Monday</td>\n",
              "      <td>1</td>\n",
              "    </tr>\n",
              "    <tr>\n",
              "      <th>265</th>\n",
              "      <td>2016-09-22</td>\n",
              "      <td>Thursday</td>\n",
              "      <td>1</td>\n",
              "    </tr>\n",
              "    <tr>\n",
              "      <th>283</th>\n",
              "      <td>2016-10-10</td>\n",
              "      <td>Monday</td>\n",
              "      <td>1</td>\n",
              "    </tr>\n",
              "    <tr>\n",
              "      <th>307</th>\n",
              "      <td>2016-11-03</td>\n",
              "      <td>Thursday</td>\n",
              "      <td>1</td>\n",
              "    </tr>\n",
              "    <tr>\n",
              "      <th>327</th>\n",
              "      <td>2016-11-23</td>\n",
              "      <td>Wednesday</td>\n",
              "      <td>1</td>\n",
              "    </tr>\n",
              "    <tr>\n",
              "      <th>357</th>\n",
              "      <td>2016-12-23</td>\n",
              "      <td>Friday</td>\n",
              "      <td>1</td>\n",
              "    </tr>\n",
              "    <tr>\n",
              "      <th>363</th>\n",
              "      <td>2016-12-29</td>\n",
              "      <td>Thursday</td>\n",
              "      <td>1</td>\n",
              "    </tr>\n",
              "    <tr>\n",
              "      <th>364</th>\n",
              "      <td>2016-12-30</td>\n",
              "      <td>Friday</td>\n",
              "      <td>1</td>\n",
              "    </tr>\n",
              "    <tr>\n",
              "      <th>365</th>\n",
              "      <td>2016-12-31</td>\n",
              "      <td>Saturday</td>\n",
              "      <td>1</td>\n",
              "    </tr>\n",
              "    <tr>\n",
              "      <th>366</th>\n",
              "      <td>2017-01-01</td>\n",
              "      <td>Sunday</td>\n",
              "      <td>1</td>\n",
              "    </tr>\n",
              "    <tr>\n",
              "      <th>367</th>\n",
              "      <td>2017-01-02</td>\n",
              "      <td>Monday</td>\n",
              "      <td>1</td>\n",
              "    </tr>\n",
              "    <tr>\n",
              "      <th>368</th>\n",
              "      <td>2017-01-03</td>\n",
              "      <td>Tuesday</td>\n",
              "      <td>1</td>\n",
              "    </tr>\n",
              "    <tr>\n",
              "      <th>374</th>\n",
              "      <td>2017-01-09</td>\n",
              "      <td>Monday</td>\n",
              "      <td>1</td>\n",
              "    </tr>\n",
              "    <tr>\n",
              "      <th>407</th>\n",
              "      <td>2017-02-11</td>\n",
              "      <td>Saturday</td>\n",
              "      <td>1</td>\n",
              "    </tr>\n",
              "    <tr>\n",
              "      <th>444</th>\n",
              "      <td>2017-03-20</td>\n",
              "      <td>Monday</td>\n",
              "      <td>1</td>\n",
              "    </tr>\n",
              "    <tr>\n",
              "      <th>484</th>\n",
              "      <td>2017-04-29</td>\n",
              "      <td>Saturday</td>\n",
              "      <td>1</td>\n",
              "    </tr>\n",
              "    <tr>\n",
              "      <th>488</th>\n",
              "      <td>2017-05-03</td>\n",
              "      <td>Wednesday</td>\n",
              "      <td>1</td>\n",
              "    </tr>\n",
              "    <tr>\n",
              "      <th>489</th>\n",
              "      <td>2017-05-04</td>\n",
              "      <td>Thursday</td>\n",
              "      <td>1</td>\n",
              "    </tr>\n",
              "    <tr>\n",
              "      <th>490</th>\n",
              "      <td>2017-05-05</td>\n",
              "      <td>Friday</td>\n",
              "      <td>1</td>\n",
              "    </tr>\n",
              "  </tbody>\n",
              "</table>\n",
              "</div>"
            ],
            "text/plain": [
              "    calendar_date day_of_week  holiday_flg\n",
              "0      2016-01-01      Friday            1\n",
              "1      2016-01-02    Saturday            1\n",
              "2      2016-01-03      Sunday            1\n",
              "10     2016-01-11      Monday            1\n",
              "41     2016-02-11    Thursday            1\n",
              "79     2016-03-20      Sunday            1\n",
              "80     2016-03-21      Monday            1\n",
              "119    2016-04-29      Friday            1\n",
              "123    2016-05-03     Tuesday            1\n",
              "124    2016-05-04   Wednesday            1\n",
              "125    2016-05-05    Thursday            1\n",
              "199    2016-07-18      Monday            1\n",
              "223    2016-08-11    Thursday            1\n",
              "225    2016-08-13    Saturday            1\n",
              "226    2016-08-14      Sunday            1\n",
              "227    2016-08-15      Monday            1\n",
              "262    2016-09-19      Monday            1\n",
              "265    2016-09-22    Thursday            1\n",
              "283    2016-10-10      Monday            1\n",
              "307    2016-11-03    Thursday            1\n",
              "327    2016-11-23   Wednesday            1\n",
              "357    2016-12-23      Friday            1\n",
              "363    2016-12-29    Thursday            1\n",
              "364    2016-12-30      Friday            1\n",
              "365    2016-12-31    Saturday            1\n",
              "366    2017-01-01      Sunday            1\n",
              "367    2017-01-02      Monday            1\n",
              "368    2017-01-03     Tuesday            1\n",
              "374    2017-01-09      Monday            1\n",
              "407    2017-02-11    Saturday            1\n",
              "444    2017-03-20      Monday            1\n",
              "484    2017-04-29    Saturday            1\n",
              "488    2017-05-03   Wednesday            1\n",
              "489    2017-05-04    Thursday            1\n",
              "490    2017-05-05      Friday            1"
            ]
          },
          "metadata": {
            "tags": []
          },
          "execution_count": 84
        }
      ]
    },
    {
      "cell_type": "markdown",
      "metadata": {
        "id": "ydibcNgFcvv5"
      },
      "source": [
        "## submission"
      ]
    },
    {
      "cell_type": "code",
      "metadata": {
        "colab": {
          "base_uri": "https://localhost:8080/",
          "height": 204
        },
        "id": "OCbrRUeyGWBa",
        "outputId": "05f48ffc-36a8-4d42-94e6-e2b896ce6fa3"
      },
      "source": [
        "submission.tail()"
      ],
      "execution_count": null,
      "outputs": [
        {
          "output_type": "execute_result",
          "data": {
            "text/html": [
              "<div>\n",
              "<style scoped>\n",
              "    .dataframe tbody tr th:only-of-type {\n",
              "        vertical-align: middle;\n",
              "    }\n",
              "\n",
              "    .dataframe tbody tr th {\n",
              "        vertical-align: top;\n",
              "    }\n",
              "\n",
              "    .dataframe thead th {\n",
              "        text-align: right;\n",
              "    }\n",
              "</style>\n",
              "<table border=\"1\" class=\"dataframe\">\n",
              "  <thead>\n",
              "    <tr style=\"text-align: right;\">\n",
              "      <th></th>\n",
              "      <th>id</th>\n",
              "      <th>visitors</th>\n",
              "    </tr>\n",
              "  </thead>\n",
              "  <tbody>\n",
              "    <tr>\n",
              "      <th>32014</th>\n",
              "      <td>air_fff68b929994bfbd_2017-05-27</td>\n",
              "      <td>0</td>\n",
              "    </tr>\n",
              "    <tr>\n",
              "      <th>32015</th>\n",
              "      <td>air_fff68b929994bfbd_2017-05-28</td>\n",
              "      <td>0</td>\n",
              "    </tr>\n",
              "    <tr>\n",
              "      <th>32016</th>\n",
              "      <td>air_fff68b929994bfbd_2017-05-29</td>\n",
              "      <td>0</td>\n",
              "    </tr>\n",
              "    <tr>\n",
              "      <th>32017</th>\n",
              "      <td>air_fff68b929994bfbd_2017-05-30</td>\n",
              "      <td>0</td>\n",
              "    </tr>\n",
              "    <tr>\n",
              "      <th>32018</th>\n",
              "      <td>air_fff68b929994bfbd_2017-05-31</td>\n",
              "      <td>0</td>\n",
              "    </tr>\n",
              "  </tbody>\n",
              "</table>\n",
              "</div>"
            ],
            "text/plain": [
              "                                    id  visitors\n",
              "32014  air_fff68b929994bfbd_2017-05-27         0\n",
              "32015  air_fff68b929994bfbd_2017-05-28         0\n",
              "32016  air_fff68b929994bfbd_2017-05-29         0\n",
              "32017  air_fff68b929994bfbd_2017-05-30         0\n",
              "32018  air_fff68b929994bfbd_2017-05-31         0"
            ]
          },
          "metadata": {
            "tags": []
          },
          "execution_count": 85
        }
      ]
    },
    {
      "cell_type": "code",
      "metadata": {
        "id": "qyD_1V2NHUwa"
      },
      "source": [
        "submission_copy = submission.copy()"
      ],
      "execution_count": null,
      "outputs": []
    },
    {
      "cell_type": "code",
      "metadata": {
        "id": "BXo_cDfNgwUC"
      },
      "source": [
        "submission['air_store_id'] = submission['id'].map(lambda x: x[:-11])\n",
        "submission['visit_date'] = submission['id'].map(lambda x: x[-10:])"
      ],
      "execution_count": null,
      "outputs": []
    },
    {
      "cell_type": "code",
      "metadata": {
        "colab": {
          "base_uri": "https://localhost:8080/",
          "height": 408
        },
        "id": "chukMSDDqfEf",
        "outputId": "5b424aa1-bd6e-4828-e7f2-b293e13f3e81"
      },
      "source": [
        "data_look(submission)"
      ],
      "execution_count": null,
      "outputs": [
        {
          "output_type": "display_data",
          "data": {
            "text/html": [
              "<div>\n",
              "<style scoped>\n",
              "    .dataframe tbody tr th:only-of-type {\n",
              "        vertical-align: middle;\n",
              "    }\n",
              "\n",
              "    .dataframe tbody tr th {\n",
              "        vertical-align: top;\n",
              "    }\n",
              "\n",
              "    .dataframe thead th {\n",
              "        text-align: right;\n",
              "    }\n",
              "</style>\n",
              "<table border=\"1\" class=\"dataframe\">\n",
              "  <thead>\n",
              "    <tr style=\"text-align: right;\">\n",
              "      <th></th>\n",
              "      <th>id</th>\n",
              "      <th>visitors</th>\n",
              "      <th>air_store_id</th>\n",
              "      <th>visit_date</th>\n",
              "    </tr>\n",
              "  </thead>\n",
              "  <tbody>\n",
              "    <tr>\n",
              "      <th>32014</th>\n",
              "      <td>air_fff68b929994bfbd_2017-05-27</td>\n",
              "      <td>0</td>\n",
              "      <td>air_fff68b929994bfbd</td>\n",
              "      <td>2017-05-27</td>\n",
              "    </tr>\n",
              "    <tr>\n",
              "      <th>32015</th>\n",
              "      <td>air_fff68b929994bfbd_2017-05-28</td>\n",
              "      <td>0</td>\n",
              "      <td>air_fff68b929994bfbd</td>\n",
              "      <td>2017-05-28</td>\n",
              "    </tr>\n",
              "    <tr>\n",
              "      <th>32016</th>\n",
              "      <td>air_fff68b929994bfbd_2017-05-29</td>\n",
              "      <td>0</td>\n",
              "      <td>air_fff68b929994bfbd</td>\n",
              "      <td>2017-05-29</td>\n",
              "    </tr>\n",
              "    <tr>\n",
              "      <th>32017</th>\n",
              "      <td>air_fff68b929994bfbd_2017-05-30</td>\n",
              "      <td>0</td>\n",
              "      <td>air_fff68b929994bfbd</td>\n",
              "      <td>2017-05-30</td>\n",
              "    </tr>\n",
              "    <tr>\n",
              "      <th>32018</th>\n",
              "      <td>air_fff68b929994bfbd_2017-05-31</td>\n",
              "      <td>0</td>\n",
              "      <td>air_fff68b929994bfbd</td>\n",
              "      <td>2017-05-31</td>\n",
              "    </tr>\n",
              "  </tbody>\n",
              "</table>\n",
              "</div>"
            ],
            "text/plain": [
              "                                    id  ...  visit_date\n",
              "32014  air_fff68b929994bfbd_2017-05-27  ...  2017-05-27\n",
              "32015  air_fff68b929994bfbd_2017-05-28  ...  2017-05-28\n",
              "32016  air_fff68b929994bfbd_2017-05-29  ...  2017-05-29\n",
              "32017  air_fff68b929994bfbd_2017-05-30  ...  2017-05-30\n",
              "32018  air_fff68b929994bfbd_2017-05-31  ...  2017-05-31\n",
              "\n",
              "[5 rows x 4 columns]"
            ]
          },
          "metadata": {
            "tags": []
          }
        },
        {
          "output_type": "stream",
          "text": [
            "\n",
            "id: 32019\n",
            "visitors: 1\n",
            "air_store_id: 821\n",
            "visit_date: 39\n",
            "\n"
          ],
          "name": "stdout"
        },
        {
          "output_type": "display_data",
          "data": {
            "text/plain": [
              "id              0\n",
              "visitors        0\n",
              "air_store_id    0\n",
              "visit_date      0\n",
              "dtype: int64"
            ]
          },
          "metadata": {
            "tags": []
          }
        },
        {
          "output_type": "stream",
          "text": [
            "\n"
          ],
          "name": "stdout"
        }
      ]
    },
    {
      "cell_type": "code",
      "metadata": {
        "colab": {
          "base_uri": "https://localhost:8080/"
        },
        "id": "UiZaC8cBg-nw",
        "outputId": "8b63fd90-f368-4db3-a835-6c6b2a9b3696"
      },
      "source": [
        "submission['visit_date'].agg(['min', 'max'])"
      ],
      "execution_count": null,
      "outputs": [
        {
          "output_type": "execute_result",
          "data": {
            "text/plain": [
              "min    2017-04-23\n",
              "max    2017-05-31\n",
              "Name: visit_date, dtype: object"
            ]
          },
          "metadata": {
            "tags": []
          },
          "execution_count": 94
        }
      ]
    },
    {
      "cell_type": "code",
      "metadata": {
        "id": "FguATUw6dEhs",
        "colab": {
          "base_uri": "https://localhost:8080/"
        },
        "outputId": "7c3df6a7-c836-4cd9-c370-37660a98b91a"
      },
      "source": [
        "submission['air_store_id'].isin(air_visit['air_store_id']).value_counts()"
      ],
      "execution_count": null,
      "outputs": [
        {
          "output_type": "execute_result",
          "data": {
            "text/plain": [
              "True    32019\n",
              "Name: air_store_id, dtype: int64"
            ]
          },
          "metadata": {
            "tags": []
          },
          "execution_count": 95
        }
      ]
    },
    {
      "cell_type": "markdown",
      "metadata": {
        "id": "Nca96mWuk6Hj"
      },
      "source": [
        "# 데이터프레임 합치기"
      ]
    },
    {
      "cell_type": "code",
      "metadata": {
        "colab": {
          "base_uri": "https://localhost:8080/",
          "height": 289
        },
        "id": "cAHBsd1hkttR",
        "outputId": "2ee68649-eaec-40ae-8e77-7d3fe34a58a9"
      },
      "source": [
        "air_data = air_id_reserve.merge(air_store, on='air_store_id')\n",
        "air_data.tail()"
      ],
      "execution_count": null,
      "outputs": [
        {
          "output_type": "execute_result",
          "data": {
            "text/html": [
              "<div>\n",
              "<style scoped>\n",
              "    .dataframe tbody tr th:only-of-type {\n",
              "        vertical-align: middle;\n",
              "    }\n",
              "\n",
              "    .dataframe tbody tr th {\n",
              "        vertical-align: top;\n",
              "    }\n",
              "\n",
              "    .dataframe thead th {\n",
              "        text-align: right;\n",
              "    }\n",
              "</style>\n",
              "<table border=\"1\" class=\"dataframe\">\n",
              "  <thead>\n",
              "    <tr style=\"text-align: right;\">\n",
              "      <th></th>\n",
              "      <th>air_store_id</th>\n",
              "      <th>visit_date</th>\n",
              "      <th>reserve_visitors</th>\n",
              "      <th>air_genre_name</th>\n",
              "      <th>air_area_name</th>\n",
              "      <th>latitude</th>\n",
              "      <th>longitude</th>\n",
              "      <th>air_area</th>\n",
              "    </tr>\n",
              "  </thead>\n",
              "  <tbody>\n",
              "    <tr>\n",
              "      <th>29825</th>\n",
              "      <td>air_fea5dc9594450608</td>\n",
              "      <td>2017-04-22</td>\n",
              "      <td>2</td>\n",
              "      <td>Other</td>\n",
              "      <td>Shizuoka-ken Hamamatsu-shi Motoshirochō</td>\n",
              "      <td>34.710895</td>\n",
              "      <td>137.725940</td>\n",
              "      <td>Shizuoka-ken</td>\n",
              "    </tr>\n",
              "    <tr>\n",
              "      <th>29826</th>\n",
              "      <td>air_fea5dc9594450608</td>\n",
              "      <td>2017-04-25</td>\n",
              "      <td>2</td>\n",
              "      <td>Other</td>\n",
              "      <td>Shizuoka-ken Hamamatsu-shi Motoshirochō</td>\n",
              "      <td>34.710895</td>\n",
              "      <td>137.725940</td>\n",
              "      <td>Shizuoka-ken</td>\n",
              "    </tr>\n",
              "    <tr>\n",
              "      <th>29827</th>\n",
              "      <td>air_fea5dc9594450608</td>\n",
              "      <td>2017-04-28</td>\n",
              "      <td>3</td>\n",
              "      <td>Other</td>\n",
              "      <td>Shizuoka-ken Hamamatsu-shi Motoshirochō</td>\n",
              "      <td>34.710895</td>\n",
              "      <td>137.725940</td>\n",
              "      <td>Shizuoka-ken</td>\n",
              "    </tr>\n",
              "    <tr>\n",
              "      <th>29828</th>\n",
              "      <td>air_fea5dc9594450608</td>\n",
              "      <td>2017-05-20</td>\n",
              "      <td>6</td>\n",
              "      <td>Other</td>\n",
              "      <td>Shizuoka-ken Hamamatsu-shi Motoshirochō</td>\n",
              "      <td>34.710895</td>\n",
              "      <td>137.725940</td>\n",
              "      <td>Shizuoka-ken</td>\n",
              "    </tr>\n",
              "    <tr>\n",
              "      <th>29829</th>\n",
              "      <td>air_fee8dcf4d619598e</td>\n",
              "      <td>2017-01-09</td>\n",
              "      <td>5</td>\n",
              "      <td>Italian/French</td>\n",
              "      <td>Hyōgo-ken Kōbe-shi Kumoidōri</td>\n",
              "      <td>34.695124</td>\n",
              "      <td>135.197852</td>\n",
              "      <td>Hyōgo-ken</td>\n",
              "    </tr>\n",
              "  </tbody>\n",
              "</table>\n",
              "</div>"
            ],
            "text/plain": [
              "               air_store_id  visit_date  ...   longitude      air_area\n",
              "29825  air_fea5dc9594450608  2017-04-22  ...  137.725940  Shizuoka-ken\n",
              "29826  air_fea5dc9594450608  2017-04-25  ...  137.725940  Shizuoka-ken\n",
              "29827  air_fea5dc9594450608  2017-04-28  ...  137.725940  Shizuoka-ken\n",
              "29828  air_fea5dc9594450608  2017-05-20  ...  137.725940  Shizuoka-ken\n",
              "29829  air_fee8dcf4d619598e  2017-01-09  ...  135.197852     Hyōgo-ken\n",
              "\n",
              "[5 rows x 8 columns]"
            ]
          },
          "metadata": {
            "tags": []
          },
          "execution_count": 114
        }
      ]
    },
    {
      "cell_type": "code",
      "metadata": {
        "colab": {
          "base_uri": "https://localhost:8080/",
          "height": 354
        },
        "id": "lr_FaCkEWSpS",
        "outputId": "0e92d5ac-5ddf-4b38-9a8d-d60e6149500e"
      },
      "source": [
        "# 날짜별, 지역별 예약인원 추이\n",
        "air_region_reserve = air_data.groupby(['visit_date', 'air_area'])['reserve_visitors'].sum().reset_index()\n",
        "plt.figure(figsize=(15,5))\n",
        "sns.lineplot(x='visit_date', y='reserve_visitors', hue='air_area', data=air_region_reserve)\n",
        "plt.title('Daily reserve visitors by area (air)')\n",
        "plt.show()"
      ],
      "execution_count": null,
      "outputs": [
        {
          "output_type": "display_data",
          "data": {
            "image/png": "[encoded data removed]",
            "text/plain": [
              "<Figure size 1080x360 with 1 Axes>"
            ]
          },
          "metadata": {
            "tags": []
          }
        }
      ]
    },
    {
      "cell_type": "code",
      "metadata": {
        "colab": {
          "base_uri": "https://localhost:8080/",
          "height": 354
        },
        "id": "ZVB0svKpa8gc",
        "outputId": "a2edf003-1cc6-48ac-8b42-47cab92689de"
      },
      "source": [
        "# 날짜별, 장르별 예약인원 추이\n",
        "air_genre_reserve = air_data.groupby(['visit_date', 'air_genre_name'])['reserve_visitors'].sum().reset_index()\n",
        "plt.figure(figsize=(15,5))\n",
        "sns.lineplot(x='visit_date', y='reserve_visitors', hue='air_genre_name', data=air_genre_reserve)\n",
        "plt.title('Daily reserve visitors by genre (air)')\n",
        "plt.show()"
      ],
      "execution_count": null,
      "outputs": [
        {
          "output_type": "display_data",
          "data": {
            "image/png": "[encoded data removed]",
            "text/plain": [
              "<Figure size 1080x360 with 1 Axes>"
            ]
          },
          "metadata": {
            "tags": []
          }
        }
      ]
    },
    {
      "cell_type": "code",
      "metadata": {
        "colab": {
          "base_uri": "https://localhost:8080/",
          "height": 224
        },
        "id": "27xjlQSIzfvI",
        "outputId": "b5adc9a3-432d-4e37-c794-b85d37f6b216"
      },
      "source": [
        "air_merge = air_visit.merge(air_data, on=['air_store_id', 'visit_date'], how='left')\n",
        "air_merge.tail()"
      ],
      "execution_count": null,
      "outputs": [
        {
          "output_type": "execute_result",
          "data": {
            "text/html": [
              "<div>\n",
              "<style scoped>\n",
              "    .dataframe tbody tr th:only-of-type {\n",
              "        vertical-align: middle;\n",
              "    }\n",
              "\n",
              "    .dataframe tbody tr th {\n",
              "        vertical-align: top;\n",
              "    }\n",
              "\n",
              "    .dataframe thead th {\n",
              "        text-align: right;\n",
              "    }\n",
              "</style>\n",
              "<table border=\"1\" class=\"dataframe\">\n",
              "  <thead>\n",
              "    <tr style=\"text-align: right;\">\n",
              "      <th></th>\n",
              "      <th>air_store_id</th>\n",
              "      <th>visit_date</th>\n",
              "      <th>visitors</th>\n",
              "      <th>reserve_visitors</th>\n",
              "      <th>air_genre_name</th>\n",
              "      <th>air_area_name</th>\n",
              "      <th>latitude</th>\n",
              "      <th>longitude</th>\n",
              "      <th>air_area</th>\n",
              "    </tr>\n",
              "  </thead>\n",
              "  <tbody>\n",
              "    <tr>\n",
              "      <th>252103</th>\n",
              "      <td>air_24e8414b9b07decb</td>\n",
              "      <td>2017-04-18</td>\n",
              "      <td>6</td>\n",
              "      <td>NaN</td>\n",
              "      <td>NaN</td>\n",
              "      <td>NaN</td>\n",
              "      <td>NaN</td>\n",
              "      <td>NaN</td>\n",
              "      <td>NaN</td>\n",
              "    </tr>\n",
              "    <tr>\n",
              "      <th>252104</th>\n",
              "      <td>air_24e8414b9b07decb</td>\n",
              "      <td>2017-04-19</td>\n",
              "      <td>6</td>\n",
              "      <td>NaN</td>\n",
              "      <td>NaN</td>\n",
              "      <td>NaN</td>\n",
              "      <td>NaN</td>\n",
              "      <td>NaN</td>\n",
              "      <td>NaN</td>\n",
              "    </tr>\n",
              "    <tr>\n",
              "      <th>252105</th>\n",
              "      <td>air_24e8414b9b07decb</td>\n",
              "      <td>2017-04-20</td>\n",
              "      <td>7</td>\n",
              "      <td>NaN</td>\n",
              "      <td>NaN</td>\n",
              "      <td>NaN</td>\n",
              "      <td>NaN</td>\n",
              "      <td>NaN</td>\n",
              "      <td>NaN</td>\n",
              "    </tr>\n",
              "    <tr>\n",
              "      <th>252106</th>\n",
              "      <td>air_24e8414b9b07decb</td>\n",
              "      <td>2017-04-21</td>\n",
              "      <td>8</td>\n",
              "      <td>NaN</td>\n",
              "      <td>NaN</td>\n",
              "      <td>NaN</td>\n",
              "      <td>NaN</td>\n",
              "      <td>NaN</td>\n",
              "      <td>NaN</td>\n",
              "    </tr>\n",
              "    <tr>\n",
              "      <th>252107</th>\n",
              "      <td>air_24e8414b9b07decb</td>\n",
              "      <td>2017-04-22</td>\n",
              "      <td>5</td>\n",
              "      <td>NaN</td>\n",
              "      <td>NaN</td>\n",
              "      <td>NaN</td>\n",
              "      <td>NaN</td>\n",
              "      <td>NaN</td>\n",
              "      <td>NaN</td>\n",
              "    </tr>\n",
              "  </tbody>\n",
              "</table>\n",
              "</div>"
            ],
            "text/plain": [
              "                air_store_id  visit_date  ...  longitude  air_area\n",
              "252103  air_24e8414b9b07decb  2017-04-18  ...        NaN       NaN\n",
              "252104  air_24e8414b9b07decb  2017-04-19  ...        NaN       NaN\n",
              "252105  air_24e8414b9b07decb  2017-04-20  ...        NaN       NaN\n",
              "252106  air_24e8414b9b07decb  2017-04-21  ...        NaN       NaN\n",
              "252107  air_24e8414b9b07decb  2017-04-22  ...        NaN       NaN\n",
              "\n",
              "[5 rows x 9 columns]"
            ]
          },
          "metadata": {
            "tags": []
          },
          "execution_count": 125
        }
      ]
    },
    {
      "cell_type": "code",
      "metadata": {
        "colab": {
          "base_uri": "https://localhost:8080/",
          "height": 204
        },
        "id": "Zf7naYhGpK1J",
        "outputId": "68e20e50-6f37-4dcb-89d0-c536e33c97f2"
      },
      "source": [
        "hpg_data = hpg_id_reserve.merge(hpg_store, on='hpg_store_id')\n",
        "hpg_data.tail()"
      ],
      "execution_count": null,
      "outputs": [
        {
          "output_type": "execute_result",
          "data": {
            "text/html": [
              "<div>\n",
              "<style scoped>\n",
              "    .dataframe tbody tr th:only-of-type {\n",
              "        vertical-align: middle;\n",
              "    }\n",
              "\n",
              "    .dataframe tbody tr th {\n",
              "        vertical-align: top;\n",
              "    }\n",
              "\n",
              "    .dataframe thead th {\n",
              "        text-align: right;\n",
              "    }\n",
              "</style>\n",
              "<table border=\"1\" class=\"dataframe\">\n",
              "  <thead>\n",
              "    <tr style=\"text-align: right;\">\n",
              "      <th></th>\n",
              "      <th>hpg_store_id</th>\n",
              "      <th>visit_date</th>\n",
              "      <th>reserve_visitors</th>\n",
              "      <th>hpg_genre_name</th>\n",
              "      <th>hpg_area_name</th>\n",
              "      <th>latitude</th>\n",
              "      <th>longitude</th>\n",
              "      <th>hpg_area</th>\n",
              "    </tr>\n",
              "  </thead>\n",
              "  <tbody>\n",
              "    <tr>\n",
              "      <th>561104</th>\n",
              "      <td>hpg_ffe96ca8c6ec10cf</td>\n",
              "      <td>2017-03-31</td>\n",
              "      <td>8</td>\n",
              "      <td>Italian</td>\n",
              "      <td>Tōkyō-to Chūō-ku None</td>\n",
              "      <td>35.682504</td>\n",
              "      <td>139.773619</td>\n",
              "      <td>Tōkyō-to</td>\n",
              "    </tr>\n",
              "    <tr>\n",
              "      <th>561105</th>\n",
              "      <td>hpg_ffe96ca8c6ec10cf</td>\n",
              "      <td>2017-04-05</td>\n",
              "      <td>4</td>\n",
              "      <td>Italian</td>\n",
              "      <td>Tōkyō-to Chūō-ku None</td>\n",
              "      <td>35.682504</td>\n",
              "      <td>139.773619</td>\n",
              "      <td>Tōkyō-to</td>\n",
              "    </tr>\n",
              "    <tr>\n",
              "      <th>561106</th>\n",
              "      <td>hpg_ffe96ca8c6ec10cf</td>\n",
              "      <td>2017-04-07</td>\n",
              "      <td>11</td>\n",
              "      <td>Italian</td>\n",
              "      <td>Tōkyō-to Chūō-ku None</td>\n",
              "      <td>35.682504</td>\n",
              "      <td>139.773619</td>\n",
              "      <td>Tōkyō-to</td>\n",
              "    </tr>\n",
              "    <tr>\n",
              "      <th>561107</th>\n",
              "      <td>hpg_ffe96ca8c6ec10cf</td>\n",
              "      <td>2017-04-15</td>\n",
              "      <td>3</td>\n",
              "      <td>Italian</td>\n",
              "      <td>Tōkyō-to Chūō-ku None</td>\n",
              "      <td>35.682504</td>\n",
              "      <td>139.773619</td>\n",
              "      <td>Tōkyō-to</td>\n",
              "    </tr>\n",
              "    <tr>\n",
              "      <th>561108</th>\n",
              "      <td>hpg_ffe96ca8c6ec10cf</td>\n",
              "      <td>2017-04-24</td>\n",
              "      <td>16</td>\n",
              "      <td>Italian</td>\n",
              "      <td>Tōkyō-to Chūō-ku None</td>\n",
              "      <td>35.682504</td>\n",
              "      <td>139.773619</td>\n",
              "      <td>Tōkyō-to</td>\n",
              "    </tr>\n",
              "  </tbody>\n",
              "</table>\n",
              "</div>"
            ],
            "text/plain": [
              "                hpg_store_id  visit_date  ...   longitude  hpg_area\n",
              "561104  hpg_ffe96ca8c6ec10cf  2017-03-31  ...  139.773619  Tōkyō-to\n",
              "561105  hpg_ffe96ca8c6ec10cf  2017-04-05  ...  139.773619  Tōkyō-to\n",
              "561106  hpg_ffe96ca8c6ec10cf  2017-04-07  ...  139.773619  Tōkyō-to\n",
              "561107  hpg_ffe96ca8c6ec10cf  2017-04-15  ...  139.773619  Tōkyō-to\n",
              "561108  hpg_ffe96ca8c6ec10cf  2017-04-24  ...  139.773619  Tōkyō-to\n",
              "\n",
              "[5 rows x 8 columns]"
            ]
          },
          "metadata": {
            "tags": []
          },
          "execution_count": 115
        }
      ]
    },
    {
      "cell_type": "code",
      "metadata": {
        "colab": {
          "base_uri": "https://localhost:8080/",
          "height": 394
        },
        "id": "EbVJwtobxhh0",
        "outputId": "21c6d0e7-fd13-4dda-9b0f-3905db83eecd"
      },
      "source": [
        "hpg_merge = store_id.merge(hpg_data, on='hpg_store_id')\n",
        "hpg_merge.tail()"
      ],
      "execution_count": null,
      "outputs": [
        {
          "output_type": "execute_result",
          "data": {
            "text/html": [
              "<div>\n",
              "<style scoped>\n",
              "    .dataframe tbody tr th:only-of-type {\n",
              "        vertical-align: middle;\n",
              "    }\n",
              "\n",
              "    .dataframe tbody tr th {\n",
              "        vertical-align: top;\n",
              "    }\n",
              "\n",
              "    .dataframe thead th {\n",
              "        text-align: right;\n",
              "    }\n",
              "</style>\n",
              "<table border=\"1\" class=\"dataframe\">\n",
              "  <thead>\n",
              "    <tr style=\"text-align: right;\">\n",
              "      <th></th>\n",
              "      <th>air_store_id</th>\n",
              "      <th>hpg_store_id</th>\n",
              "      <th>visit_date</th>\n",
              "      <th>reserve_visitors</th>\n",
              "      <th>hpg_genre_name</th>\n",
              "      <th>hpg_area_name</th>\n",
              "      <th>latitude</th>\n",
              "      <th>longitude</th>\n",
              "      <th>hpg_area</th>\n",
              "    </tr>\n",
              "  </thead>\n",
              "  <tbody>\n",
              "    <tr>\n",
              "      <th>8872</th>\n",
              "      <td>air_465bddfed3353b23</td>\n",
              "      <td>hpg_23c5945dc1a72454</td>\n",
              "      <td>2017-04-10</td>\n",
              "      <td>23</td>\n",
              "      <td>Spain Bar/Italian Bar</td>\n",
              "      <td>Tōkyō-to Shibuya-ku Ebisunishi</td>\n",
              "      <td>35.646745</td>\n",
              "      <td>139.707924</td>\n",
              "      <td>Tōkyō-to</td>\n",
              "    </tr>\n",
              "    <tr>\n",
              "      <th>8873</th>\n",
              "      <td>air_465bddfed3353b23</td>\n",
              "      <td>hpg_23c5945dc1a72454</td>\n",
              "      <td>2017-04-21</td>\n",
              "      <td>8</td>\n",
              "      <td>Spain Bar/Italian Bar</td>\n",
              "      <td>Tōkyō-to Shibuya-ku Ebisunishi</td>\n",
              "      <td>35.646745</td>\n",
              "      <td>139.707924</td>\n",
              "      <td>Tōkyō-to</td>\n",
              "    </tr>\n",
              "    <tr>\n",
              "      <th>8874</th>\n",
              "      <td>air_465bddfed3353b23</td>\n",
              "      <td>hpg_23c5945dc1a72454</td>\n",
              "      <td>2017-04-27</td>\n",
              "      <td>4</td>\n",
              "      <td>Spain Bar/Italian Bar</td>\n",
              "      <td>Tōkyō-to Shibuya-ku Ebisunishi</td>\n",
              "      <td>35.646745</td>\n",
              "      <td>139.707924</td>\n",
              "      <td>Tōkyō-to</td>\n",
              "    </tr>\n",
              "    <tr>\n",
              "      <th>8875</th>\n",
              "      <td>air_465bddfed3353b23</td>\n",
              "      <td>hpg_23c5945dc1a72454</td>\n",
              "      <td>2017-04-28</td>\n",
              "      <td>15</td>\n",
              "      <td>Spain Bar/Italian Bar</td>\n",
              "      <td>Tōkyō-to Shibuya-ku Ebisunishi</td>\n",
              "      <td>35.646745</td>\n",
              "      <td>139.707924</td>\n",
              "      <td>Tōkyō-to</td>\n",
              "    </tr>\n",
              "    <tr>\n",
              "      <th>8876</th>\n",
              "      <td>air_465bddfed3353b23</td>\n",
              "      <td>hpg_23c5945dc1a72454</td>\n",
              "      <td>2017-05-02</td>\n",
              "      <td>2</td>\n",
              "      <td>Spain Bar/Italian Bar</td>\n",
              "      <td>Tōkyō-to Shibuya-ku Ebisunishi</td>\n",
              "      <td>35.646745</td>\n",
              "      <td>139.707924</td>\n",
              "      <td>Tōkyō-to</td>\n",
              "    </tr>\n",
              "  </tbody>\n",
              "</table>\n",
              "</div>"
            ],
            "text/plain": [
              "              air_store_id          hpg_store_id  ...   longitude  hpg_area\n",
              "8872  air_465bddfed3353b23  hpg_23c5945dc1a72454  ...  139.707924  Tōkyō-to\n",
              "8873  air_465bddfed3353b23  hpg_23c5945dc1a72454  ...  139.707924  Tōkyō-to\n",
              "8874  air_465bddfed3353b23  hpg_23c5945dc1a72454  ...  139.707924  Tōkyō-to\n",
              "8875  air_465bddfed3353b23  hpg_23c5945dc1a72454  ...  139.707924  Tōkyō-to\n",
              "8876  air_465bddfed3353b23  hpg_23c5945dc1a72454  ...  139.707924  Tōkyō-to\n",
              "\n",
              "[5 rows x 9 columns]"
            ]
          },
          "metadata": {
            "tags": []
          },
          "execution_count": 118
        }
      ]
    },
    {
      "cell_type": "code",
      "metadata": {
        "colab": {
          "base_uri": "https://localhost:8080/"
        },
        "id": "RvJZ44ot0ALM",
        "outputId": "fdf0a225-30c6-435f-99b2-76710eb3a0e2"
      },
      "source": [
        "hpg_merge['air_store_id'].nunique()"
      ],
      "execution_count": null,
      "outputs": [
        {
          "output_type": "execute_result",
          "data": {
            "text/plain": [
              "63"
            ]
          },
          "metadata": {
            "tags": []
          },
          "execution_count": 126
        }
      ]
    },
    {
      "cell_type": "code",
      "metadata": {
        "colab": {
          "base_uri": "https://localhost:8080/",
          "height": 224
        },
        "id": "9RwG7GTktbc9",
        "outputId": "dbdf2b33-1152-4602-a23e-8de0ec884905"
      },
      "source": [
        "train = air_merge.merge(hpg_merge, on=['air_store_id', 'visit_date'], how='left')\n",
        "train.tail()"
      ],
      "execution_count": null,
      "outputs": [
        {
          "output_type": "execute_result",
          "data": {
            "text/html": [
              "<div>\n",
              "<style scoped>\n",
              "    .dataframe tbody tr th:only-of-type {\n",
              "        vertical-align: middle;\n",
              "    }\n",
              "\n",
              "    .dataframe tbody tr th {\n",
              "        vertical-align: top;\n",
              "    }\n",
              "\n",
              "    .dataframe thead th {\n",
              "        text-align: right;\n",
              "    }\n",
              "</style>\n",
              "<table border=\"1\" class=\"dataframe\">\n",
              "  <thead>\n",
              "    <tr style=\"text-align: right;\">\n",
              "      <th></th>\n",
              "      <th>air_store_id</th>\n",
              "      <th>visit_date</th>\n",
              "      <th>visitors</th>\n",
              "      <th>reserve_visitors_x</th>\n",
              "      <th>air_genre_name</th>\n",
              "      <th>air_area_name</th>\n",
              "      <th>latitude_x</th>\n",
              "      <th>longitude_x</th>\n",
              "      <th>air_area</th>\n",
              "      <th>hpg_store_id</th>\n",
              "      <th>reserve_visitors_y</th>\n",
              "      <th>hpg_genre_name</th>\n",
              "      <th>hpg_area_name</th>\n",
              "      <th>latitude_y</th>\n",
              "      <th>longitude_y</th>\n",
              "      <th>hpg_area</th>\n",
              "    </tr>\n",
              "  </thead>\n",
              "  <tbody>\n",
              "    <tr>\n",
              "      <th>252103</th>\n",
              "      <td>air_24e8414b9b07decb</td>\n",
              "      <td>2017-04-18</td>\n",
              "      <td>6</td>\n",
              "      <td>NaN</td>\n",
              "      <td>NaN</td>\n",
              "      <td>NaN</td>\n",
              "      <td>NaN</td>\n",
              "      <td>NaN</td>\n",
              "      <td>NaN</td>\n",
              "      <td>NaN</td>\n",
              "      <td>NaN</td>\n",
              "      <td>NaN</td>\n",
              "      <td>NaN</td>\n",
              "      <td>NaN</td>\n",
              "      <td>NaN</td>\n",
              "      <td>NaN</td>\n",
              "    </tr>\n",
              "    <tr>\n",
              "      <th>252104</th>\n",
              "      <td>air_24e8414b9b07decb</td>\n",
              "      <td>2017-04-19</td>\n",
              "      <td>6</td>\n",
              "      <td>NaN</td>\n",
              "      <td>NaN</td>\n",
              "      <td>NaN</td>\n",
              "      <td>NaN</td>\n",
              "      <td>NaN</td>\n",
              "      <td>NaN</td>\n",
              "      <td>NaN</td>\n",
              "      <td>NaN</td>\n",
              "      <td>NaN</td>\n",
              "      <td>NaN</td>\n",
              "      <td>NaN</td>\n",
              "      <td>NaN</td>\n",
              "      <td>NaN</td>\n",
              "    </tr>\n",
              "    <tr>\n",
              "      <th>252105</th>\n",
              "      <td>air_24e8414b9b07decb</td>\n",
              "      <td>2017-04-20</td>\n",
              "      <td>7</td>\n",
              "      <td>NaN</td>\n",
              "      <td>NaN</td>\n",
              "      <td>NaN</td>\n",
              "      <td>NaN</td>\n",
              "      <td>NaN</td>\n",
              "      <td>NaN</td>\n",
              "      <td>NaN</td>\n",
              "      <td>NaN</td>\n",
              "      <td>NaN</td>\n",
              "      <td>NaN</td>\n",
              "      <td>NaN</td>\n",
              "      <td>NaN</td>\n",
              "      <td>NaN</td>\n",
              "    </tr>\n",
              "    <tr>\n",
              "      <th>252106</th>\n",
              "      <td>air_24e8414b9b07decb</td>\n",
              "      <td>2017-04-21</td>\n",
              "      <td>8</td>\n",
              "      <td>NaN</td>\n",
              "      <td>NaN</td>\n",
              "      <td>NaN</td>\n",
              "      <td>NaN</td>\n",
              "      <td>NaN</td>\n",
              "      <td>NaN</td>\n",
              "      <td>NaN</td>\n",
              "      <td>NaN</td>\n",
              "      <td>NaN</td>\n",
              "      <td>NaN</td>\n",
              "      <td>NaN</td>\n",
              "      <td>NaN</td>\n",
              "      <td>NaN</td>\n",
              "    </tr>\n",
              "    <tr>\n",
              "      <th>252107</th>\n",
              "      <td>air_24e8414b9b07decb</td>\n",
              "      <td>2017-04-22</td>\n",
              "      <td>5</td>\n",
              "      <td>NaN</td>\n",
              "      <td>NaN</td>\n",
              "      <td>NaN</td>\n",
              "      <td>NaN</td>\n",
              "      <td>NaN</td>\n",
              "      <td>NaN</td>\n",
              "      <td>NaN</td>\n",
              "      <td>NaN</td>\n",
              "      <td>NaN</td>\n",
              "      <td>NaN</td>\n",
              "      <td>NaN</td>\n",
              "      <td>NaN</td>\n",
              "      <td>NaN</td>\n",
              "    </tr>\n",
              "  </tbody>\n",
              "</table>\n",
              "</div>"
            ],
            "text/plain": [
              "                air_store_id  visit_date  ...  longitude_y  hpg_area\n",
              "252103  air_24e8414b9b07decb  2017-04-18  ...          NaN       NaN\n",
              "252104  air_24e8414b9b07decb  2017-04-19  ...          NaN       NaN\n",
              "252105  air_24e8414b9b07decb  2017-04-20  ...          NaN       NaN\n",
              "252106  air_24e8414b9b07decb  2017-04-21  ...          NaN       NaN\n",
              "252107  air_24e8414b9b07decb  2017-04-22  ...          NaN       NaN\n",
              "\n",
              "[5 rows x 16 columns]"
            ]
          },
          "metadata": {
            "tags": []
          },
          "execution_count": 127
        }
      ]
    }
  ]
}